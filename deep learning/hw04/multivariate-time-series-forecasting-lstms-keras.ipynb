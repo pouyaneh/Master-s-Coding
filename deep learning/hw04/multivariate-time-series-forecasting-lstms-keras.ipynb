{
 "cells": [
  {
   "cell_type": "code",
   "execution_count": 10,
   "id": "a9728dfc",
   "metadata": {},
   "outputs": [],
   "source": [
    "from math import sqrt\n",
    "from numpy import concatenate\n",
    "from matplotlib import pyplot\n",
    "from pandas import read_csv\n",
    "from pandas import DataFrame\n",
    "from pandas import concat\n",
    "from sklearn.preprocessing import MinMaxScaler\n",
    "from sklearn.preprocessing import LabelEncoder\n",
    "from sklearn.metrics import mean_squared_error\n",
    "from keras.models import Sequential\n",
    "from keras.layers import Dense\n",
    "from keras.layers import LSTM"
   ]
  },
  {
   "cell_type": "code",
   "execution_count": 11,
   "id": "3bad4ced",
   "metadata": {},
   "outputs": [],
   "source": [
    "# convert series to supervised learning\n",
    "def series_to_supervised(data, n_in=1, n_out=1, dropnan=True):\n",
    "\tn_vars = 1 if type(data) is list else data.shape[1]\n",
    "\tdf = DataFrame(data)\n",
    "\tcols, names = list(), list()\n",
    "\t# input sequence (t-n, ... t-1)\n",
    "\tfor i in range(n_in, 0, -1):\n",
    "\t\tcols.append(df.shift(i))\n",
    "\t\tnames += [('var%d(t-%d)' % (j+1, i)) for j in range(n_vars)]\n",
    "\t# forecast sequence (t, t+1, ... t+n)\n",
    "\tfor i in range(0, n_out):\n",
    "\t\tcols.append(df.shift(-i))\n",
    "\t\tif i == 0:\n",
    "\t\t\tnames += [('var%d(t)' % (j+1)) for j in range(n_vars)]\n",
    "\t\telse:\n",
    "\t\t\tnames += [('var%d(t+%d)' % (j+1, i)) for j in range(n_vars)]\n",
    "\t# put it all together\n",
    "\tagg = concat(cols, axis=1)\n",
    "\tagg.columns = names\n",
    "\t# drop rows with NaN values\n",
    "\tif dropnan:\n",
    "\t\tagg.dropna(inplace=True)\n",
    "\treturn agg"
   ]
  },
  {
   "cell_type": "code",
   "execution_count": 12,
   "id": "a79f7378",
   "metadata": {},
   "outputs": [],
   "source": [
    "# load dataset\n",
    "dataset = read_csv('pollution.csv', header=0, index_col=0)\n",
    "values = dataset.values"
   ]
  },
  {
   "cell_type": "code",
   "execution_count": 22,
   "id": "3364e0dc",
   "metadata": {},
   "outputs": [],
   "source": [
    "# integer encode direction\n",
    "encoder = LabelEncoder()\n",
    "values[:, 4] = encoder.fit_transform(values[:, 4])\n",
    "values[:, 8] = encoder.fit_transform(values[:, 8])"
   ]
  },
  {
   "cell_type": "code",
   "execution_count": 24,
   "id": "40389c36",
   "metadata": {},
   "outputs": [],
   "source": [
    "# ensure all data is float\n",
    "values = values.astype('float32')"
   ]
  },
  {
   "cell_type": "code",
   "execution_count": 25,
   "id": "ceee74fb",
   "metadata": {},
   "outputs": [],
   "source": [
    "# normalize features\n",
    "scaler = MinMaxScaler(feature_range=(0, 1))\n",
    "scaled = scaler.fit_transform(values)"
   ]
  },
  {
   "cell_type": "code",
   "execution_count": 26,
   "id": "b44a6da4",
   "metadata": {},
   "outputs": [],
   "source": [
    "# specify the number of lag hours\n",
    "n_hours = 3\n",
    "n_features = 8"
   ]
  },
  {
   "cell_type": "code",
   "execution_count": 27,
   "id": "f9d6bdae",
   "metadata": {},
   "outputs": [
    {
     "name": "stdout",
     "output_type": "stream",
     "text": [
      "(43821, 48)\n"
     ]
    }
   ],
   "source": [
    "# frame as supervised learning\n",
    "reframed = series_to_supervised(scaled, n_hours, 1)\n",
    "print(reframed.shape)"
   ]
  },
  {
   "cell_type": "code",
   "execution_count": 28,
   "id": "6161384a",
   "metadata": {},
   "outputs": [],
   "source": [
    "# split into train and test sets\n",
    "values = reframed.values\n",
    "n_train_hours = 365 * 24\n",
    "train = values[:n_train_hours, :]\n",
    "test = values[n_train_hours:, :]"
   ]
  },
  {
   "cell_type": "code",
   "execution_count": 29,
   "id": "18c72472",
   "metadata": {},
   "outputs": [
    {
     "name": "stdout",
     "output_type": "stream",
     "text": [
      "(8760, 24) 8760 (8760,)\n"
     ]
    }
   ],
   "source": [
    "# split into input and outputs\n",
    "n_obs = n_hours * n_features\n",
    "train_X, train_y = train[:, :n_obs], train[:, -n_features]\n",
    "test_X, test_y = test[:, :n_obs], test[:, -n_features]\n",
    "print(train_X.shape, len(train_X), train_y.shape)"
   ]
  },
  {
   "cell_type": "code",
   "execution_count": 30,
   "id": "ac35d864",
   "metadata": {},
   "outputs": [
    {
     "name": "stdout",
     "output_type": "stream",
     "text": [
      "(8760, 3, 8) (8760,) (35061, 3, 8) (35061,)\n"
     ]
    }
   ],
   "source": [
    "# reshape input to be 3D [samples, timesteps, features]\n",
    "train_X = train_X.reshape((train_X.shape[0], n_hours, n_features))\n",
    "test_X = test_X.reshape((test_X.shape[0], n_hours, n_features))\n",
    "print(train_X.shape, train_y.shape, test_X.shape, test_y.shape)"
   ]
  },
  {
   "cell_type": "code",
   "execution_count": 31,
   "id": "c65a92b1",
   "metadata": {},
   "outputs": [
    {
     "name": "stderr",
     "output_type": "stream",
     "text": [
      "c:\\Users\\pouya\\anaconda3\\Lib\\site-packages\\keras\\src\\layers\\rnn\\rnn.py:200: UserWarning: Do not pass an `input_shape`/`input_dim` argument to a layer. When using Sequential models, prefer using an `Input(shape)` object as the first layer in the model instead.\n",
      "  super().__init__(**kwargs)\n"
     ]
    }
   ],
   "source": [
    "# design network\n",
    "model = Sequential()\n",
    "model.add(LSTM(50, input_shape=(train_X.shape[1], train_X.shape[2])))\n",
    "model.add(Dense(1))\n",
    "model.compile(loss='mae', optimizer='adam')"
   ]
  },
  {
   "cell_type": "code",
   "execution_count": 32,
   "id": "00b482cf",
   "metadata": {},
   "outputs": [
    {
     "name": "stdout",
     "output_type": "stream",
     "text": [
      "Epoch 1/50\n",
      "122/122 - 2s - 18ms/step - loss: 0.1278 - val_loss: 0.2861\n",
      "Epoch 2/50\n",
      "122/122 - 1s - 6ms/step - loss: 0.0911 - val_loss: 0.2888\n",
      "Epoch 3/50\n",
      "122/122 - 1s - 6ms/step - loss: 0.0562 - val_loss: 0.2689\n",
      "Epoch 4/50\n",
      "122/122 - 1s - 6ms/step - loss: 0.0532 - val_loss: 0.2499\n",
      "Epoch 5/50\n",
      "122/122 - 1s - 6ms/step - loss: 0.0528 - val_loss: 0.2151\n",
      "Epoch 6/50\n",
      "122/122 - 1s - 6ms/step - loss: 0.0509 - val_loss: 0.1929\n",
      "Epoch 7/50\n",
      "122/122 - 1s - 6ms/step - loss: 0.0503 - val_loss: 0.1901\n",
      "Epoch 8/50\n",
      "122/122 - 1s - 5ms/step - loss: 0.0501 - val_loss: 0.1716\n",
      "Epoch 9/50\n",
      "122/122 - 1s - 6ms/step - loss: 0.0492 - val_loss: 0.1622\n",
      "Epoch 10/50\n",
      "122/122 - 1s - 6ms/step - loss: 0.0498 - val_loss: 0.1596\n",
      "Epoch 11/50\n",
      "122/122 - 1s - 6ms/step - loss: 0.0492 - val_loss: 0.1432\n",
      "Epoch 12/50\n",
      "122/122 - 1s - 6ms/step - loss: 0.0482 - val_loss: 0.1381\n",
      "Epoch 13/50\n",
      "122/122 - 1s - 6ms/step - loss: 0.0482 - val_loss: 0.1275\n",
      "Epoch 14/50\n",
      "122/122 - 1s - 5ms/step - loss: 0.0476 - val_loss: 0.1138\n",
      "Epoch 15/50\n",
      "122/122 - 1s - 6ms/step - loss: 0.0475 - val_loss: 0.1142\n",
      "Epoch 16/50\n",
      "122/122 - 1s - 6ms/step - loss: 0.0471 - val_loss: 0.1028\n",
      "Epoch 17/50\n",
      "122/122 - 1s - 6ms/step - loss: 0.0466 - val_loss: 0.0938\n",
      "Epoch 18/50\n",
      "122/122 - 1s - 6ms/step - loss: 0.0468 - val_loss: 0.0933\n",
      "Epoch 19/50\n",
      "122/122 - 1s - 6ms/step - loss: 0.0465 - val_loss: 0.0892\n",
      "Epoch 20/50\n",
      "122/122 - 1s - 6ms/step - loss: 0.0460 - val_loss: 0.0785\n",
      "Epoch 21/50\n",
      "122/122 - 1s - 6ms/step - loss: 0.0461 - val_loss: 0.0775\n",
      "Epoch 22/50\n",
      "122/122 - 1s - 6ms/step - loss: 0.0457 - val_loss: 0.0742\n",
      "Epoch 23/50\n",
      "122/122 - 1s - 7ms/step - loss: 0.0457 - val_loss: 0.0670\n",
      "Epoch 24/50\n",
      "122/122 - 1s - 6ms/step - loss: 0.0454 - val_loss: 0.0679\n",
      "Epoch 25/50\n",
      "122/122 - 1s - 6ms/step - loss: 0.0452 - val_loss: 0.0641\n",
      "Epoch 26/50\n",
      "122/122 - 1s - 6ms/step - loss: 0.0452 - val_loss: 0.0585\n",
      "Epoch 27/50\n",
      "122/122 - 1s - 6ms/step - loss: 0.0450 - val_loss: 0.0598\n",
      "Epoch 28/50\n",
      "122/122 - 1s - 6ms/step - loss: 0.0444 - val_loss: 0.0570\n",
      "Epoch 29/50\n",
      "122/122 - 1s - 6ms/step - loss: 0.0445 - val_loss: 0.0506\n",
      "Epoch 30/50\n",
      "122/122 - 1s - 6ms/step - loss: 0.0445 - val_loss: 0.0489\n",
      "Epoch 31/50\n",
      "122/122 - 1s - 6ms/step - loss: 0.0446 - val_loss: 0.0522\n",
      "Epoch 32/50\n",
      "122/122 - 1s - 6ms/step - loss: 0.0439 - val_loss: 0.0468\n",
      "Epoch 33/50\n",
      "122/122 - 1s - 6ms/step - loss: 0.0445 - val_loss: 0.0478\n",
      "Epoch 34/50\n",
      "122/122 - 1s - 6ms/step - loss: 0.0437 - val_loss: 0.0484\n",
      "Epoch 35/50\n",
      "122/122 - 1s - 7ms/step - loss: 0.0435 - val_loss: 0.0471\n",
      "Epoch 36/50\n",
      "122/122 - 1s - 6ms/step - loss: 0.0439 - val_loss: 0.0494\n",
      "Epoch 37/50\n",
      "122/122 - 1s - 6ms/step - loss: 0.0442 - val_loss: 0.0484\n",
      "Epoch 38/50\n",
      "122/122 - 1s - 7ms/step - loss: 0.0441 - val_loss: 0.0478\n",
      "Epoch 39/50\n",
      "122/122 - 1s - 6ms/step - loss: 0.0442 - val_loss: 0.0481\n",
      "Epoch 40/50\n",
      "122/122 - 1s - 6ms/step - loss: 0.0440 - val_loss: 0.0478\n",
      "Epoch 41/50\n",
      "122/122 - 1s - 6ms/step - loss: 0.0432 - val_loss: 0.0535\n",
      "Epoch 42/50\n",
      "122/122 - 1s - 6ms/step - loss: 0.0445 - val_loss: 0.0482\n",
      "Epoch 43/50\n",
      "122/122 - 1s - 6ms/step - loss: 0.0441 - val_loss: 0.0487\n",
      "Epoch 44/50\n",
      "122/122 - 1s - 6ms/step - loss: 0.0445 - val_loss: 0.0491\n",
      "Epoch 45/50\n",
      "122/122 - 1s - 6ms/step - loss: 0.0438 - val_loss: 0.0488\n",
      "Epoch 46/50\n",
      "122/122 - 1s - 6ms/step - loss: 0.0433 - val_loss: 0.0550\n",
      "Epoch 47/50\n",
      "122/122 - 1s - 6ms/step - loss: 0.0450 - val_loss: 0.0508\n",
      "Epoch 48/50\n",
      "122/122 - 1s - 6ms/step - loss: 0.0434 - val_loss: 0.0502\n",
      "Epoch 49/50\n",
      "122/122 - 1s - 6ms/step - loss: 0.0434 - val_loss: 0.0521\n",
      "Epoch 50/50\n",
      "122/122 - 1s - 6ms/step - loss: 0.0441 - val_loss: 0.0493\n"
     ]
    }
   ],
   "source": [
    "# fit network\n",
    "history = model.fit(train_X, train_y, epochs=50, batch_size=72, validation_data=(test_X, test_y), verbose=2, shuffle=False)"
   ]
  },
  {
   "cell_type": "code",
   "execution_count": 33,
   "id": "63ceee32",
   "metadata": {},
   "outputs": [
    {
     "data": {
      "image/png": "[encoded data removed]",
      "text/plain": [
       "<Figure size 640x480 with 1 Axes>"
      ]
     },
     "metadata": {},
     "output_type": "display_data"
    }
   ],
   "source": [
    "# plot history\n",
    "pyplot.plot(history.history['loss'], label='train')\n",
    "pyplot.plot(history.history['val_loss'], label='test')\n",
    "pyplot.legend()\n",
    "pyplot.show()"
   ]
  },
  {
   "cell_type": "code",
   "execution_count": 34,
   "id": "77004ffd",
   "metadata": {},
   "outputs": [
    {
     "name": "stdout",
     "output_type": "stream",
     "text": [
      "\u001b[1m1096/1096\u001b[0m \u001b[32m━━━━━━━━━━━━━━━━━━━━\u001b[0m\u001b[37m\u001b[0m \u001b[1m1s\u001b[0m 819us/step\n"
     ]
    }
   ],
   "source": [
    "# make a prediction\n",
    "yhat = model.predict(test_X)\n",
    "test_X = test_X.reshape((test_X.shape[0], n_hours*n_features))"
   ]
  },
  {
   "cell_type": "code",
   "execution_count": 36,
   "id": "4a6f7c8d",
   "metadata": {},
   "outputs": [
    {
     "name": "stdout",
     "output_type": "stream",
     "text": [
      "(35061, 1)\n",
      "(35061, 7)\n"
     ]
    }
   ],
   "source": [
    "print(yhat.shape)\n",
    "print(test_X[:, -7:].shape)"
   ]
  },
  {
   "cell_type": "code",
   "execution_count": null,
   "id": "fe9f6a26",
   "metadata": {},
   "outputs": [],
   "source": [
    "# invert scaling for forecast\n",
    "inv_yhat = concatenate((yhat, test_X[:, -7:]), axis=1)\n",
    "inv_yhat = inv_yhat.reshape(-1, scaler.scale_.shape[0])  \n",
    "inv_yhat = scaler.inverse_transform(inv_yhat)\n",
    "inv_yhat = inv_yhat[:, 0]"
   ]
  },
  {
   "cell_type": "code",
   "execution_count": 43,
   "id": "1c838015",
   "metadata": {},
   "outputs": [],
   "source": [
    "# invert scaling for actual\n",
    "test_y = test_y.reshape((len(test_y), 1))\n",
    "inv_y = concatenate((test_y, test_X[:, -7:]), axis=1)\n",
    "inv_y = inv_y.reshape(-1, scaler.scale_.shape[0])  \n",
    "inv_y = scaler.inverse_transform(inv_y)\n",
    "inv_y = inv_y[:,0]"
   ]
  },
  {
   "cell_type": "code",
   "execution_count": 44,
   "id": "eada5408",
   "metadata": {},
   "outputs": [
    {
     "name": "stdout",
     "output_type": "stream",
     "text": [
      "Test RMSE: 0.342\n"
     ]
    }
   ],
   "source": [
    "# calculate RMSE\n",
    "rmse = sqrt(mean_squared_error(inv_y, inv_yhat))\n",
    "print('Test RMSE: %.3f' % rmse)"
   ]
  }
 ],
 "metadata": {
  "kernelspec": {
   "display_name": "base",
   "language": "python",
   "name": "python3"
  },
  "language_info": {
   "codemirror_mode": {
    "name": "ipython",
    "version": 3
   },
   "file_extension": ".py",
   "mimetype": "text/x-python",
   "name": "python",
   "nbconvert_exporter": "python",
   "pygments_lexer": "ipython3",
   "version": "3.12.7"
  }
 },
 "nbformat": 4,
 "nbformat_minor": 5
}
