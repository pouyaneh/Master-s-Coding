{
 "cells": [
  {
   "cell_type": "markdown",
   "id": "2db5fb1c",
   "metadata": {},
   "source": [
    "### Processing words as a sequence: The sequence model approach"
   ]
  },
  {
   "cell_type": "markdown",
   "id": "70001c9d",
   "metadata": {},
   "source": [
    "#### A first practical example"
   ]
  },
  {
   "cell_type": "markdown",
   "id": "ce1cfeb7",
   "metadata": {},
   "source": [
    "**Downloading the data**"
   ]
  },
  {
   "cell_type": "code",
   "execution_count": null,
   "id": "7e746a71",
   "metadata": {},
   "outputs": [],
   "source": [
    "!curl -O https://ai.stanford.edu/~amaas/data/sentiment/aclImdb_v1.tar.gz\n",
    "!tar -xf aclImdb_v1.tar.gz\n",
    "!rm -r aclImdb/train/unsup"
   ]
  }
 ],
 "metadata": {
  "language_info": {
   "name": "python"
  }
 },
 "nbformat": 4,
 "nbformat_minor": 5
}
