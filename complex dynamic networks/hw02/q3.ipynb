{
 "cells": [
  {
   "cell_type": "code",
   "execution_count": 1,
   "id": "0c0e2b7b",
   "metadata": {},
   "outputs": [],
   "source": [
    "import networkx as nx\n",
    "import pandas as pd\n",
    "import numpy as np"
   ]
  },
  {
   "cell_type": "code",
   "execution_count": 4,
   "id": "2eefdf7a",
   "metadata": {},
   "outputs": [],
   "source": [
    "import gzip\n",
    "\n",
    "path = 'data/ca-HepTh/ca-HepTh.txt.gz'\n",
    "\n",
    "# خواندن مستقیم فایل gz شده\n",
    "with gzip.open(path, \"rt\") as f:\n",
    "    G_ca = nx.read_edgelist(f, comments=\"#\", delimiter=\"\\t\")"
   ]
  },
  {
   "cell_type": "code",
   "execution_count": 5,
   "id": "92a921d8",
   "metadata": {},
   "outputs": [],
   "source": [
    "# لیست گراف‌های واقعی برای تحلیل\n",
    "# بارگذاری گراف‌ها\n",
    "graphs_real = [\n",
    "    (\"Karate Club\", nx.karate_club_graph()),                     # شبکه اجتماعی باشگاه کاراته\n",
    "    (\"Les Miserables\", nx.les_miserables_graph()),              # شبکه شخصیت‌های داستان بینوایان\n",
    "    (\"Florentine Families\", nx.florentine_families_graph()),    # خانواده‌های فلورانس\n",
    "    (\"CA-HepTh\", G_ca)  # همکاری علمی\n",
    "]"
   ]
  },
  {
   "cell_type": "code",
   "execution_count": 6,
   "id": "1241bc9b",
   "metadata": {},
   "outputs": [],
   "source": [
    "# ذخیره اطلاعات جدول\n",
    "table_a = []"
   ]
  },
  {
   "cell_type": "code",
   "execution_count": 7,
   "id": "b959a96d",
   "metadata": {},
   "outputs": [],
   "source": [
    "# محاسبه پارامترها\n",
    "for name, G in graphs_real:\n",
    "    N = G.number_of_nodes()\n",
    "    L = G.number_of_edges()\n",
    "    avg_k = sum(dict(G.degree()).values()) / N\n",
    "    ln_N = round(np.log(N), 2)\n",
    "\n",
    "    table_a.append({\n",
    "        \"network\": name,\n",
    "        \"N\": N,\n",
    "        \"L\": L,\n",
    "        \"<k>\": round(avg_k, 2),\n",
    "        \"ln(N)\": ln_N\n",
    "    })"
   ]
  },
  {
   "cell_type": "code",
   "execution_count": 8,
   "id": "9734b339",
   "metadata": {},
   "outputs": [
    {
     "name": "stdout",
     "output_type": "stream",
     "text": [
      "📊 جدول بخش (الف):\n"
     ]
    },
    {
     "data": {
      "text/html": [
       "<div>\n",
       "<style scoped>\n",
       "    .dataframe tbody tr th:only-of-type {\n",
       "        vertical-align: middle;\n",
       "    }\n",
       "\n",
       "    .dataframe tbody tr th {\n",
       "        vertical-align: top;\n",
       "    }\n",
       "\n",
       "    .dataframe thead th {\n",
       "        text-align: right;\n",
       "    }\n",
       "</style>\n",
       "<table border=\"1\" class=\"dataframe\">\n",
       "  <thead>\n",
       "    <tr style=\"text-align: right;\">\n",
       "      <th></th>\n",
       "      <th>network</th>\n",
       "      <th>N</th>\n",
       "      <th>L</th>\n",
       "      <th>&lt;k&gt;</th>\n",
       "      <th>ln(N)</th>\n",
       "    </tr>\n",
       "  </thead>\n",
       "  <tbody>\n",
       "    <tr>\n",
       "      <th>0</th>\n",
       "      <td>Karate Club</td>\n",
       "      <td>34</td>\n",
       "      <td>78</td>\n",
       "      <td>4.59</td>\n",
       "      <td>3.53</td>\n",
       "    </tr>\n",
       "    <tr>\n",
       "      <th>1</th>\n",
       "      <td>Les Miserables</td>\n",
       "      <td>77</td>\n",
       "      <td>254</td>\n",
       "      <td>6.60</td>\n",
       "      <td>4.34</td>\n",
       "    </tr>\n",
       "    <tr>\n",
       "      <th>2</th>\n",
       "      <td>Florentine Families</td>\n",
       "      <td>15</td>\n",
       "      <td>20</td>\n",
       "      <td>2.67</td>\n",
       "      <td>2.71</td>\n",
       "    </tr>\n",
       "    <tr>\n",
       "      <th>3</th>\n",
       "      <td>CA-HepTh</td>\n",
       "      <td>9877</td>\n",
       "      <td>25998</td>\n",
       "      <td>5.26</td>\n",
       "      <td>9.20</td>\n",
       "    </tr>\n",
       "  </tbody>\n",
       "</table>\n",
       "</div>"
      ],
      "text/plain": [
       "               network     N      L   <k>  ln(N)\n",
       "0          Karate Club    34     78  4.59   3.53\n",
       "1       Les Miserables    77    254  6.60   4.34\n",
       "2  Florentine Families    15     20  2.67   2.71\n",
       "3             CA-HepTh  9877  25998  5.26   9.20"
      ]
     },
     "execution_count": 8,
     "metadata": {},
     "output_type": "execute_result"
    }
   ],
   "source": [
    "# تبدیل به دیتافریم و نمایش\n",
    "df_a = pd.DataFrame(table_a)\n",
    "print(\"📊 جدول بخش (الف):\")\n",
    "df_a"
   ]
  },
  {
   "cell_type": "code",
   "execution_count": 9,
   "id": "5ba9a451",
   "metadata": {},
   "outputs": [],
   "source": [
    "# لیست برای ذخیره نتایج\n",
    "table_b = []"
   ]
  },
  {
   "cell_type": "code",
   "execution_count": 10,
   "id": "e34a4b16",
   "metadata": {},
   "outputs": [],
   "source": [
    "# تحلیل گراف‌ها\n",
    "for name, G in graphs_real:\n",
    "    N = G.number_of_nodes()\n",
    "    L = G.number_of_edges()\n",
    "    k_avg = sum(dict(G.degree()).values()) / N\n",
    "    lnN_lnk = round(np.log(N) / np.log(k_avg), 2)\n",
    "\n",
    "    # بررسی اتصال\n",
    "    if nx.is_connected(G):\n",
    "        d_avg = round(nx.average_shortest_path_length(G), 3)\n",
    "        d_max = nx.diameter(G)\n",
    "    else:\n",
    "        # استفاده از بزرگترین component\n",
    "        Gc = G.subgraph(max(nx.connected_components(G), key=len)).copy()\n",
    "        d_avg = round(nx.average_shortest_path_length(Gc), 3)\n",
    "        d_max = nx.diameter(Gc)\n",
    "\n",
    "    table_b.append({\n",
    "        \"network\": name,\n",
    "        \"N\": N,\n",
    "        \"L\": L,\n",
    "        \"<k>\": round(k_avg, 2),\n",
    "        \"<d>\": d_avg,\n",
    "        \"dmax\": d_max,\n",
    "        \"ln(N)/ln(k)\": lnN_lnk\n",
    "    })\n"
   ]
  },
  {
   "cell_type": "code",
   "execution_count": 11,
   "id": "875a7214",
   "metadata": {},
   "outputs": [
    {
     "name": "stdout",
     "output_type": "stream",
     "text": [
      "📊 جدول بخش (ب):\n"
     ]
    },
    {
     "data": {
      "text/html": [
       "<div>\n",
       "<style scoped>\n",
       "    .dataframe tbody tr th:only-of-type {\n",
       "        vertical-align: middle;\n",
       "    }\n",
       "\n",
       "    .dataframe tbody tr th {\n",
       "        vertical-align: top;\n",
       "    }\n",
       "\n",
       "    .dataframe thead th {\n",
       "        text-align: right;\n",
       "    }\n",
       "</style>\n",
       "<table border=\"1\" class=\"dataframe\">\n",
       "  <thead>\n",
       "    <tr style=\"text-align: right;\">\n",
       "      <th></th>\n",
       "      <th>network</th>\n",
       "      <th>N</th>\n",
       "      <th>L</th>\n",
       "      <th>&lt;k&gt;</th>\n",
       "      <th>&lt;d&gt;</th>\n",
       "      <th>dmax</th>\n",
       "      <th>ln(N)/ln(k)</th>\n",
       "    </tr>\n",
       "  </thead>\n",
       "  <tbody>\n",
       "    <tr>\n",
       "      <th>0</th>\n",
       "      <td>Karate Club</td>\n",
       "      <td>34</td>\n",
       "      <td>78</td>\n",
       "      <td>4.59</td>\n",
       "      <td>2.408</td>\n",
       "      <td>5</td>\n",
       "      <td>2.31</td>\n",
       "    </tr>\n",
       "    <tr>\n",
       "      <th>1</th>\n",
       "      <td>Les Miserables</td>\n",
       "      <td>77</td>\n",
       "      <td>254</td>\n",
       "      <td>6.60</td>\n",
       "      <td>2.641</td>\n",
       "      <td>5</td>\n",
       "      <td>2.30</td>\n",
       "    </tr>\n",
       "    <tr>\n",
       "      <th>2</th>\n",
       "      <td>Florentine Families</td>\n",
       "      <td>15</td>\n",
       "      <td>20</td>\n",
       "      <td>2.67</td>\n",
       "      <td>2.486</td>\n",
       "      <td>5</td>\n",
       "      <td>2.76</td>\n",
       "    </tr>\n",
       "    <tr>\n",
       "      <th>3</th>\n",
       "      <td>CA-HepTh</td>\n",
       "      <td>9877</td>\n",
       "      <td>25998</td>\n",
       "      <td>5.26</td>\n",
       "      <td>5.945</td>\n",
       "      <td>18</td>\n",
       "      <td>5.54</td>\n",
       "    </tr>\n",
       "  </tbody>\n",
       "</table>\n",
       "</div>"
      ],
      "text/plain": [
       "               network     N      L   <k>    <d>  dmax  ln(N)/ln(k)\n",
       "0          Karate Club    34     78  4.59  2.408     5         2.31\n",
       "1       Les Miserables    77    254  6.60  2.641     5         2.30\n",
       "2  Florentine Families    15     20  2.67  2.486     5         2.76\n",
       "3             CA-HepTh  9877  25998  5.26  5.945    18         5.54"
      ]
     },
     "execution_count": 11,
     "metadata": {},
     "output_type": "execute_result"
    }
   ],
   "source": [
    "# ساخت جدول\n",
    "df_b = pd.DataFrame(table_b)\n",
    "print(\"📊 جدول بخش (ب):\")\n",
    "df_b"
   ]
  },
  {
   "cell_type": "code",
   "execution_count": 12,
   "id": "ab437c32",
   "metadata": {},
   "outputs": [],
   "source": [
    "import matplotlib.pyplot as plt"
   ]
  },
  {
   "cell_type": "code",
   "execution_count": 13,
   "id": "2a2b6671",
   "metadata": {},
   "outputs": [
    {
     "data": {
      "image/png": "[encoded data removed]",
      "text/plain": [
       "<Figure size 1200x800 with 4 Axes>"
      ]
     },
     "metadata": {},
     "output_type": "display_data"
    }
   ],
   "source": [
    "# رسم نمودارهای ضریب خوشه‌بندی\n",
    "plt.figure(figsize=(12, 8))\n",
    "\n",
    "for i, (name, G) in enumerate(graphs_real, 1):\n",
    "    # محاسبه ضریب خوشه‌بندی برای همه گره‌ها\n",
    "    clustering_coeff = list(nx.clustering(G).values())\n",
    "\n",
    "    # رسم نمودار\n",
    "    plt.subplot(2, 2, i)\n",
    "    plt.hist(clustering_coeff, bins=30, edgecolor='black', alpha=0.7)\n",
    "    plt.title(f\"Clustering Coefficient: {name}\")\n",
    "    plt.xlabel(\"Clustering Coefficient\")\n",
    "    plt.ylabel(\"Frequency\")\n",
    "\n",
    "plt.tight_layout()\n",
    "plt.show()"
   ]
  }
 ],
 "metadata": {
  "kernelspec": {
   "display_name": "base",
   "language": "python",
   "name": "python3"
  },
  "language_info": {
   "codemirror_mode": {
    "name": "ipython",
    "version": 3
   },
   "file_extension": ".py",
   "mimetype": "text/x-python",
   "name": "python",
   "nbconvert_exporter": "python",
   "pygments_lexer": "ipython3",
   "version": "3.12.7"
  }
 },
 "nbformat": 4,
 "nbformat_minor": 5
}
