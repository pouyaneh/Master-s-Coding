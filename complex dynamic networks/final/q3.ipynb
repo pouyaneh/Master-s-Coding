{
 "cells": [
  {
   "cell_type": "code",
   "execution_count": null,
   "id": "e63d0e04",
   "metadata": {},
   "outputs": [],
   "source": [
    "import networkx as nx\n",
    "import random\n",
    "import numpy as np\n",
    "import matplotlib.pyplot as plt\n",
    "import pandas as pd\n",
    "from sklearn.metrics import roc_auc_score, precision_score, roc_curve, precision_recall_curve, auc"
   ]
  }
 ],
 "metadata": {
  "language_info": {
   "name": "python"
  }
 },
 "nbformat": 4,
 "nbformat_minor": 5
}
