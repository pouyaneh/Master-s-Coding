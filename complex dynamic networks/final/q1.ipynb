{
 "cells": [
  {
   "cell_type": "code",
   "execution_count": 17,
   "id": "8990a6c2",
   "metadata": {},
   "outputs": [],
   "source": [
    "import networkx as nx\n",
    "import random\n",
    "import numpy as np\n",
    "import matplotlib.pyplot as plt\n",
    "import scipy as sp\n",
    "import pandas as pd\n",
    "from networkx.algorithms import community"
   ]
  },
  {
   "cell_type": "markdown",
   "id": "4e3b6247",
   "metadata": {},
   "source": [
    " Influence Diffusion (Independent Cascade Model)"
   ]
  },
  {
   "cell_type": "code",
   "execution_count": null,
   "id": "e934d838",
   "metadata": {},
   "outputs": [],
   "source": [
    "def simulate_ic(G, seeds, p=0.1):\n",
    "    active = set(seeds)\n",
    "    newly_active = set(seeds)\n",
    "\n",
    "    while newly_active:\n",
    "        next_new = set()\n",
    "        for u in newly_active:\n",
    "            for v in G.neighbors(u):\n",
    "                if v not in active:\n",
    "                    if random.random() < p:\n",
    "                        next_new.add(v)\n",
    "        newly_active = next_new\n",
    "        active |= newly_active\n",
    "    return active"
   ]
  }
 ],
 "metadata": {
  "kernelspec": {
   "display_name": "koala311",
   "language": "python",
   "name": "python3"
  },
  "language_info": {
   "codemirror_mode": {
    "name": "ipython",
    "version": 3
   },
   "file_extension": ".py",
   "mimetype": "text/x-python",
   "name": "python",
   "nbconvert_exporter": "python",
   "pygments_lexer": "ipython3",
   "version": "3.11.11"
  }
 },
 "nbformat": 4,
 "nbformat_minor": 5
}
