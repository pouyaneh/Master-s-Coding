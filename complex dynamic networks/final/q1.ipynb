{
 "cells": [
  {
   "cell_type": "code",
   "execution_count": 17,
   "id": "8990a6c2",
   "metadata": {},
   "outputs": [],
   "source": [
    "import networkx as nx\n",
    "import random\n",
    "import numpy as np\n",
    "import matplotlib.pyplot as plt\n",
    "import scipy as sp\n",
    "import pandas as pd\n",
    "from networkx.algorithms import community"
   ]
  },
  {
   "cell_type": "markdown",
   "id": "4e3b6247",
   "metadata": {},
   "source": [
    " Influence Diffusion (Independent Cascade Model)"
   ]
  },
  {
   "cell_type": "code",
   "execution_count": null,
   "id": "e934d838",
   "metadata": {},
   "outputs": [],
   "source": [
    "def simulate_ic(G, seeds, p=0.1):\n",
    "    active = set(seeds)\n",
    "    newly_active = set(seeds)\n",
    "\n",
    "    while newly_active:\n",
    "        next_new = set()\n",
    "        for u in newly_active:\n",
    "            for v in G.neighbors(u):\n",
    "                if v not in active:\n",
    "                    if random.random() < p:\n",
    "                        next_new.add(v)\n",
    "        newly_active = next_new\n",
    "        active |= newly_active\n",
    "    return active"
   ]
  },
  {
   "cell_type": "markdown",
   "id": "972820ab",
   "metadata": {},
   "source": [
    "Influence Diffusion (Linear Threshold Model)"
   ]
  },
  {
   "cell_type": "code",
   "execution_count": null,
   "id": "8a1fa5f9",
   "metadata": {},
   "outputs": [],
   "source": [
    "def simulate_lt(G, seeds):\n",
    "    thresholds = {node: random.uniform(0, 1) for node in G.nodes()}\n",
    "    active = set(seeds)\n",
    "    changed = True\n",
    "\n",
    "    while changed:\n",
    "        changed = False\n",
    "        for node in G.nodes():\n",
    "            if node not in active:\n",
    "                neighbors = list(G.predecessors(node)) if G.is_directed() else list(G.neighbors(node))\n",
    "                active_neighbors = len([n for n in neighbors if n in active])\n",
    "                if neighbors:\n",
    "                    if (active_neighbors / len(neighbors)) >= thresholds[node]:\n",
    "                        active.add(node)\n",
    "                        changed = True\n",
    "    return active"
   ]
  },
  {
   "cell_type": "markdown",
   "id": "53854e64",
   "metadata": {},
   "source": [
    "Main analysis function"
   ]
  },
  {
   "cell_type": "code",
   "execution_count": null,
   "id": "d5409f8e",
   "metadata": {},
   "outputs": [],
   "source": [
    "def analyze_influence(graphs, ks=[5,10,20,25,30], trials=10, p=0.1, model=\"IC\"):\n",
    "    results = {}\n",
    "    tables = {}\n",
    "    for name, G in graphs.items():\n",
    "        n = G.number_of_nodes()\n",
    "        cent = {\n",
    "            'Degree': dict(nx.degree_centrality(G)),\n",
    "            'Closeness': dict(nx.closeness_centrality(G)),\n",
    "            'Betweenness': dict(nx.betweenness_centrality(G)),\n",
    "            'PageRank': dict(nx.pagerank(G))\n",
    "        }\n",
    "        results[name] = {}\n",
    "        data = []\n",
    "        for measure, scores in cent.items():\n",
    "            sorted_nodes = sorted(scores, key=lambda x: scores[x], reverse=True)\n",
    "            avg_fracs = []\n",
    "            for k in ks:\n",
    "                seeds = sorted_nodes[:k]\n",
    "                influences = []\n",
    "                for _ in range(trials):\n",
    "                    if model == \"IC\":\n",
    "                        active = simulate_ic(G, seeds, p)\n",
    "                    elif model == \"LT\":\n",
    "                        active = simulate_lt(G, seeds)\n",
    "                    influences.append(len(active))\n",
    "                avg_inf = np.mean(influences)\n",
    "                avg_fracs.append(avg_inf / n)\n",
    "                data.append([measure, k, avg_inf / n])\n",
    "            results[name][measure] = avg_fracs\n",
    "        tables[name] = pd.DataFrame(data, columns=['Centrality', 'k', 'Influence'])\n",
    "    return results, tables"
   ]
  },
  {
   "cell_type": "markdown",
   "id": "95b630b9",
   "metadata": {},
   "source": [
    "Plotting function"
   ]
  },
  {
   "cell_type": "code",
   "execution_count": null,
   "id": "7f9eac12",
   "metadata": {},
   "outputs": [],
   "source": [
    "def plot_results(results, ks, model=\"IC\"):\n",
    "    for graph_name, measures in results.items():\n",
    "        plt.figure(figsize=(8, 5))\n",
    "        for measure, fracs in measures.items():\n",
    "            plt.plot(ks, fracs, marker='o', label=measure)\n",
    "        plt.title(f'{model} Model Influence on {graph_name}')\n",
    "        plt.xlabel('Seed Set Size (k)')\n",
    "        plt.ylabel('Average Influence (fraction)')\n",
    "        plt.xticks(ks)\n",
    "        plt.legend()\n",
    "        plt.grid(True)\n",
    "        plt.tight_layout()\n",
    "        plt.show()"
   ]
  },
  {
   "cell_type": "code",
   "execution_count": null,
   "id": "4354faa0",
   "metadata": {},
   "outputs": [],
   "source": [
    "def plot_comparison_bar(tables, model):\n",
    "    for name, df in tables.items():\n",
    "        pivot_df = df.pivot(index='k', columns='Centrality', values='Influence')\n",
    "        pivot_df.plot(kind='bar', figsize=(10, 6))\n",
    "        plt.title(f'Influence Comparison (Bar) - {model} Model - {name}')\n",
    "        plt.xlabel('Seed Set Size (k)')\n",
    "        plt.ylabel('Average Influence (fraction)')\n",
    "        plt.legend(title='Centrality')\n",
    "        plt.grid(True)\n",
    "        plt.tight_layout()\n",
    "        plt.show()"
   ]
  },
  {
   "cell_type": "code",
   "execution_count": null,
   "id": "55f0cd2d",
   "metadata": {},
   "outputs": [],
   "source": [
    "def plot_centrality_comparison(results_ic, results_lt, ks):\n",
    "    for graph_name in results_ic:\n",
    "        plt.figure(figsize=(10, 6))\n",
    "        for centrality in results_ic[graph_name]:\n",
    "            plt.plot(ks, results_ic[graph_name][centrality], label=f'IC - {centrality}', linestyle='--')\n",
    "            plt.plot(ks, results_lt[graph_name][centrality], label=f'LT - {centrality}', linestyle='-')\n",
    "        plt.title(f'IC vs LT Influence Comparison - {graph_name}')\n",
    "        plt.xlabel('Seed Set Size (k)')\n",
    "        plt.ylabel('Average Influence (fraction)')\n",
    "        plt.xticks(ks)\n",
    "        plt.legend()\n",
    "        plt.grid(True)\n",
    "        plt.tight_layout()\n",
    "        plt.show()"
   ]
  }
 ],
 "metadata": {
  "kernelspec": {
   "display_name": "koala311",
   "language": "python",
   "name": "python3"
  },
  "language_info": {
   "codemirror_mode": {
    "name": "ipython",
    "version": 3
   },
   "file_extension": ".py",
   "mimetype": "text/x-python",
   "name": "python",
   "nbconvert_exporter": "python",
   "pygments_lexer": "ipython3",
   "version": "3.11.11"
  }
 },
 "nbformat": 4,
 "nbformat_minor": 5
}
