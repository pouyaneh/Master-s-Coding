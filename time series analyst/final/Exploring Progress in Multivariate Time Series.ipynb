{
 "cells": [
  {
   "cell_type": "markdown",
   "id": "d9c11289",
   "metadata": {},
   "source": [
    "Basic Imports and Device Setup"
   ]
  },
  {
   "cell_type": "code",
   "execution_count": null,
   "id": "cdb84fc5",
   "metadata": {},
   "outputs": [],
   "source": [
    "# Standard Libraries\n",
    "import os\n",
    "import random\n",
    "import numpy as np\n",
    "import pandas as pd\n",
    "import matplotlib.pyplot as plt\n",
    "import seaborn as sns"
   ]
  },
  {
   "cell_type": "code",
   "execution_count": null,
   "id": "a77ad5ec",
   "metadata": {},
   "outputs": [],
   "source": [
    "# PyTorch Libraries\n",
    "import torch\n",
    "import torch.nn as nn\n",
    "import torch.optim as optim\n",
    "from torch.utils.data import DataLoader, Dataset"
   ]
  },
  {
   "cell_type": "code",
   "execution_count": null,
   "id": "f54ce735",
   "metadata": {},
   "outputs": [],
   "source": [
    "# Scikit-learn for Preprocessing and Metrics\n",
    "from sklearn.preprocessing import StandardScaler\n",
    "from sklearn.metrics import mean_absolute_error, mean_squared_error, mean_absolute_percentage_error\n",
    "from sklearn.manifold import TSNE\n",
    "from scipy.stats import gaussian_kde"
   ]
  },
  {
   "cell_type": "code",
   "execution_count": null,
   "id": "f5580116",
   "metadata": {},
   "outputs": [],
   "source": [
    "import os\n",
    "import requests\n",
    "import pickle"
   ]
  },
  {
   "cell_type": "code",
   "execution_count": null,
   "id": "81f592f2",
   "metadata": {},
   "outputs": [],
   "source": [
    "# Visualization Settings\n",
    "sns.set(style=\"whitegrid\")\n",
    "plt.rcParams[\"figure.figsize\"] = (10, 6)"
   ]
  },
  {
   "cell_type": "code",
   "execution_count": null,
   "id": "5069427e",
   "metadata": {},
   "outputs": [],
   "source": [
    "# Reproducibility: Set random seed for consistent results\n",
    "SEED = 42\n",
    "def set_seed(seed=SEED):\n",
    "    random.seed(seed)\n",
    "    np.random.seed(seed)\n",
    "    torch.manual_seed(seed)\n",
    "    if torch.cuda.is_available():\n",
    "        torch.cuda.manual_seed_all(seed)\n",
    "\n",
    "set_seed()"
   ]
  },
  {
   "cell_type": "code",
   "execution_count": null,
   "id": "97d024f7",
   "metadata": {},
   "outputs": [],
   "source": [
    "# Device Setup: Enable GPU if available\n",
    "device = torch.device(\"cuda\" if torch.cuda.is_available() else \"cpu\")\n",
    "print(f\"Using device: {device}\")"
   ]
  },
  {
   "cell_type": "code",
   "execution_count": null,
   "id": "9dbc51f4",
   "metadata": {},
   "outputs": [],
   "source": [
    "# Optional: Display CUDA device information\n",
    "if device.type == \"cuda\":\n",
    "    print(f\"CUDA Device Name: {torch.cuda.get_device_name(0)}\")\n",
    "    print(f\"CUDA Device Count: {torch.cuda.device_count()}\")\n",
    "    print(f\"CUDA Available: {torch.cuda.is_available()}\")"
   ]
  },
  {
   "cell_type": "code",
   "execution_count": null,
   "id": "d499f52d",
   "metadata": {},
   "outputs": [],
   "source": [
    "# Utility function to check memory usage (if needed during training)\n",
    "def print_memory_usage():\n",
    "    if device.type == \"cuda\":\n",
    "        allocated = torch.cuda.memory_allocated() / 1024**2\n",
    "        reserved = torch.cuda.memory_reserved() / 1024**2\n",
    "        print(f\"Memory Allocated: {allocated:.2f} MB\")\n",
    "        print(f\"Memory Reserved: {reserved:.2f} MB\")"
   ]
  },
  {
   "cell_type": "code",
   "execution_count": null,
   "id": "08d1ad39",
   "metadata": {},
   "outputs": [],
   "source": [
    "# Confirming imports and environment setup\n",
    "print(\"Basic imports and device setup complete.\")"
   ]
  }
 ],
 "metadata": {
  "kernelspec": {
   "display_name": "panda38",
   "language": "python",
   "name": "python3"
  },
  "language_info": {
   "name": "python",
   "version": "3.8.20"
  }
 },
 "nbformat": 4,
 "nbformat_minor": 5
}
