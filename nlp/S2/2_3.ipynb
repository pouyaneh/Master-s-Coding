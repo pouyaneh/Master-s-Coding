{
 "cells": [
  {
   "cell_type": "markdown",
   "metadata": {},
   "source": [
    "Simple ELIZA-like Bot – Exercise 2.3"
   ]
  },
  {
   "cell_type": "code",
   "execution_count": 1,
   "metadata": {},
   "outputs": [
    {
     "data": {
      "text/plain": [
       "\"What makes you think you can't focus lately?\""
      ]
     },
     "execution_count": 1,
     "metadata": {},
     "output_type": "execute_result"
    }
   ],
   "source": [
    "import re\n",
    "\n",
    "patterns = {\n",
    "    r'I need (.*)': \"Why do you need {0}?\",\n",
    "    r'Why don\\'?t you ([^\\?]*)\\??': \"Do you really think I don't {0}?\",\n",
    "    r'I can\\'?t (.*)': \"What makes you think you can't {0}?\",\n",
    "    r'I am (.*)': \"How long have you been {0}?\",\n",
    "    r'(.*)': \"Tell me more about that.\"\n",
    "}\n",
    "\n",
    "def eliza_bot(user_input):\n",
    "    for pattern, response in patterns.items():\n",
    "        match = re.match(pattern, user_input, re.IGNORECASE)\n",
    "        if match:\n",
    "            return response.format(*match.groups())\n",
    "    return \"I'm listening.\"\n",
    "\n",
    "# Example usage\n",
    "eliza_bot(\"I can't focus lately\")\n"
   ]
  }
 ],
 "metadata": {
  "kernelspec": {
   "display_name": "Python 3",
   "language": "python",
   "name": "python3"
  },
  "language_info": {
   "codemirror_mode": {
    "name": "ipython",
    "version": 3
   },
   "file_extension": ".py",
   "mimetype": "text/x-python",
   "name": "python",
   "nbconvert_exporter": "python",
   "pygments_lexer": "ipython3",
   "version": "3.10.11"
  }
 },
 "nbformat": 4,
 "nbformat_minor": 2
}
