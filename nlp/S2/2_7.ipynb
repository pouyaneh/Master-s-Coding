{
 "cells": [
  {
   "cell_type": "markdown",
   "metadata": {},
   "source": [
    "Alignment with Backtrace – Exercise 2.7"
   ]
  },
  {
   "cell_type": "code",
   "execution_count": 3,
   "metadata": {},
   "outputs": [
    {
     "data": {
      "text/plain": [
       "(3, 'drive', 'brief')"
      ]
     },
     "execution_count": 3,
     "metadata": {},
     "output_type": "execute_result"
    }
   ],
   "source": [
    "def edit_distance_alignment(s1, s2):\n",
    "    m, n = len(s1), len(s2)\n",
    "    dp = [[0]*(n+1) for _ in range(m+1)]\n",
    "    back = [[None]*(n+1) for _ in range(m+1)]\n",
    "\n",
    "    for i in range(m+1): dp[i][0] = i\n",
    "    for j in range(n+1): dp[0][j] = j\n",
    "\n",
    "    for i in range(1, m+1):\n",
    "        for j in range(1, n+1):\n",
    "            cost = 0 if s1[i-1] == s2[j-1] else 1\n",
    "            del_cost = dp[i-1][j] + 1\n",
    "            ins_cost = dp[i][j-1] + 1\n",
    "            sub_cost = dp[i-1][j-1] + cost\n",
    "\n",
    "            dp[i][j] = min(del_cost, ins_cost, sub_cost)\n",
    "\n",
    "            if dp[i][j] == sub_cost:\n",
    "                back[i][j] = (i-1, j-1)\n",
    "            elif dp[i][j] == del_cost:\n",
    "                back[i][j] = (i-1, j)\n",
    "            else:\n",
    "                back[i][j] = (i, j-1)\n",
    "\n",
    "    # Backtrack\n",
    "    i, j = m, n\n",
    "    aligned_s1, aligned_s2 = [], []\n",
    "    while i > 0 or j > 0:\n",
    "        prev_i, prev_j = back[i][j]\n",
    "        if prev_i == i-1 and prev_j == j-1:\n",
    "            aligned_s1.append(s1[i-1])\n",
    "            aligned_s2.append(s2[j-1])\n",
    "        elif prev_i == i-1:\n",
    "            aligned_s1.append(s1[i-1])\n",
    "            aligned_s2.append('-')\n",
    "        else:\n",
    "            aligned_s1.append('-')\n",
    "            aligned_s2.append(s2[j-1])\n",
    "        i, j = prev_i, prev_j\n",
    "\n",
    "    return dp[m][n], ''.join(reversed(aligned_s1)), ''.join(reversed(aligned_s2))\n",
    "\n",
    "# Example\n",
    "edit_distance_alignment(\"drive\", \"brief\")\n"
   ]
  }
 ],
 "metadata": {
  "kernelspec": {
   "display_name": "Python 3",
   "language": "python",
   "name": "python3"
  },
  "language_info": {
   "codemirror_mode": {
    "name": "ipython",
    "version": 3
   },
   "file_extension": ".py",
   "mimetype": "text/x-python",
   "name": "python",
   "nbconvert_exporter": "python",
   "pygments_lexer": "ipython3",
   "version": "3.10.11"
  }
 },
 "nbformat": 4,
 "nbformat_minor": 2
}
