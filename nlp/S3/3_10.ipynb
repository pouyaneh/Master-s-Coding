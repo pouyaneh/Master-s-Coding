{
 "cells": [
  {
   "cell_type": "markdown",
   "metadata": {},
   "source": [
    "Exercise 3.10: Generate Random Sentences from Bigram Model"
   ]
  },
  {
   "cell_type": "code",
   "execution_count": null,
   "metadata": {},
   "outputs": [],
   "source": [
    "def compute_unigrams_bigrams(corpus):\n",
    "    from collections import Counter\n",
    "\n",
    "    unigram_counts = Counter()\n",
    "    bigram_counts = Counter()\n",
    "\n",
    "    for sentence in corpus:\n",
    "        for i, word in enumerate(sentence):\n",
    "            unigram_counts[word] += 1\n",
    "            if i < len(sentence) - 1:\n",
    "                bigram_counts[(sentence[i], sentence[i + 1])] += 1\n",
    "\n",
    "    return unigram_counts, bigram_counts\n",
    "\n",
    "# Example usage\n",
    "sample = [[\"<s>\", \"hello\", \"world\", \"</s>\"], [\"<s>\", \"hello\", \"again\", \"</s>\"]]\n",
    "u, b = compute_unigrams_bigrams(sample)"
   ]
  },
  {
   "cell_type": "code",
   "execution_count": 9,
   "metadata": {},
   "outputs": [
    {
     "data": {
      "text/plain": [
       "'<s> hello world </s>'"
      ]
     },
     "execution_count": 9,
     "metadata": {},
     "output_type": "execute_result"
    }
   ],
   "source": [
    "import random\n",
    "\n",
    "def generate_sentence(bigram_counts, start='<s>', max_len=10):\n",
    "    sentence = [start]\n",
    "    for _ in range(max_len):\n",
    "        candidates = [(pair[1], count) for pair, count in bigram_counts.items() if pair[0] == sentence[-1]]\n",
    "        if not candidates:\n",
    "            break\n",
    "        words, weights = zip(*candidates)\n",
    "        next_word = random.choices(words, weights=weights)[0]\n",
    "        sentence.append(next_word)\n",
    "        if next_word == '</s>':\n",
    "            break\n",
    "    return ' '.join(sentence)\n",
    "\n",
    "# Example usage\n",
    "generate_sentence(b)\n"
   ]
  }
 ],
 "metadata": {
  "kernelspec": {
   "display_name": "Python 3",
   "language": "python",
   "name": "python3"
  },
  "language_info": {
   "codemirror_mode": {
    "name": "ipython",
    "version": 3
   },
   "file_extension": ".py",
   "mimetype": "text/x-python",
   "name": "python",
   "nbconvert_exporter": "python",
   "pygments_lexer": "ipython3",
   "version": "3.10.11"
  }
 },
 "nbformat": 4,
 "nbformat_minor": 2
}
