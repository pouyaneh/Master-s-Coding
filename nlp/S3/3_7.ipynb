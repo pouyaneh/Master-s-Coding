{
 "cells": [
  {
   "cell_type": "markdown",
   "metadata": {},
   "source": [
    "Exercise 3.7: Interpolated Probability P(Sam | am)"
   ]
  },
  {
   "cell_type": "code",
   "execution_count": 6,
   "metadata": {},
   "outputs": [
    {
     "data": {
      "text/plain": [
       "0.41333333333333333"
      ]
     },
     "execution_count": 6,
     "metadata": {},
     "output_type": "execute_result"
    }
   ],
   "source": [
    "from collections import Counter\n",
    "\n",
    "# Corpus\n",
    "corpus = [\n",
    "    [\"<s>\", \"I\", \"am\", \"Sam\", \"</s>\"],\n",
    "    [\"<s>\", \"Sam\", \"I\", \"am\", \"</s>\"],\n",
    "    [\"<s>\", \"I\", \"am\", \"Sam\", \"</s>\"],\n",
    "    [\"<s>\", \"I\", \"do\", \"not\", \"like\", \"green\", \"eggs\", \"and\", \"Sam\", \"</s>\"]\n",
    "]\n",
    "\n",
    "unigrams = Counter()\n",
    "bigrams = Counter()\n",
    "\n",
    "for sentence in corpus:\n",
    "    for i in range(len(sentence)):\n",
    "        unigrams[sentence[i]] += 1\n",
    "        if i < len(sentence)-1:\n",
    "            bigrams[(sentence[i], sentence[i+1])] += 1\n",
    "\n",
    "V = len(set(unigrams.keys()))\n",
    "total_tokens = sum(unigrams.values())\n",
    "\n",
    "# Maximum likelihood estimates\n",
    "def P_bigram(w2, w1):\n",
    "    return bigrams[(w1, w2)] / unigrams[w1]\n",
    "\n",
    "def P_unigram(w):\n",
    "    return unigrams[w] / total_tokens\n",
    "\n",
    "# Interpolation parameters\n",
    "λ1 = 0.5\n",
    "λ2 = 0.5\n",
    "\n",
    "# Compute P(Sam | am) using interpolation\n",
    "P_interpolated = λ1 * P_bigram(\"Sam\", \"am\") + λ2 * P_unigram(\"Sam\")\n",
    "P_interpolated\n"
   ]
  }
 ],
 "metadata": {
  "kernelspec": {
   "display_name": "Python 3",
   "language": "python",
   "name": "python3"
  },
  "language_info": {
   "codemirror_mode": {
    "name": "ipython",
    "version": 3
   },
   "file_extension": ".py",
   "mimetype": "text/x-python",
   "name": "python",
   "nbconvert_exporter": "python",
   "pygments_lexer": "ipython3",
   "version": "3.10.11"
  }
 },
 "nbformat": 4,
 "nbformat_minor": 2
}
