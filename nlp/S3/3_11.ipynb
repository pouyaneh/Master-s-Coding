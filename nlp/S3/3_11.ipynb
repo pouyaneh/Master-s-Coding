{
 "cells": [
  {
   "cell_type": "markdown",
   "metadata": {},
   "source": [
    "Exercise 3.11: Compute Perplexity of a Test Set"
   ]
  },
  {
   "cell_type": "code",
   "execution_count": null,
   "metadata": {},
   "outputs": [],
   "source": [
    "def compute_unigrams_bigrams(corpus):\n",
    "    from collections import Counter\n",
    "\n",
    "    unigram_counts = Counter()\n",
    "    bigram_counts = Counter()\n",
    "\n",
    "    for sentence in corpus:\n",
    "        for i, word in enumerate(sentence):\n",
    "            unigram_counts[word] += 1\n",
    "            if i < len(sentence) - 1:\n",
    "                bigram_counts[(sentence[i], sentence[i + 1])] += 1\n",
    "\n",
    "    return unigram_counts, bigram_counts\n",
    "\n",
    "# Example usage\n",
    "sample = [[\"<s>\", \"hello\", \"world\", \"</s>\"], [\"<s>\", \"hello\", \"again\", \"</s>\"]]\n",
    "u, b = compute_unigrams_bigrams(sample)"
   ]
  },
  {
   "cell_type": "code",
   "execution_count": null,
   "metadata": {},
   "outputs": [
    {
     "data": {
      "text/plain": [
       "1189207.115002721"
      ]
     },
     "metadata": {},
     "output_type": "display_data"
    }
   ],
   "source": [
    "import math\n",
    "\n",
    "def perplexity(test, bigram_counts, unigram_counts):\n",
    "    N = len(test) - 1\n",
    "    log_prob = 0\n",
    "    for i in range(N):\n",
    "        w1, w2 = test[i], test[i+1]\n",
    "        prob = bigram_counts.get((w1, w2), 1e-6) / unigram_counts.get(w1, 1)\n",
    "        log_prob += math.log(prob)\n",
    "    return math.exp(-log_prob / N)\n",
    "\n",
    "# Example usage\n",
    "test_sentence = [\"<s>\", \"email\", \"is\", \"important\", \"</s>\"]\n",
    "perplexity(test_sentence, b, u)\n"
   ]
  }
 ],
 "metadata": {
  "kernelspec": {
   "display_name": "Python 3",
   "language": "python",
   "name": "python3"
  },
  "language_info": {
   "codemirror_mode": {
    "name": "ipython",
    "version": 3
   },
   "file_extension": ".py",
   "mimetype": "text/x-python",
   "name": "python",
   "nbconvert_exporter": "python",
   "pygments_lexer": "ipython3",
   "version": "3.10.11"
  }
 },
 "nbformat": 4,
 "nbformat_minor": 2
}
