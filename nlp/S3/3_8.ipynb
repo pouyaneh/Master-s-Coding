{
 "cells": [
  {
   "cell_type": "markdown",
   "metadata": {},
   "source": [
    "Exercise 3.8: Unsmoothed Unigram and Bigram Counts"
   ]
  },
  {
   "cell_type": "code",
   "execution_count": null,
   "metadata": {},
   "outputs": [],
   "source": [
    "def compute_unigrams_bigrams(corpus):\n",
    "    from collections import Counter\n",
    "\n",
    "    unigram_counts = Counter()\n",
    "    bigram_counts = Counter()\n",
    "\n",
    "    for sentence in corpus:\n",
    "        for i, word in enumerate(sentence):\n",
    "            unigram_counts[word] += 1\n",
    "            if i < len(sentence) - 1:\n",
    "                bigram_counts[(sentence[i], sentence[i + 1])] += 1\n",
    "\n",
    "    return unigram_counts, bigram_counts"
   ]
  },
  {
   "cell_type": "code",
   "execution_count": null,
   "metadata": {},
   "outputs": [
    {
     "name": "stdout",
     "output_type": "stream",
     "text": [
      "Unigrams: Counter({'<s>': 2, 'hello': 2, '</s>': 2, 'world': 1, 'again': 1})\n",
      "Bigrams: Counter({('<s>', 'hello'): 2, ('hello', 'world'): 1, ('world', '</s>'): 1, ('hello', 'again'): 1, ('again', '</s>'): 1})\n"
     ]
    }
   ],
   "source": [
    "# Example usage\n",
    "sample = [[\"<s>\", \"hello\", \"world\", \"</s>\"], [\"<s>\", \"hello\", \"again\", \"</s>\"]]\n",
    "u, b = compute_unigrams_bigrams(sample)\n",
    "print(\"Unigrams:\", u)\n",
    "print(\"Bigrams:\", b)\n"
   ]
  }
 ],
 "metadata": {
  "kernelspec": {
   "display_name": "Python 3",
   "language": "python",
   "name": "python3"
  },
  "language_info": {
   "codemirror_mode": {
    "name": "ipython",
    "version": 3
   },
   "file_extension": ".py",
   "mimetype": "text/x-python",
   "name": "python",
   "nbconvert_exporter": "python",
   "pygments_lexer": "ipython3",
   "version": "3.10.11"
  }
 },
 "nbformat": 4,
 "nbformat_minor": 2
}
