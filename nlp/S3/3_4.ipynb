{
 "cells": [
  {
   "cell_type": "markdown",
   "metadata": {},
   "source": [
    "Exercise 3.4: Add-One Smoothed Bigram Probability P(Sam | am)"
   ]
  },
  {
   "cell_type": "code",
   "execution_count": 4,
   "metadata": {},
   "outputs": [
    {
     "data": {
      "text/plain": [
       "0.21428571428571427"
      ]
     },
     "execution_count": 4,
     "metadata": {},
     "output_type": "execute_result"
    }
   ],
   "source": [
    "from collections import Counter\n",
    "\n",
    "# Corpus:\n",
    "corpus = [\n",
    "    [\"<s>\", \"I\", \"am\", \"Sam\", \"</s>\"],\n",
    "    [\"<s>\", \"Sam\", \"I\", \"am\", \"</s>\"],\n",
    "    [\"<s>\", \"I\", \"am\", \"Sam\", \"</s>\"],\n",
    "    [\"<s>\", \"I\", \"do\", \"not\", \"like\", \"green\", \"eggs\", \"and\", \"Sam\", \"</s>\"]\n",
    "]\n",
    "\n",
    "bigrams = Counter()\n",
    "unigrams = Counter()\n",
    "\n",
    "for sentence in corpus:\n",
    "    for i in range(len(sentence) - 1):\n",
    "        bigrams[(sentence[i], sentence[i+1])] += 1\n",
    "    for token in sentence:\n",
    "        unigrams[token] += 1\n",
    "\n",
    "# Vocabulary size (add-one smoothing)\n",
    "vocab = set(word for sentence in corpus for word in sentence)\n",
    "V = len(vocab)\n",
    "\n",
    "# Compute P(Sam | am)\n",
    "numerator = bigrams[(\"am\", \"Sam\")] + 1\n",
    "denominator = unigrams[\"am\"] + V\n",
    "\n",
    "P_Sam_given_am = numerator / denominator\n",
    "P_Sam_given_am\n"
   ]
  }
 ],
 "metadata": {
  "kernelspec": {
   "display_name": "Python 3",
   "language": "python",
   "name": "python3"
  },
  "language_info": {
   "codemirror_mode": {
    "name": "ipython",
    "version": 3
   },
   "file_extension": ".py",
   "mimetype": "text/x-python",
   "name": "python",
   "nbconvert_exporter": "python",
   "pygments_lexer": "ipython3",
   "version": "3.10.11"
  }
 },
 "nbformat": 4,
 "nbformat_minor": 2
}
