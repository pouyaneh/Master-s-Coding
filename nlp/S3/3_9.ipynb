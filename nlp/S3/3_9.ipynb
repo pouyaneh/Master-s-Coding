{
 "cells": [
  {
   "cell_type": "markdown",
   "metadata": {},
   "source": [
    "Exercise 3.9: Corpus Comparison (Text-Based)"
   ]
  },
  {
   "cell_type": "code",
   "execution_count": null,
   "metadata": {},
   "outputs": [],
   "source": [
    "def compute_unigrams_bigrams(corpus):\n",
    "    from collections import Counter\n",
    "\n",
    "    unigram_counts = Counter()\n",
    "    bigram_counts = Counter()\n",
    "\n",
    "    for sentence in corpus:\n",
    "        for i, word in enumerate(sentence):\n",
    "            unigram_counts[word] += 1\n",
    "            if i < len(sentence) - 1:\n",
    "                bigram_counts[(sentence[i], sentence[i + 1])] += 1\n",
    "\n",
    "    return unigram_counts, bigram_counts"
   ]
  },
  {
   "cell_type": "code",
   "execution_count": 8,
   "metadata": {},
   "outputs": [
    {
     "name": "stdout",
     "output_type": "stream",
     "text": [
      "Top unigrams in Corpus 1: [('<s>', 2), ('email', 2), ('</s>', 2)]\n",
      "Top unigrams in Corpus 2: [('<s>', 2), ('</s>', 2), ('newsgroup', 1)]\n",
      "Interesting bigrams in Corpus 1: [(('<s>', 'hello'), 1), (('hello', 'email'), 1), (('email', 'world'), 1)]\n",
      "Interesting bigrams in Corpus 2: [(('<s>', 'newsgroup'), 1), (('newsgroup', 'discussion'), 1), (('discussion', '</s>'), 1)]\n"
     ]
    }
   ],
   "source": [
    "# Example using two toy corpora\n",
    "corpus1 = [[\"<s>\", \"hello\", \"email\", \"world\", \"</s>\"],\n",
    "           [\"<s>\", \"email\", \"is\", \"important\", \"</s>\"]]\n",
    "corpus2 = [[\"<s>\", \"newsgroup\", \"discussion\", \"</s>\"],\n",
    "           [\"<s>\", \"latest\", \"news\", \"update\", \"</s>\"]]\n",
    "\n",
    "u1, b1 = compute_unigrams_bigrams(corpus1)\n",
    "u2, b2 = compute_unigrams_bigrams(corpus2)\n",
    "\n",
    "print(\"Top unigrams in Corpus 1:\", u1.most_common(3))\n",
    "print(\"Top unigrams in Corpus 2:\", u2.most_common(3))\n",
    "\n",
    "print(\"Interesting bigrams in Corpus 1:\", b1.most_common(3))\n",
    "print(\"Interesting bigrams in Corpus 2:\", b2.most_common(3))\n"
   ]
  }
 ],
 "metadata": {
  "kernelspec": {
   "display_name": "Python 3",
   "language": "python",
   "name": "python3"
  },
  "language_info": {
   "codemirror_mode": {
    "name": "ipython",
    "version": 3
   },
   "file_extension": ".py",
   "mimetype": "text/x-python",
   "name": "python",
   "nbconvert_exporter": "python",
   "pygments_lexer": "ipython3",
   "version": "3.10.11"
  }
 },
 "nbformat": 4,
 "nbformat_minor": 2
}
