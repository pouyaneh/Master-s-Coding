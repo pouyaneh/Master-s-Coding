{
 "cells": [
  {
   "cell_type": "markdown",
   "metadata": {},
   "source": [
    "Exercise 3.5: Bigram Distribution Without </s> Symbol"
   ]
  },
  {
   "cell_type": "code",
   "execution_count": null,
   "metadata": {},
   "outputs": [
    {
     "data": {
      "text/plain": [
       "(1.0, 1.0)"
      ]
     },
     "execution_count": 5,
     "metadata": {},
     "output_type": "execute_result"
    }
   ],
   "source": [
    "from collections import defaultdict\n",
    "from collections import Counter\n",
    "\n",
    "# Sentences (no </s> symbol)\n",
    "corpus = [\n",
    "    [\"<s>\", \"a\", \"b\"],\n",
    "    [\"<s>\", \"b\", \"b\"],\n",
    "    [\"<s>\", \"b\", \"a\"],\n",
    "    [\"<s>\", \"a\", \"a\"]\n",
    "]\n",
    "\n",
    "bigram_counts = Counter()\n",
    "start_counts = Counter()\n",
    "\n",
    "for sentence in corpus:\n",
    "    for i in range(len(sentence)-1):\n",
    "        bigram_counts[(sentence[i], sentence[i+1])] += 1\n",
    "        if i == 0:\n",
    "            start_counts[sentence[i+1]] += 1\n",
    "\n",
    "# Possible 2-word continuations (after <s>)\n",
    "prob_2_word = {}\n",
    "total_starts = sum(start_counts.values())\n",
    "for w in ['a', 'b']:\n",
    "    prob_2_word[w] = start_counts[w] / total_starts\n",
    "\n",
    "# Show that sum over 2-word starts equals 1.0\n",
    "sum_2 = sum(prob_2_word.values())\n",
    "\n",
    "# Now, extend to 3-word sequences\n",
    "prob_3_word = defaultdict(float)\n",
    "for w1 in ['a', 'b']:\n",
    "    for w2 in ['a', 'b']:\n",
    "        if bigram_counts.get((w1, w2), 0) > 0:\n",
    "            prob_3_word[(w1, w2)] = prob_2_word[w1] * (\n",
    "                bigram_counts[(w1, w2)] / start_counts[w1]\n",
    "            )\n",
    "\n",
    "sum_3 = sum(prob_3_word.values())\n",
    "\n",
    "(sum_2, sum_3)\n"
   ]
  }
 ],
 "metadata": {
  "kernelspec": {
   "display_name": "Python 3",
   "language": "python",
   "name": "python3"
  },
  "language_info": {
   "codemirror_mode": {
    "name": "ipython",
    "version": 3
   },
   "file_extension": ".py",
   "mimetype": "text/x-python",
   "name": "python",
   "nbconvert_exporter": "python",
   "pygments_lexer": "ipython3",
   "version": "3.10.11"
  }
 },
 "nbformat": 4,
 "nbformat_minor": 2
}
