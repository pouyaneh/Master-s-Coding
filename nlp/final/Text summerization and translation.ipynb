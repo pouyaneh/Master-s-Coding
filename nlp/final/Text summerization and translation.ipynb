{
 "cells": [
  {
   "cell_type": "code",
   "execution_count": 1,
   "metadata": {
    "execution": {
     "iopub.execute_input": "2025-02-10T14:43:38.588073Z",
     "iopub.status.busy": "2025-02-10T14:43:38.587733Z",
     "iopub.status.idle": "2025-02-10T14:43:40.301107Z",
     "shell.execute_reply": "2025-02-10T14:43:40.300307Z",
     "shell.execute_reply.started": "2025-02-10T14:43:38.588045Z"
    },
    "trusted": true
   },
   "outputs": [
    {
     "name": "stdout",
     "output_type": "stream",
     "text": [
      "True\n",
      "2.7.1+cu118\n"
     ]
    }
   ],
   "source": [
    "import torch\n",
    "print(torch.cuda.is_available())\n",
    "print(torch.__version__)\n"
   ]
  },
  {
   "cell_type": "code",
   "execution_count": 1,
   "metadata": {
    "execution": {
     "iopub.execute_input": "2025-02-10T14:43:42.007302Z",
     "iopub.status.busy": "2025-02-10T14:43:42.006796Z",
     "iopub.status.idle": "2025-02-10T14:43:42.033573Z",
     "shell.execute_reply": "2025-02-10T14:43:42.032728Z",
     "shell.execute_reply.started": "2025-02-10T14:43:42.007272Z"
    },
    "trusted": true
   },
   "outputs": [
    {
     "name": "stdout",
     "output_type": "stream",
     "text": [
      "True\n",
      "1\n",
      "NVIDIA GeForce RTX 3050 Ti Laptop GPU\n",
      "0\n"
     ]
    }
   ],
   "source": [
    "import torch\n",
    "print(torch.cuda.is_available())  \n",
    "print(torch.cuda.device_count())  \n",
    "print(torch.cuda.get_device_name(0)) \n",
    "print(torch.cuda.current_device())  \n"
   ]
  },
  {
   "cell_type": "code",
   "execution_count": 3,
   "metadata": {
    "trusted": true
   },
   "outputs": [],
   "source": [
    "# !pip install --upgrade pip \n",
    "# !pip install torch torchvision torchaudio transformers datasets accelerate "
   ]
  },
  {
   "cell_type": "code",
   "execution_count": 4,
   "metadata": {
    "_cell_guid": "b1076dfc-b9ad-4769-8c92-a6c4dae69d19",
    "_uuid": "8f2839f25d086af736a60e9eeb907d3b93b6e0e5",
    "trusted": true
   },
   "outputs": [],
   "source": [
    "# !pip install --upgrade category-encoders\n",
    "# !pip uninstall scikit-learn  -y\n",
    "# !pip install scikit-learn==1.6.1 -q"
   ]
  },
  {
   "cell_type": "code",
   "execution_count": 5,
   "metadata": {
    "execution": {
     "iopub.execute_input": "2025-02-10T14:43:34.085930Z",
     "iopub.status.busy": "2025-02-10T14:43:34.085564Z",
     "iopub.status.idle": "2025-02-10T14:43:34.284508Z",
     "shell.execute_reply": "2025-02-10T14:43:34.283688Z",
     "shell.execute_reply.started": "2025-02-10T14:43:34.085899Z"
    },
    "trusted": true
   },
   "outputs": [],
   "source": [
    "import requests\n",
    "from bs4 import BeautifulSoup"
   ]
  },
  {
   "cell_type": "code",
   "execution_count": 6,
   "metadata": {
    "execution": {
     "iopub.execute_input": "2025-02-10T14:43:34.950204Z",
     "iopub.status.busy": "2025-02-10T14:43:34.949611Z",
     "iopub.status.idle": "2025-02-10T14:43:34.954089Z",
     "shell.execute_reply": "2025-02-10T14:43:34.953138Z",
     "shell.execute_reply.started": "2025-02-10T14:43:34.950146Z"
    },
    "trusted": true
   },
   "outputs": [],
   "source": [
    "url = \"https://www.bbc.com/news/world-63297797\""
   ]
  },
  {
   "cell_type": "code",
   "execution_count": 7,
   "metadata": {
    "execution": {
     "iopub.execute_input": "2025-02-10T14:43:47.247039Z",
     "iopub.status.busy": "2025-02-10T14:43:47.246721Z",
     "iopub.status.idle": "2025-02-10T14:43:47.779068Z",
     "shell.execute_reply": "2025-02-10T14:43:47.778388Z",
     "shell.execute_reply.started": "2025-02-10T14:43:47.247015Z"
    },
    "trusted": true
   },
   "outputs": [],
   "source": [
    "response = requests.get(url)\n",
    "soup = BeautifulSoup(response.text, \"html.parser\")"
   ]
  },
  {
   "cell_type": "code",
   "execution_count": 8,
   "metadata": {
    "execution": {
     "iopub.execute_input": "2025-02-10T14:43:48.046134Z",
     "iopub.status.busy": "2025-02-10T14:43:48.045838Z",
     "iopub.status.idle": "2025-02-10T14:43:48.049894Z",
     "shell.execute_reply": "2025-02-10T14:43:48.048967Z",
     "shell.execute_reply.started": "2025-02-10T14:43:48.046113Z"
    },
    "trusted": true
   },
   "outputs": [],
   "source": [
    "# soup"
   ]
  },
  {
   "cell_type": "code",
   "execution_count": 9,
   "metadata": {
    "execution": {
     "iopub.execute_input": "2025-02-10T14:43:49.262305Z",
     "iopub.status.busy": "2025-02-10T14:43:49.261967Z",
     "iopub.status.idle": "2025-02-10T14:43:49.267013Z",
     "shell.execute_reply": "2025-02-10T14:43:49.266254Z",
     "shell.execute_reply.started": "2025-02-10T14:43:49.262279Z"
    },
    "trusted": true
   },
   "outputs": [],
   "source": [
    "paragraphs = soup.find_all(\"p\")\n",
    "article_text = \" \".join([p.get_text() for p in paragraphs])"
   ]
  },
  {
   "cell_type": "code",
   "execution_count": 10,
   "metadata": {
    "execution": {
     "iopub.execute_input": "2025-02-10T14:43:49.696044Z",
     "iopub.status.busy": "2025-02-10T14:43:49.695733Z",
     "iopub.status.idle": "2025-02-10T14:43:49.700890Z",
     "shell.execute_reply": "2025-02-10T14:43:49.699862Z",
     "shell.execute_reply.started": "2025-02-10T14:43:49.696022Z"
    },
    "trusted": true
   },
   "outputs": [
    {
     "name": "stdout",
     "output_type": "stream",
     "text": [
      "The radio fizzed with static as one of the world's most expensive superyachts sailed through the mist into San Diego Bay.  \"Sécurité, sécurité, sécurité… this is the inbound yacht the Amadea.\" At the stern, an American flag fluttered above the boat's lavish, mosaic-lined swimming pool. The $325m (£307m) vessel had spent most of its life touring picturesque ports in the Mediterranean. Now, under the control of US authorities, it was destined for a drab concrete wharf in an industrial harbour. It is the most ostentatious trophy claimed by a taskforce that - in the words of US President Joe Biden - was set up to pursue Russian oligarchs' \"ill-begotten gains\". The BBC has been granted exclusive access behind the scenes of a superyacht seizure. As missiles rained down on Ukraine in the early days of the war, US prosecutor Andrew Adams was sitting in his New York office with a list of Kremlin-connected billionaires and their luxury assets. But it looked like time was running out. On a digital map of maritime traffic, he could see superyachts linked to oligarchs making a scramble for safety - sailing towards countries where, he suspected, they believed their assets would be safe from sanctions.  Among the opulent floating targets, one \"mega yacht\" stood out, Mr Adams said.  The Amadea is roughly the length of a football pitch, with a helipad at one end and a 10-metre infinity pool at the other. Inside, there is a gym, beauty salon, cinema and wine cellar. There are luxury cabins for 16 guests, and accommodation for 36 crew to service their every need.  From a distance, it appears like the tip of an iceberg. Sleek, clean lines and a gleaming white facade seem to project an image of pristine purity. Simply keeping the Amadea shipshape comes at vast expense, with annual running costs estimated at £25m or more. But the ownership of the yacht, and the source of the wealth locked away in its marble floors and teak decking, remains disputed.   US investigators say billionaire Russian politician Suleiman Kerimov is the true owner. Mr Kerimov, a senator in the Russian parliament, rejects the claim.  The 56-year-old is one of the richest men in Russia, according to Forbes, which estimates that he and his family are worth $12.4bn. He made his fortune after the fall of the Soviet Union, buying up large stakes in Russian companies, including the country's biggest gas and gold producers.  The US sanctioned Mr Kerimov in 2018. The UK followed suit in March, as did the EU, which said he had supported or implemented policies which undermine the independence, stability and security of Ukraine.  The Hunt for the Russian Superyachts The inside story of the game of cat and mouse between some of the world's most powerful nations and some of Russia's richest men. Available now on BBC iPlayer(UK Only) The list of Russian elites banned from spending their fortunes in Western countries had been growing since 2014, as governments tried to isolate President Putin after the annexation of Crimea. When tanks rolled into Ukraine in February, oligarchs faced renewed scrutiny.  \"We're joining with European allies to find and seize their yachts, their luxury apartments, their private jets,\" President Biden announced on 1 March.  Mr Adams - a lean, blue-eyed prosecutor with the US Department of Justice - was placed at the head of a new taskforce, named KleptoCapture, dedicated to enforcing US sanctions.  He planned to use his experience tackling organised crime to honour the president's pledge.  With tactics developed in the fight against the mafia, the taskforce - which includes agents and analysts from the likes of the FBI and the US Secret Service - aims to identify high-ranking targets, find evidence of any law breaking and then \"seize assets as quickly and as aggressively as we can,\" he said. But two weeks after the invasion began, Mr Adams could see the Amadea \"scrambling out of waters where we would normally be able to seize it\".  \"It became critical when it turned off its location monitor, its transponder,\" he said. \"Essentially, the boat tried to go dark.\" On 12 March, the Amadea left Antigua in the Caribbean and five days later travelled through the Panama Canal, stopping briefly in Mexico before striking out into the Pacific Ocean on 25 March. After more than a fortnight at sea, it arrived in Fiji. The yacht was scheduled to leave for the Philippines within 48 hours, but the US believed its true destination was Vladivostok, a Russian port near the border with China and North Korea.  As it sailed through the Pacific, investigators in the US were searching for any sanction violations that could be used as a \"hook\" to seize the Amadea, Mr Adams said. Their goal was to prove that Mr Kerimov owned the boat, and that US dollars had been used to purchase, supply or maintain it.  Tracking down a superyacht's true owner requires more than a google search, Mr Adams said.  \"It can be extremely difficult to unravel who owns these vessels.\" Ownership is often hidden behind shell companies and trusts, registered in countries where information is \"tightly controlled and not something that the US can always easily access,\" he said.  But Russia's war had led to a \"boom of information\" provided by co-operative foreign countries, including those which \"historically have been viewed as opaque\" - places where company ownership is hard to investigate, Mr Adams said.  It required a massive investigation in a short time, with members of the taskforce interviewing sources with knowledge of the boat's finances, and scouring bank statements and corporate records, he said.  \"We were able to get that information in part because there was an enormous upswell of support for Ukraine and support for this effort.\" According to US court documents, investigators unearthed evidence, which, they say, proves Mr Kerimov has owned the boat since August 2021 - three years after he was first sanctioned by the US Treasury. \"What we found was that one, Mr Kerimov owns the boat, and two, that he had substantial numbers of US dollars that flowed into the boat over the years in violation of US sanctions.\" As it docked in Fiji, local authorities searched the Amadea and found records of financial transactions stretching back four months. Hours later, armed with this new information, FBI agents applied to a US judge for a warrant to seize the boat. The FBI listed their reasons for believing Mr Kerimov was the yacht's \"true beneficial owner,\" although many of the details have been redacted in a copy published by the US government. Mr Kerimov's representatives told the BBC that his alleged ownership of the Amadea is \"denied and unproven\". A week after the boat arrived in the Pacific island, a local lawyer intervened on behalf of a company that is formally registered as the superyacht's owner. It led to a seven-week legal wrangle, as appeals against the warrant worked their way up to Fiji's supreme court.  The lawyer argued there was no evidence the yacht represented the proceeds of crime, and claimed it actually belonged to a different billionaire Russian oligarch.  Eduard Khuadainatov is the former CEO of state-owned oil giant Rosneft. He was sanctioned in June by the EU, which said he now owned one of the biggest private oil companies in Russia. He is not sanctioned in the US.  The lawyer told the Fijian court there was \"undisputed evidence\" that Mr Khuadainatov owned the Amadea. He is also the named owner of a $700m yacht linked to Putin, which has been frozen by Italian authorities. But the US claims he is a \"straw man\" - intended to conceal the identity of the true owners. \"To own several half-billion dollar yachts as a mid-tier industrialist is totally implausible,\" Mr Adams said.  Mr Khudainatov has not responded to requests for comment.   FBI agents flew in while the Amadea was moored in Fiji's turquoise waters in early May. Under a blazing sun, a line of men in dark suits boarded the boat as crew members wearing white polo shirts waited on deck.  Agents discovered it \"looked like a luxury yacht that was on a high-speed chase across the Pacific\", Mr Adams said. It had \"been battened down pretty heavily\", he added. Inside, they found ornate furnishings, including chandeliers, gilded fittings and expensive artworks.  The taskforce is still calculating the total value of the luxuries, and the authenticity of the most prominent pieces are under investigation. Among them, one striking item stood out - a lavish object resembling a rare Fabergé egg. Only a few dozen were made for the Russian Imperial family, and they have come to symbolise opulence and power. \"Maybe it's a real Fabergé egg, maybe it's not a real Fabergé egg,\" Mr Adams said. \"Time will tell.\"  After nearly two months tied-up beside shipping containers, the Fijian supreme court cleared the way for the US to seize the boat. It had become an international spectacle.  After the ruling in June, the island's chief of police posed for photographs on deck with US embassy officials as the Stars and Stripes fluttered overhead. The boat, which had flown the colours of the Cayman Islands, would now sail under the American flag.  But before it could depart for the US, Mr Adams decided to replace the crew. \"We needed a crew that we could rely on,\" he said.  After a three-week voyage, the Amadea reached the US mainland, sailing into San Diego Bay on 27 June. It was a proud moment for the taskforce, but it was \"just the beginning of a process here in the United States,\" Mr Adams said. \"It's not the end.\" For the US, the ultimate goal is to sell the boat, he said. \"It's to provide funds for Ukraine.\" But first, they must persuade a court that Mr Kerimov is the true owner of the boat, and that sanctions were violated to pay for it.  To prepare, investigators are analysing \"terabytes of data\", including bank records and masses of electronic communications, while Russian language linguists are investigating financial documents.  It is not the only superyacht caught in the taskforce's net. Days before the Amadea arrived in Fiji, FBI agents with the Spanish police seized the $90m Tango, which is owned by sanctioned billionaire Viktor Vekselberg. It remains moored in Mallorca, but Mr Adams hopes this too, can be sold to help rebuild Ukraine.  In Europe, security experts have been closely following the saga of the Tango and the Amadea. They reveal a key difference between law enforcement approaches on either side of the Atlantic.  Several oligarch-linked superyachts are being held in the EU, and one in the UK, but the boats have been frozen, rather than seized. \"In principle, if you only freeze an asset it will return to the owner at some point; if it's seized, they lose it forever,\" said Tom Keatinge, the director of the Centre for Financial Crime and Security Studies at the Royal United Services Institute.  While the US has long-standing laws to tackle sanctions evasion and seize assets, he says authorities in London and Brussels are \"struggling to design legal mechanisms\" that will allow them to seize assets that have initially been frozen.  Since the invasion, the UK has sanctioned at least 1,200 people, including more than 120 oligarchs with an estimated combined net worth of over £130bn. But, where action has been taken, it has focused on freezing assets.  In March, former transport secretary Grant Shapps filmed a selfie-style video alongside a £38m yacht named Phi on the day it was detained by the National Crime Agency in London's Canary Wharf.  He said the move had \"turned an icon of Russia's power and wealth into a clear and stark warning to Putin and his cronies\".  But with the detention of the Phi, the UK was relying on a law with a broader scope than those used by its international allies.  The boat's owner, Sergei Naumenko, is not on any sanction list. And yet, under UK law, vessels can be detained simply for being owned or operated by somebody connected with Russia. Guy Booth, the yacht's captain, said Mr Naumenko was \"absolutely not an oligarch and he's not, as described, a close personal friend of Vladimir Putin\". \"If this were an oligarch's boat, it would be four times the size,\" he added. Mr Booth says the operation seemed \"staged\" for publicity, adding that Mr Shapps appeared to be \"posing like a big game hunter who'd just shot a lion\".  The Department for Transport said it stands firmly by its decision to detain the Phi, adding that the UK would \"continue to act within its available powers to ratchet up the economic pressure on Russia and make life harder for Russian elites\".  Mr Booth remains positive that \"one day eventually we will sail off down the Thames\".  As Western governments grapple with confiscating frozen assets, Mr Adams expects more countries to follow their \"aggressive\" approach to seizures.  \"We want to make it as difficult as possible to exist as a person who can draw on the benefits of corruption in Russia and at the same time exist in fabulous luxury in the West,\" he said. In the year before the invasion, the Amadea spent most of its time in Europe. It dropped anchor off the likes of Monaco, Marseilles and Montenegro, according to analysis for the BBC by Spire Global, a data and analytics provider. Today, it is moored at the edge of a busy cargo terminal used by vast, rust-stained car carrier ships. A public park runs close to its berth, and locals have taken to sharing pictures of their glamorous new neighbour on social media. \"They should open it to the area's homeless,\" one person commented.  Another wrote: \"I hope they sell it to help Ukrainian refugees.\" Interferences to satellite navigational systems occur almost daily, aviation officials say.  In Vladivostok, a city on China's and North Korea's border, Russia's war on Ukraine looms large. The two leaders discussed how organ transplants could help people live to 150-years-old. The Chinese and Russian leaders have been in power for 13 and 25 years respectively, with neither expressing any intention of stepping down. Speaking during the spectacle in Beijing, China's President Xi Jinping said the world faced a choice between peace and war.  Copyright 2025 BBC. All rights reserved. The BBC is not responsible for the content of external sites. Read about our approach to external linking.  \n"
     ]
    }
   ],
   "source": [
    "print(article_text[:])"
   ]
  },
  {
   "cell_type": "code",
   "execution_count": 11,
   "metadata": {
    "execution": {
     "iopub.execute_input": "2025-02-10T14:43:52.518936Z",
     "iopub.status.busy": "2025-02-10T14:43:52.518629Z",
     "iopub.status.idle": "2025-02-10T14:43:52.523381Z",
     "shell.execute_reply": "2025-02-10T14:43:52.522560Z",
     "shell.execute_reply.started": "2025-02-10T14:43:52.518913Z"
    },
    "trusted": true
   },
   "outputs": [
    {
     "name": "stdout",
     "output_type": "stream",
     "text": [
      "14314\n"
     ]
    }
   ],
   "source": [
    "print(len(article_text))"
   ]
  },
  {
   "cell_type": "code",
   "execution_count": 12,
   "metadata": {
    "execution": {
     "iopub.execute_input": "2025-02-10T14:43:53.318304Z",
     "iopub.status.busy": "2025-02-10T14:43:53.317982Z",
     "iopub.status.idle": "2025-02-10T14:43:53.323215Z",
     "shell.execute_reply": "2025-02-10T14:43:53.322150Z",
     "shell.execute_reply.started": "2025-02-10T14:43:53.318280Z"
    },
    "trusted": true
   },
   "outputs": [
    {
     "name": "stdout",
     "output_type": "stream",
     "text": [
      "14314 <class 'str'>\n"
     ]
    }
   ],
   "source": [
    "print(len(article_text), type(article_text))"
   ]
  },
  {
   "cell_type": "markdown",
   "metadata": {},
   "source": [
    "<h1> Text summerization using Facebook large CNN <h1>"
   ]
  },
  {
   "cell_type": "code",
   "execution_count": 13,
   "metadata": {},
   "outputs": [
    {
     "name": "stdout",
     "output_type": "stream",
     "text": [
      "Requirement already satisfied: transformers in c:\\users\\soroosh gh\\appdata\\local\\programs\\python\\python311\\lib\\site-packages (4.56.1)\n",
      "Requirement already satisfied: datasets in c:\\users\\soroosh gh\\appdata\\local\\programs\\python\\python311\\lib\\site-packages (4.0.0)\n",
      "Requirement already satisfied: filelock in c:\\users\\soroosh gh\\appdata\\local\\programs\\python\\python311\\lib\\site-packages (from transformers) (3.18.0)\n",
      "Requirement already satisfied: huggingface-hub<1.0,>=0.34.0 in c:\\users\\soroosh gh\\appdata\\local\\programs\\python\\python311\\lib\\site-packages (from transformers) (0.34.4)\n",
      "Requirement already satisfied: numpy>=1.17 in c:\\users\\soroosh gh\\appdata\\local\\programs\\python\\python311\\lib\\site-packages (from transformers) (2.3.2)\n",
      "Requirement already satisfied: packaging>=20.0 in c:\\users\\soroosh gh\\appdata\\roaming\\python\\python311\\site-packages (from transformers) (25.0)\n",
      "Requirement already satisfied: pyyaml>=5.1 in c:\\users\\soroosh gh\\appdata\\local\\programs\\python\\python311\\lib\\site-packages (from transformers) (6.0.2)\n",
      "Requirement already satisfied: regex!=2019.12.17 in c:\\users\\soroosh gh\\appdata\\local\\programs\\python\\python311\\lib\\site-packages (from transformers) (2025.9.1)\n",
      "Requirement already satisfied: requests in c:\\users\\soroosh gh\\appdata\\local\\programs\\python\\python311\\lib\\site-packages (from transformers) (2.32.4)\n",
      "Requirement already satisfied: tokenizers<=0.23.0,>=0.22.0 in c:\\users\\soroosh gh\\appdata\\local\\programs\\python\\python311\\lib\\site-packages (from transformers) (0.22.0)\n",
      "Requirement already satisfied: safetensors>=0.4.3 in c:\\users\\soroosh gh\\appdata\\local\\programs\\python\\python311\\lib\\site-packages (from transformers) (0.6.2)\n",
      "Requirement already satisfied: tqdm>=4.27 in c:\\users\\soroosh gh\\appdata\\local\\programs\\python\\python311\\lib\\site-packages (from transformers) (4.67.1)\n",
      "Requirement already satisfied: pyarrow>=15.0.0 in c:\\users\\soroosh gh\\appdata\\local\\programs\\python\\python311\\lib\\site-packages (from datasets) (21.0.0)\n",
      "Requirement already satisfied: dill<0.3.9,>=0.3.0 in c:\\users\\soroosh gh\\appdata\\local\\programs\\python\\python311\\lib\\site-packages (from datasets) (0.3.8)\n",
      "Requirement already satisfied: pandas in c:\\users\\soroosh gh\\appdata\\local\\programs\\python\\python311\\lib\\site-packages (from datasets) (2.3.1)\n",
      "Requirement already satisfied: xxhash in c:\\users\\soroosh gh\\appdata\\local\\programs\\python\\python311\\lib\\site-packages (from datasets) (3.5.0)\n",
      "Requirement already satisfied: multiprocess<0.70.17 in c:\\users\\soroosh gh\\appdata\\local\\programs\\python\\python311\\lib\\site-packages (from datasets) (0.70.16)\n",
      "Requirement already satisfied: fsspec<=2025.3.0,>=2023.1.0 in c:\\users\\soroosh gh\\appdata\\local\\programs\\python\\python311\\lib\\site-packages (from fsspec[http]<=2025.3.0,>=2023.1.0->datasets) (2025.3.0)\n",
      "Requirement already satisfied: aiohttp!=4.0.0a0,!=4.0.0a1 in c:\\users\\soroosh gh\\appdata\\local\\programs\\python\\python311\\lib\\site-packages (from fsspec[http]<=2025.3.0,>=2023.1.0->datasets) (3.12.15)\n",
      "Requirement already satisfied: typing-extensions>=3.7.4.3 in c:\\users\\soroosh gh\\appdata\\roaming\\python\\python311\\site-packages (from huggingface-hub<1.0,>=0.34.0->transformers) (4.14.1)\n",
      "Requirement already satisfied: charset_normalizer<4,>=2 in c:\\users\\soroosh gh\\appdata\\local\\programs\\python\\python311\\lib\\site-packages (from requests->transformers) (3.4.2)\n",
      "Requirement already satisfied: idna<4,>=2.5 in c:\\users\\soroosh gh\\appdata\\local\\programs\\python\\python311\\lib\\site-packages (from requests->transformers) (3.10)\n",
      "Requirement already satisfied: urllib3<3,>=1.21.1 in c:\\users\\soroosh gh\\appdata\\local\\programs\\python\\python311\\lib\\site-packages (from requests->transformers) (2.5.0)\n",
      "Requirement already satisfied: certifi>=2017.4.17 in c:\\users\\soroosh gh\\appdata\\local\\programs\\python\\python311\\lib\\site-packages (from requests->transformers) (2025.7.14)\n",
      "Requirement already satisfied: colorama in c:\\users\\soroosh gh\\appdata\\roaming\\python\\python311\\site-packages (from tqdm>=4.27->transformers) (0.4.6)\n",
      "Requirement already satisfied: python-dateutil>=2.8.2 in c:\\users\\soroosh gh\\appdata\\roaming\\python\\python311\\site-packages (from pandas->datasets) (2.9.0.post0)\n",
      "Requirement already satisfied: pytz>=2020.1 in c:\\users\\soroosh gh\\appdata\\local\\programs\\python\\python311\\lib\\site-packages (from pandas->datasets) (2025.2)\n",
      "Requirement already satisfied: tzdata>=2022.7 in c:\\users\\soroosh gh\\appdata\\local\\programs\\python\\python311\\lib\\site-packages (from pandas->datasets) (2025.2)\n",
      "Requirement already satisfied: aiohappyeyeballs>=2.5.0 in c:\\users\\soroosh gh\\appdata\\local\\programs\\python\\python311\\lib\\site-packages (from aiohttp!=4.0.0a0,!=4.0.0a1->fsspec[http]<=2025.3.0,>=2023.1.0->datasets) (2.6.1)\n",
      "Requirement already satisfied: aiosignal>=1.4.0 in c:\\users\\soroosh gh\\appdata\\local\\programs\\python\\python311\\lib\\site-packages (from aiohttp!=4.0.0a0,!=4.0.0a1->fsspec[http]<=2025.3.0,>=2023.1.0->datasets) (1.4.0)\n",
      "Requirement already satisfied: attrs>=17.3.0 in c:\\users\\soroosh gh\\appdata\\local\\programs\\python\\python311\\lib\\site-packages (from aiohttp!=4.0.0a0,!=4.0.0a1->fsspec[http]<=2025.3.0,>=2023.1.0->datasets) (25.3.0)\n",
      "Requirement already satisfied: frozenlist>=1.1.1 in c:\\users\\soroosh gh\\appdata\\local\\programs\\python\\python311\\lib\\site-packages (from aiohttp!=4.0.0a0,!=4.0.0a1->fsspec[http]<=2025.3.0,>=2023.1.0->datasets) (1.7.0)\n",
      "Requirement already satisfied: multidict<7.0,>=4.5 in c:\\users\\soroosh gh\\appdata\\local\\programs\\python\\python311\\lib\\site-packages (from aiohttp!=4.0.0a0,!=4.0.0a1->fsspec[http]<=2025.3.0,>=2023.1.0->datasets) (6.6.4)\n",
      "Requirement already satisfied: propcache>=0.2.0 in c:\\users\\soroosh gh\\appdata\\local\\programs\\python\\python311\\lib\\site-packages (from aiohttp!=4.0.0a0,!=4.0.0a1->fsspec[http]<=2025.3.0,>=2023.1.0->datasets) (0.3.2)\n",
      "Requirement already satisfied: yarl<2.0,>=1.17.0 in c:\\users\\soroosh gh\\appdata\\local\\programs\\python\\python311\\lib\\site-packages (from aiohttp!=4.0.0a0,!=4.0.0a1->fsspec[http]<=2025.3.0,>=2023.1.0->datasets) (1.20.1)\n",
      "Requirement already satisfied: six>=1.5 in c:\\users\\soroosh gh\\appdata\\roaming\\python\\python311\\site-packages (from python-dateutil>=2.8.2->pandas->datasets) (1.17.0)\n",
      "Note: you may need to restart the kernel to use updated packages.\n"
     ]
    },
    {
     "name": "stderr",
     "output_type": "stream",
     "text": [
      "\n",
      "[notice] A new release of pip is available: 24.0 -> 25.2\n",
      "[notice] To update, run: python.exe -m pip install --upgrade pip\n"
     ]
    }
   ],
   "source": [
    "pip install transformers datasets "
   ]
  },
  {
   "cell_type": "code",
   "execution_count": 1,
   "metadata": {},
   "outputs": [],
   "source": [
    "from transformers import pipeline"
   ]
  },
  {
   "cell_type": "code",
   "execution_count": 15,
   "metadata": {},
   "outputs": [
    {
     "data": {
      "application/vnd.jupyter.widget-view+json": {
       "model_id": "d585c605876b4832bfb0547141bb54f7",
       "version_major": 2,
       "version_minor": 0
      },
      "text/plain": [
       "Fetching 13 files:   0%|          | 0/13 [00:00<?, ?it/s]"
      ]
     },
     "metadata": {},
     "output_type": "display_data"
    },
    {
     "name": "stderr",
     "output_type": "stream",
     "text": [
      "Device set to use cuda:0\n"
     ]
    },
    {
     "name": "stdout",
     "output_type": "stream",
     "text": [
      "CSK pipped defending champions Gujarat Titans by 15 runs on their home ground, MA Chidambaram Stadium. Dhoni was once fined for a code of conduct due to a slow rate, but now he can be banned from playing the final.\n"
     ]
    }
   ],
   "source": [
    "from huggingface_hub import snapshot_download\n",
    "from transformers import pipeline\n",
    "\n",
    "# ✅ Custom directory for this model only\n",
    "custom_cache_dir = r\"F:\\New folder (3)\\Text summerization\\Text-Summarization-with-HuggingFace-master\"\n",
    "\n",
    "# ✅ Download the model with progress bar\n",
    "model_path = snapshot_download(\n",
    "    repo_id=\"facebook/bart-large-cnn\",\n",
    "    cache_dir=custom_cache_dir\n",
    ")\n",
    "\n",
    "# ✅ Load pipeline using the downloaded model path\n",
    "summarizer = pipeline(\"summarization\", model=model_path)\n",
    "\n",
    "# ✅ Run summarization\n",
    "ARTICLE = \"\"\"<Chennai Super Kings captain MS Dhoni might get banned from playing the Indian Premier League (IPL) 2023 final. Dhoni was once fined for a code of conduct due to a slow rate, but now he can be banned from playing the final at the Narendra Modi Stadium on May 28, Sunday.\n",
    "During the GT vs CSK Qualifier 1 clash, Dhoni argued with the umpires which caused a four-minute delay. \n",
    "The wily Mahendra Singh Dhoni on Tuesday not only guided Chennai Super Kings to yet another IPL final but his clever act of gamesmanship by eating valuable minutes allowed his lethal weapon Matheesha Pathirana to bowl the 16th over against Gujarat Titans in the first IPL qualifier.\n",
    "CSK pipped the defending champions Gujarat Titans by 15 runs on their home ground, MA Chidambaram Stadium, to qualify for a record-extending 10th final as the four-time winners finally managed a win over the IPL 2022 winners in four matches.\n",
    "The incident took place when CSK bowler Matheesha Pathirana, who returned 4-0-37-2 while accounting for the dangerous Vijay Shankar and Mohammed Shami, was not allowed to bowl his second spell at the death.\n",
    "Pathirana had left the field in the second half of the chase of treating an undisclosed niggle. As per the IPL playing conditions, any player who leaves the field for more than eight minutes must be on the field for a similar amount of time after returning, after which he is allowed to bowl.\n",
    "But when Pathirana returned he was asked by Dhoni to bowl the 16th over with Gujarat Titans needing another 71 to win from 30 balls, having crawled to 102 for six.\n",
    "As per ESPN Cricinfo, Dhoni then had a conversation with umpire Chris Gaffaney. The commentary, meanwhile, informed that the Sri Lankan was out for nine minutes and the discussion on the field pertained to whether Pathirana could bowl or not.\n",
    "The report also stated that Dhoni was informed by match officials that Pathirana would have to wait for some more time before he could bowl. Dhoni then said that he understood the fact but he had no option but ask Pathirana to bowl. \n",
    "All these discussions took a total of 4 minutes after which Pathirana was allowed to bowl with an acceptable time of eight minutes being over. While Pathirana didn't get a wicket in that over, he did get a wicket in his very next over.>\"\"\"\n",
    "summary = summarizer(ARTICLE, max_length=200, min_length=30, do_sample=False)\n",
    "print(summary[0]['summary_text'])\n"
   ]
  },
  {
   "cell_type": "code",
   "execution_count": 3,
   "metadata": {},
   "outputs": [
    {
     "data": {
      "application/vnd.jupyter.widget-view+json": {
       "model_id": "efdc339ecf854078ba4e776a194da510",
       "version_major": 2,
       "version_minor": 0
      },
      "text/plain": [
       "Fetching 13 files:   0%|          | 0/13 [00:00<?, ?it/s]"
      ]
     },
     "metadata": {},
     "output_type": "display_data"
    },
    {
     "name": "stderr",
     "output_type": "stream",
     "text": [
      "Device set to use cuda:0\n"
     ]
    },
    {
     "name": "stdout",
     "output_type": "stream",
     "text": [
      "Vertical farming is a new way to grow food in urban areas. It can be used to reduce the need for large-scale farming. It is also a way to reduce energy consumption.\n"
     ]
    }
   ],
   "source": [
    "from huggingface_hub import snapshot_download\n",
    "from transformers import pipeline\n",
    "\n",
    "# ✅ Custom directory for this model only\n",
    "custom_cache_dir = r\"F:\\New folder (3)\\Text summerization\\Text-Summarization-with-HuggingFace-master\"\n",
    "\n",
    "# ✅ Download the model with progress bar\n",
    "model_path = snapshot_download(\n",
    "    repo_id=\"facebook/bart-large-cnn\",\n",
    "    cache_dir=custom_cache_dir\n",
    ")\n",
    "\n",
    "# ✅ Load pipeline using the downloaded model path\n",
    "summarizer = pipeline(\"summarization\", model=model_path)\n",
    "\n",
    "# ✅ Run summarization\n",
    "ARTICLE = \"\"\"<In recent years, urban vertical farming has emerged as a promising solution to the growing challenges of food security, climate change, and land scarcity. Unlike traditional agriculture, which relies heavily on vast tracts of land and seasonal cycles, vertical farming utilizes stacked layers of crops grown in controlled indoor environments. These farms often use hydroponic or aeroponic systems, LED lighting, and climate control technologies to optimize plant growth year-round.\n",
    "\n",
    "Cities like Singapore, Tokyo, and New York have embraced vertical farming as a way to reduce dependence on imported produce and shorten supply chains. By growing food closer to consumers, these farms help cut down on transportation emissions and ensure fresher, more nutritious products. Moreover, vertical farms can be integrated into existing urban infrastructure—such as repurposed warehouses, rooftops, and even skyscrapers—making them a flexible and scalable solution.\n",
    "\n",
    "Despite its advantages, vertical farming faces several hurdles. High startup costs, energy consumption, and technical complexity can deter widespread adoption. However, recent innovations in renewable energy integration, AI-driven crop monitoring, and modular farm design are helping to address these issues. Companies like AeroFarms and Plenty have demonstrated that vertical farming can be both economically viable and environmentally sustainable when scaled effectively.\n",
    "\n",
    "As the global population continues to urbanize and climate pressures intensify, vertical farming may play a crucial role in reshaping how we produce and consume food. It represents not just a technological shift, but a philosophical one—challenging the notion that agriculture must be rural, seasonal, and land-intensive. With continued investment and public support, vertical farming could become a cornerstone of resilient urban ecosystems in the decades to come.>\"\"\"\n",
    "summary = summarizer(ARTICLE, max_length=200, min_length=30, do_sample=False)\n",
    "print(summary[0]['summary_text'])"
   ]
  },
  {
   "cell_type": "markdown",
   "metadata": {},
   "source": [
    "<h1> Translation <h1>"
   ]
  },
  {
   "cell_type": "code",
   "execution_count": 3,
   "metadata": {},
   "outputs": [
    {
     "name": "stdout",
     "output_type": "stream",
     "text": [
      "Requirement already satisfied: transformers in c:\\users\\soroosh gh\\appdata\\local\\programs\\python\\python311\\lib\\site-packages (4.56.1)\n",
      "Requirement already satisfied: filelock in c:\\users\\soroosh gh\\appdata\\local\\programs\\python\\python311\\lib\\site-packages (from transformers) (3.18.0)\n",
      "Requirement already satisfied: huggingface-hub<1.0,>=0.34.0 in c:\\users\\soroosh gh\\appdata\\local\\programs\\python\\python311\\lib\\site-packages (from transformers) (0.34.4)\n",
      "Requirement already satisfied: numpy>=1.17 in c:\\users\\soroosh gh\\appdata\\local\\programs\\python\\python311\\lib\\site-packages (from transformers) (2.3.2)\n",
      "Requirement already satisfied: packaging>=20.0 in c:\\users\\soroosh gh\\appdata\\roaming\\python\\python311\\site-packages (from transformers) (25.0)\n",
      "Requirement already satisfied: pyyaml>=5.1 in c:\\users\\soroosh gh\\appdata\\local\\programs\\python\\python311\\lib\\site-packages (from transformers) (6.0.2)\n",
      "Requirement already satisfied: regex!=2019.12.17 in c:\\users\\soroosh gh\\appdata\\local\\programs\\python\\python311\\lib\\site-packages (from transformers) (2025.9.1)\n",
      "Requirement already satisfied: requests in c:\\users\\soroosh gh\\appdata\\local\\programs\\python\\python311\\lib\\site-packages (from transformers) (2.32.4)\n",
      "Requirement already satisfied: tokenizers<=0.23.0,>=0.22.0 in c:\\users\\soroosh gh\\appdata\\local\\programs\\python\\python311\\lib\\site-packages (from transformers) (0.22.0)\n",
      "Requirement already satisfied: safetensors>=0.4.3 in c:\\users\\soroosh gh\\appdata\\local\\programs\\python\\python311\\lib\\site-packages (from transformers) (0.6.2)\n",
      "Requirement already satisfied: tqdm>=4.27 in c:\\users\\soroosh gh\\appdata\\local\\programs\\python\\python311\\lib\\site-packages (from transformers) (4.67.1)\n",
      "Requirement already satisfied: fsspec>=2023.5.0 in c:\\users\\soroosh gh\\appdata\\local\\programs\\python\\python311\\lib\\site-packages (from huggingface-hub<1.0,>=0.34.0->transformers) (2025.3.0)\n",
      "Requirement already satisfied: typing-extensions>=3.7.4.3 in c:\\users\\soroosh gh\\appdata\\roaming\\python\\python311\\site-packages (from huggingface-hub<1.0,>=0.34.0->transformers) (4.14.1)\n",
      "Requirement already satisfied: colorama in c:\\users\\soroosh gh\\appdata\\roaming\\python\\python311\\site-packages (from tqdm>=4.27->transformers) (0.4.6)\n",
      "Requirement already satisfied: charset_normalizer<4,>=2 in c:\\users\\soroosh gh\\appdata\\local\\programs\\python\\python311\\lib\\site-packages (from requests->transformers) (3.4.2)\n",
      "Requirement already satisfied: idna<4,>=2.5 in c:\\users\\soroosh gh\\appdata\\local\\programs\\python\\python311\\lib\\site-packages (from requests->transformers) (3.10)\n",
      "Requirement already satisfied: urllib3<3,>=1.21.1 in c:\\users\\soroosh gh\\appdata\\local\\programs\\python\\python311\\lib\\site-packages (from requests->transformers) (2.5.0)\n",
      "Requirement already satisfied: certifi>=2017.4.17 in c:\\users\\soroosh gh\\appdata\\local\\programs\\python\\python311\\lib\\site-packages (from requests->transformers) (2025.7.14)\n"
     ]
    },
    {
     "name": "stderr",
     "output_type": "stream",
     "text": [
      "\n",
      "[notice] A new release of pip is available: 24.0 -> 25.2\n",
      "[notice] To update, run: python.exe -m pip install --upgrade pip\n"
     ]
    },
    {
     "name": "stdout",
     "output_type": "stream",
     "text": [
      "Collecting mosestokenizer\n",
      "  Downloading mosestokenizer-1.2.1.tar.gz (37 kB)\n",
      "  Installing build dependencies: started\n",
      "  Installing build dependencies: finished with status 'done'\n",
      "  Getting requirements to build wheel: started\n",
      "  Getting requirements to build wheel: finished with status 'done'\n",
      "  Preparing metadata (pyproject.toml): started\n",
      "  Preparing metadata (pyproject.toml): finished with status 'done'\n",
      "Collecting docopt (from mosestokenizer)\n",
      "  Downloading docopt-0.6.2.tar.gz (25 kB)\n",
      "  Installing build dependencies: started\n",
      "  Installing build dependencies: finished with status 'done'\n",
      "  Getting requirements to build wheel: started\n",
      "  Getting requirements to build wheel: finished with status 'done'\n",
      "  Preparing metadata (pyproject.toml): started\n",
      "  Preparing metadata (pyproject.toml): finished with status 'done'\n",
      "Collecting openfile (from mosestokenizer)\n",
      "  Downloading openfile-0.0.7-py3-none-any.whl.metadata (1.7 kB)\n",
      "Collecting uctools (from mosestokenizer)\n",
      "  Downloading uctools-1.3.0.tar.gz (4.6 kB)\n",
      "  Installing build dependencies: started\n",
      "  Installing build dependencies: finished with status 'done'\n",
      "  Getting requirements to build wheel: started\n",
      "  Getting requirements to build wheel: finished with status 'done'\n",
      "  Preparing metadata (pyproject.toml): started\n",
      "  Preparing metadata (pyproject.toml): finished with status 'done'\n",
      "Collecting toolwrapper (from mosestokenizer)\n",
      "  Downloading toolwrapper-2.1.0.tar.gz (3.2 kB)\n",
      "  Installing build dependencies: started\n",
      "  Installing build dependencies: finished with status 'done'\n",
      "  Getting requirements to build wheel: started\n",
      "  Getting requirements to build wheel: finished with status 'done'\n",
      "  Preparing metadata (pyproject.toml): started\n",
      "  Preparing metadata (pyproject.toml): finished with status 'done'\n",
      "Downloading openfile-0.0.7-py3-none-any.whl (2.4 kB)\n",
      "Building wheels for collected packages: mosestokenizer, docopt, toolwrapper, uctools\n",
      "  Building wheel for mosestokenizer (pyproject.toml): started\n",
      "  Building wheel for mosestokenizer (pyproject.toml): finished with status 'done'\n",
      "  Created wheel for mosestokenizer: filename=mosestokenizer-1.2.1-py3-none-any.whl size=49276 sha256=4d5bd0b5507c00b53822099e94635acff129d7b132ca20edea28e0b69a4c49b0\n",
      "  Stored in directory: c:\\users\\soroosh gh\\appdata\\local\\pip\\cache\\wheels\\34\\cc\\6e\\444b747bf2adc6a0530acd6a7afda9f908b219906cfd4df2e7\n",
      "  Building wheel for docopt (pyproject.toml): started\n",
      "  Building wheel for docopt (pyproject.toml): finished with status 'done'\n",
      "  Created wheel for docopt: filename=docopt-0.6.2-py2.py3-none-any.whl size=13858 sha256=28469f2bd34dc067686372527f798fb46bb5fb42478c19a39178b8e6315413fd\n",
      "  Stored in directory: c:\\users\\soroosh gh\\appdata\\local\\pip\\cache\\wheels\\1a\\b0\\8c\\4b75c4116c31f83c8f9f047231251e13cc74481cca4a78a9ce\n",
      "  Building wheel for toolwrapper (pyproject.toml): started\n",
      "  Building wheel for toolwrapper (pyproject.toml): finished with status 'done'\n",
      "  Created wheel for toolwrapper: filename=toolwrapper-2.1.0-py3-none-any.whl size=3414 sha256=cfcc54c7aa53dcfc3d0760f5d335eab6fd903062cedcb31a318c3a1b41c83be2\n",
      "  Stored in directory: c:\\users\\soroosh gh\\appdata\\local\\pip\\cache\\wheels\\28\\b0\\06\\bccd361b5b8bbf1ec88b72164fa52daaaa2221865fb980dff1\n",
      "  Building wheel for uctools (pyproject.toml): started\n",
      "  Building wheel for uctools (pyproject.toml): finished with status 'done'\n",
      "  Created wheel for uctools: filename=uctools-1.3.0-py3-none-any.whl size=6255 sha256=f4323768adb6cd3232dea959b8da790ae4d9236031f7b265e28de6a6bf9a3db6\n",
      "  Stored in directory: c:\\users\\soroosh gh\\appdata\\local\\pip\\cache\\wheels\\ad\\d6\\21\\763477f07e94a9d2567147f91d34897dfd1eb1062350302969\n",
      "Successfully built mosestokenizer docopt toolwrapper uctools\n",
      "Installing collected packages: toolwrapper, openfile, docopt, uctools, mosestokenizer\n",
      "Successfully installed docopt-0.6.2 mosestokenizer-1.2.1 openfile-0.0.7 toolwrapper-2.1.0 uctools-1.3.0\n"
     ]
    },
    {
     "name": "stderr",
     "output_type": "stream",
     "text": [
      "\n",
      "[notice] A new release of pip is available: 24.0 -> 25.2\n",
      "[notice] To update, run: python.exe -m pip install --upgrade pip\n"
     ]
    },
    {
     "name": "stdout",
     "output_type": "stream",
     "text": [
      "Collecting sentencepiece\n",
      "  Downloading sentencepiece-0.2.1-cp311-cp311-win_amd64.whl.metadata (10 kB)\n",
      "Downloading sentencepiece-0.2.1-cp311-cp311-win_amd64.whl (1.1 MB)\n",
      "   ---------------------------------------- 0.0/1.1 MB ? eta -:--:--\n",
      "   ---------------------------------------- 0.0/1.1 MB ? eta -:--:--\n",
      "   - -------------------------------------- 0.0/1.1 MB 660.6 kB/s eta 0:00:02\n",
      "   -- ------------------------------------- 0.1/1.1 MB 656.4 kB/s eta 0:00:02\n",
      "   --- ------------------------------------ 0.1/1.1 MB 655.4 kB/s eta 0:00:02\n",
      "   ------ --------------------------------- 0.2/1.1 MB 952.6 kB/s eta 0:00:01\n",
      "   -------- ------------------------------- 0.2/1.1 MB 962.7 kB/s eta 0:00:01\n",
      "   ------------ --------------------------- 0.3/1.1 MB 1.1 MB/s eta 0:00:01\n",
      "   --------------- ------------------------ 0.4/1.1 MB 1.2 MB/s eta 0:00:01\n",
      "   ------------------- -------------------- 0.5/1.1 MB 1.3 MB/s eta 0:00:01\n",
      "   ---------------------- ----------------- 0.6/1.1 MB 1.4 MB/s eta 0:00:01\n",
      "   ------------------------- -------------- 0.7/1.1 MB 1.4 MB/s eta 0:00:01\n",
      "   ---------------------------- ----------- 0.7/1.1 MB 1.4 MB/s eta 0:00:01\n",
      "   -------------------------------- ------- 0.8/1.1 MB 1.5 MB/s eta 0:00:01\n",
      "   ----------------------------------- ---- 0.9/1.1 MB 1.5 MB/s eta 0:00:01\n",
      "   -------------------------------------- - 1.0/1.1 MB 1.5 MB/s eta 0:00:01\n",
      "   ---------------------------------------  1.0/1.1 MB 1.5 MB/s eta 0:00:01\n",
      "   ---------------------------------------  1.0/1.1 MB 1.5 MB/s eta 0:00:01\n",
      "   ---------------------------------------- 1.1/1.1 MB 1.3 MB/s eta 0:00:00\n",
      "Installing collected packages: sentencepiece\n",
      "Successfully installed sentencepiece-0.2.1\n"
     ]
    },
    {
     "name": "stderr",
     "output_type": "stream",
     "text": [
      "\n",
      "[notice] A new release of pip is available: 24.0 -> 25.2\n",
      "[notice] To update, run: python.exe -m pip install --upgrade pip\n"
     ]
    }
   ],
   "source": [
    "!pip install transformers --upgrade\n",
    "!pip install mosestokenizer\n",
    "!pip install sentencepiece"
   ]
  },
  {
   "cell_type": "code",
   "execution_count": 1,
   "metadata": {},
   "outputs": [
    {
     "name": "stderr",
     "output_type": "stream",
     "text": [
      "c:\\Users\\Soroosh gh\\AppData\\Local\\Programs\\Python\\Python311\\Lib\\site-packages\\transformers\\models\\marian\\tokenization_marian.py:175: UserWarning: Recommended: pip install sacremoses.\n",
      "  warnings.warn(\"Recommended: pip install sacremoses.\")\n"
     ]
    },
    {
     "name": "stderr",
     "output_type": "stream",
     "text": [
      "c:\\Users\\Soroosh gh\\AppData\\Local\\Programs\\Python\\Python311\\Lib\\site-packages\\huggingface_hub\\file_download.py:143: UserWarning: `huggingface_hub` cache-system uses symlinks by default to efficiently store duplicated files but your machine does not support them in C:\\Users\\Soroosh gh\\.cache\\huggingface\\hub\\models--Helsinki-NLP--opus-mt-en-mul. Caching files will still work but in a degraded version that might require more space on your disk. This warning can be disabled by setting the `HF_HUB_DISABLE_SYMLINKS_WARNING` environment variable. For more details, see https://huggingface.co/docs/huggingface_hub/how-to-cache#limitations.\n",
      "To support symlinks on Windows, you either need to activate Developer Mode or to run Python as an administrator. In order to activate developer mode, see this article: https://docs.microsoft.com/en-us/windows/apps/get-started/enable-your-device-for-development\n",
      "  warnings.warn(message)\n"
     ]
    }
   ],
   "source": [
    "from transformers import AutoTokenizer, AutoModelForSeq2SeqLM\n",
    "  \n",
    "tokenizer = AutoTokenizer.from_pretrained(\"Helsinki-NLP/opus-mt-en-mul\")\n",
    "\n",
    "model = AutoModelForSeq2SeqLM.from_pretrained(\"Helsinki-NLP/opus-mt-en-mul\")"
   ]
  },
  {
   "cell_type": "code",
   "execution_count": 2,
   "metadata": {},
   "outputs": [
    {
     "name": "stderr",
     "output_type": "stream",
     "text": [
      "'wget' is not recognized as an internal or external command,\n",
      "operable program or batch file.\n"
     ]
    }
   ],
   "source": [
    "!wget https://raw.githubusercontent.com/haliaeetus/iso-639/master/data/iso_639-2.csv"
   ]
  },
  {
   "cell_type": "code",
   "execution_count": 6,
   "metadata": {},
   "outputs": [
    {
     "name": "stdout",
     "output_type": "stream",
     "text": [
      "  alpha3 alpha3b alpha2         en\n",
      "0    aar     NaN     aa       Afar\n",
      "1    abk     NaN     ab  Abkhazian\n",
      "2    ace     NaN    NaN   Achinese\n",
      "3    ach     NaN    NaN      Acoli\n",
      "4    ada     NaN    NaN    Adangme\n"
     ]
    }
   ],
   "source": [
    "import pandas as pd\n",
    "\n",
    "# 🔧 Set your direct file path here\n",
    "csv_path = \"F:/New folder (3)/Text summerization/Text-Summarization-with-HuggingFace-master/iso_639-2.csv\"  # Update this to your actual location\n",
    "\n",
    "# 📥 Load and clean the language codes\n",
    "langcodes = pd.read_csv(csv_path)\n",
    "langcodes.rename(columns={'639-2': 'alpha3', '639-2/B': 'alpha3b', '639-1': 'alpha2'}, inplace=True)\n",
    "langcodes = langcodes[langcodes.columns[:4]]\n",
    "\n",
    "# 👀 Preview the cleaned DataFrame\n",
    "print(langcodes.head())\n"
   ]
  },
  {
   "cell_type": "code",
   "execution_count": 7,
   "metadata": {},
   "outputs": [],
   "source": [
    "codes=[i.replace(\"<<\",\"\") for i in tokenizer.supported_language_codes ]\n",
    "supported_lang=[i.replace(\">>\",\"\") for i in codes ]"
   ]
  },
  {
   "cell_type": "code",
   "execution_count": 8,
   "metadata": {},
   "outputs": [],
   "source": [
    "langz=list(set(langcodes['alpha3'].tolist()) & set(supported_lang))\n",
    "lang_names=langcodes[langcodes.alpha3.isin(langz)]['en'].tolist()\n",
    "lang_names=lang_names[:138]"
   ]
  },
  {
   "cell_type": "code",
   "execution_count": 9,
   "metadata": {},
   "outputs": [
    {
     "data": {
      "text/markdown": [
       "##Hava bugün güzel. "
      ],
      "text/plain": [
       "<IPython.core.display.Markdown object>"
      ]
     },
     "execution_count": 9,
     "metadata": {},
     "output_type": "execute_result"
    }
   ],
   "source": [
    "\n",
    "#@title Translate with Transformers\n",
    "from IPython.display import Markdown as md\n",
    "english_text = \"The weather is nice today\" #@param {type:\"string\"}\n",
    "target_language = \"Turkish\" #@param ['Abkhazian', 'Afrikaans', 'Albanian', 'Amharic', 'Arabic', 'Aragonese', 'Armenian', 'Assamese', 'Asturian; Bable; Leonese; Asturleonese', 'Bashkir', 'Basque', 'Belarusian', 'Bengali', 'Tibetan', 'Breton', 'Bulgarian', 'Burmese', 'Catalan; Valencian', 'Cebuano', 'Czech', 'Chamorro', 'Chinese', 'Cherokee', 'Chuvash', 'Cornish', 'Crimean Tatar; Crimean Turkish', 'Welsh', 'Danish', 'German', 'Dutch; Flemish', 'Greek, Modern (1453-)', 'Esperanto', 'Estonian', 'Ewe', 'Faroese', 'Fijian', 'Finnish', 'French', 'Western Frisian', 'Georgian', 'Gilbertese', 'Gaelic; Scottish Gaelic', 'Irish', 'Galician', 'Manx', 'Guarani', 'Gujarati', 'Haitian; Haitian Creole', 'Hebrew', 'Hiligaynon', 'Hindi', 'Croatian', 'Upper Sorbian', 'Hungarian', 'Iban', 'Igbo', 'Icelandic', 'Ido', 'Iloko', 'Indonesian', 'Italian', 'Javanese', 'Lojban', 'Japanese', 'Kabyle', 'Kalaallisut; Greenlandic', 'Kannada', 'Central Khmer', 'Kinyarwanda', 'Lao', 'Latvian', 'Lingala', 'Lithuanian', 'Luxembourgish; Letzeburgesch', 'Ganda', 'Macedonian', 'Marshallese', 'Maithili', 'Malayalam', 'Maori', 'Marathi', 'Minangkabau', 'Malagasy', 'Maltese', 'Mongolian', 'Navajo; Navaho', 'Low German; Low Saxon; German, Low; Saxon, Low', 'Niuean', 'Norwegian Nynorsk; Nynorsk, Norwegian', 'Bokmål, Norwegian; Norwegian Bokmål', 'Chichewa; Chewa; Nyanja', 'Occitan (post 1500)', 'Oriya', 'Ossetian; Ossetic', 'Pangasinan', 'Papiamento', 'Polish', 'Portuguese', 'Pushto; Pashto', 'Romany', 'Romanian; Moldavian; Moldovan', 'Rundi', 'Russian', 'Sango', 'Scots', 'Sinhala; Sinhalese', 'Slovenian', 'Northern Sami', 'Samoan', 'Shona', 'Somali', 'Spanish; Castilian', 'Sundanese', 'Swedish', 'Tahitian', 'Tamil', 'Tatar', 'Telugu', 'Thai', 'Tigrinya', 'Tonga (Tonga Islands)', 'Tsonga', 'Turkmen', 'Turkish', 'Tuvalu', 'Tuvinian', 'Udmurt', 'Ukrainian', 'Umbundu', 'Urdu', 'Vietnamese', 'Waray', 'Walloon', 'Wolof', 'Xhosa', 'Yiddish', 'Yoruba', 'Zulu']\n",
    "#stopw=[\";\",\",\",\"(\"]\n",
    "if( ';'in target_language):\n",
    "  target_language=target_language[:target_language.index(';') + len(\";\")-1]\n",
    "  target_language = langcodes[langcodes.en.str.contains(target_language)]['alpha3'].tolist()[0]\n",
    "else:\n",
    "  target_language = langcodes[langcodes.en.isin([target_language.capitalize()])]['alpha3'].tolist()[0]\n",
    "\n",
    "src_txt = f'>>{target_language}<< {english_text}'\n",
    "translated = model.generate(**tokenizer(src_txt,return_tensors='pt'))\n",
    "target_text=''.join([tokenizer.decode(t, skip_special_tokens=True) for t in translated])\n",
    "\n",
    "\n",
    "md(\"##{} \".format(target_text))"
   ]
  }
 ],
 "metadata": {
  "kaggle": {
   "accelerator": "gpu",
   "dataSources": [],
   "dockerImageVersionId": 30888,
   "isGpuEnabled": true,
   "isInternetEnabled": true,
   "language": "python",
   "sourceType": "notebook"
  },
  "kernelspec": {
   "display_name": "Speed_Python",
   "language": "python",
   "name": "speed_python"
  },
  "language_info": {
   "codemirror_mode": {
    "name": "ipython",
    "version": 3
   },
   "file_extension": ".py",
   "mimetype": "text/x-python",
   "name": "python",
   "nbconvert_exporter": "python",
   "pygments_lexer": "ipython3",
   "version": "3.11.13"
  }
 },
 "nbformat": 4,
 "nbformat_minor": 4
}
