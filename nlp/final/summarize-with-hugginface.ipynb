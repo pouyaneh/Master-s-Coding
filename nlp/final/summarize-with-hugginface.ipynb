{
 "cells": [
  {
   "cell_type": "code",
   "execution_count": null,
   "id": "8fad4a10",
   "metadata": {},
   "outputs": [],
   "source": [
    "import torch"
   ]
  },
  {
   "cell_type": "code",
   "execution_count": null,
   "id": "ddaec3bb",
   "metadata": {},
   "outputs": [
    {
     "name": "stdout",
     "output_type": "stream",
     "text": [
      "True\n"
     ]
    }
   ],
   "source": [
    "# Check if CUDA (GPU support) is available in the currently installed torch package.\n",
    "print(torch.cuda.is_available())"
   ]
  },
  {
   "cell_type": "code",
   "execution_count": null,
   "id": "71884bf0",
   "metadata": {},
   "outputs": [
    {
     "name": "stdout",
     "output_type": "stream",
     "text": [
      "2.5.1\n"
     ]
    }
   ],
   "source": [
    "# Print the torch package version.\n",
    "print(torch.__version__)"
   ]
  },
  {
   "cell_type": "code",
   "execution_count": null,
   "id": "b531bd70",
   "metadata": {},
   "outputs": [
    {
     "name": "stdout",
     "output_type": "stream",
     "text": [
      "True\n"
     ]
    }
   ],
   "source": [
    "# Duplicate: again checking CUDA availability (this is redundant).\n",
    "print(torch.cuda.is_available())"
   ]
  },
  {
   "cell_type": "code",
   "execution_count": null,
   "id": "9d6b2f22",
   "metadata": {},
   "outputs": [
    {
     "name": "stdout",
     "output_type": "stream",
     "text": [
      "1\n"
     ]
    }
   ],
   "source": [
    "# Print number of CUDA devices (GPUs) visible to torch.\n",
    "print(torch.cuda.device_count())"
   ]
  },
  {
   "cell_type": "code",
   "execution_count": null,
   "id": "17b2aa02",
   "metadata": {},
   "outputs": [
    {
     "name": "stdout",
     "output_type": "stream",
     "text": [
      "NVIDIA GeForce RTX 3050 Ti Laptop GPU\n"
     ]
    }
   ],
   "source": [
    "# Print the name of CUDA device 0 — will raise an error if no GPU is available.\n",
    "print(torch.cuda.get_device_name(0))"
   ]
  },
  {
   "cell_type": "code",
   "execution_count": null,
   "id": "84e8b695",
   "metadata": {},
   "outputs": [
    {
     "name": "stdout",
     "output_type": "stream",
     "text": [
      "0\n"
     ]
    }
   ],
   "source": [
    "# Print the current active CUDA device index.\n",
    "print(torch.cuda.current_device())"
   ]
  },
  {
   "cell_type": "markdown",
   "id": "d436846d",
   "metadata": {},
   "source": [
    "```python\n",
    "\n",
    "# Upgrade pip (shell command; runs in notebook cell)\n",
    "!pip install --upgrade pip \n",
    "\n",
    "# Install torch, torchvision, torchaudio, transformers, datasets, accelerate via pip.\n",
    "# NOTE: installation of torch should match your CUDA version; installing like this may install CPU-only or mismatch CUDA.\n",
    "!pip install torch torchvision torchaudio transformers datasets accelerate \n",
    "\n",
    "# Upgrade category-encoders package (unrelated to transformers/pytorch but OK if used elsewhere)\n",
    "!pip install --upgrade category-encoders\n",
    "\n",
    "# Uninstall scikit-learn (force), probably to reinstall a specific version next — this removes the existing sklearn package.\n",
    "!pip uninstall scikit-learn  -y\n",
    "\n",
    "# Install a specific sklearn version (quiet mode)\n",
    "!pip install scikit-learn==1.6.1 -q\n",
    "\n",
    "```"
   ]
  },
  {
   "cell_type": "markdown",
   "id": "d4c67588",
   "metadata": {},
   "source": [
    "```python\n",
    "\n",
    "# Remove Hugging Face cache directory (shell command) — clears cached models/tokenizers\n",
    "rm -rf ~/.cache/huggingface\n",
    "\n",
    "```"
   ]
  },
  {
   "cell_type": "markdown",
   "id": "1f6c0681",
   "metadata": {},
   "source": [
    "### Download / prepare article text"
   ]
  },
  {
   "cell_type": "code",
   "execution_count": null,
   "id": "511e3d3b",
   "metadata": {},
   "outputs": [],
   "source": [
    "import requests\n",
    "from bs4 import BeautifulSoup"
   ]
  },
  {
   "cell_type": "code",
   "execution_count": null,
   "id": "88c944f1",
   "metadata": {},
   "outputs": [],
   "source": [
    "# The URL to scrape — loading HTML with requests (web scraping may fail if the site blocks automated requests).\n",
    "url = \"https://medium.com/analytics-vidhya/openai-gpt-3-language-models-are-few-shot-learners-82531b3d3122\""
   ]
  },
  {
   "cell_type": "markdown",
   "id": "e6d088ad",
   "metadata": {},
   "source": [
    "```python\n",
    "\n",
    "# Send HTTP GET request.\n",
    "response = requests.get(url)\n",
    "# Parse response HTML with BeautifulSoup.\n",
    "soup = BeautifulSoup(response.text, \"html.parser\")\n",
    "\n",
    "```"
   ]
  },
  {
   "cell_type": "code",
   "execution_count": null,
   "id": "aa48cdde",
   "metadata": {},
   "outputs": [],
   "source": [
    "try:\n",
    "    # Send HTTP GET request.\n",
    "    response = requests.get(url, timeout=10)\n",
    "    response.raise_for_status()\n",
    "\n",
    "    # Parse response HTML with BeautifulSoup.\n",
    "    soup = BeautifulSoup(response.text, \"html.parser\")\n",
    "except Exception as e:\n",
    "    print(\"Failed to fetch or parse the URL:\", e)\n",
    "    # Fallback: use a local string or prompt user to supply text"
   ]
  }
 ],
 "metadata": {
  "language_info": {
   "name": "python"
  }
 },
 "nbformat": 4,
 "nbformat_minor": 5
}
