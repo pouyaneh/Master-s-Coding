{
 "cells": [
  {
   "cell_type": "code",
   "execution_count": null,
   "id": "8fad4a10",
   "metadata": {},
   "outputs": [],
   "source": [
    "import torch"
   ]
  },
  {
   "cell_type": "code",
   "execution_count": null,
   "id": "ddaec3bb",
   "metadata": {},
   "outputs": [
    {
     "name": "stdout",
     "output_type": "stream",
     "text": [
      "True\n"
     ]
    }
   ],
   "source": [
    "# Check if CUDA (GPU support) is available in the currently installed torch package.\n",
    "print(torch.cuda.is_available())"
   ]
  },
  {
   "cell_type": "code",
   "execution_count": null,
   "id": "71884bf0",
   "metadata": {},
   "outputs": [
    {
     "name": "stdout",
     "output_type": "stream",
     "text": [
      "2.5.1\n"
     ]
    }
   ],
   "source": [
    "# Print the torch package version.\n",
    "print(torch.__version__)"
   ]
  },
  {
   "cell_type": "code",
   "execution_count": null,
   "id": "b531bd70",
   "metadata": {},
   "outputs": [
    {
     "name": "stdout",
     "output_type": "stream",
     "text": [
      "True\n"
     ]
    }
   ],
   "source": [
    "# Duplicate: again checking CUDA availability (this is redundant).\n",
    "print(torch.cuda.is_available())"
   ]
  },
  {
   "cell_type": "code",
   "execution_count": null,
   "id": "9d6b2f22",
   "metadata": {},
   "outputs": [
    {
     "name": "stdout",
     "output_type": "stream",
     "text": [
      "1\n"
     ]
    }
   ],
   "source": [
    "# Print number of CUDA devices (GPUs) visible to torch.\n",
    "print(torch.cuda.device_count())"
   ]
  },
  {
   "cell_type": "code",
   "execution_count": null,
   "id": "17b2aa02",
   "metadata": {},
   "outputs": [
    {
     "name": "stdout",
     "output_type": "stream",
     "text": [
      "NVIDIA GeForce RTX 3050 Ti Laptop GPU\n"
     ]
    }
   ],
   "source": [
    "# Print the name of CUDA device 0 — will raise an error if no GPU is available.\n",
    "print(torch.cuda.get_device_name(0))"
   ]
  },
  {
   "cell_type": "code",
   "execution_count": null,
   "id": "84e8b695",
   "metadata": {},
   "outputs": [
    {
     "name": "stdout",
     "output_type": "stream",
     "text": [
      "0\n"
     ]
    }
   ],
   "source": [
    "# Print the current active CUDA device index.\n",
    "print(torch.cuda.current_device())"
   ]
  },
  {
   "cell_type": "markdown",
   "id": "d436846d",
   "metadata": {},
   "source": [
    "```python\n",
    "\n",
    "# Upgrade pip (shell command; runs in notebook cell)\n",
    "!pip install --upgrade pip \n",
    "\n",
    "# Install torch, torchvision, torchaudio, transformers, datasets, accelerate via pip.\n",
    "# NOTE: installation of torch should match your CUDA version; installing like this may install CPU-only or mismatch CUDA.\n",
    "!pip install torch torchvision torchaudio transformers datasets accelerate \n",
    "\n",
    "# Upgrade category-encoders package (unrelated to transformers/pytorch but OK if used elsewhere)\n",
    "!pip install --upgrade category-encoders\n",
    "\n",
    "# Uninstall scikit-learn (force), probably to reinstall a specific version next — this removes the existing sklearn package.\n",
    "!pip uninstall scikit-learn  -y\n",
    "\n",
    "# Install a specific sklearn version (quiet mode)\n",
    "!pip install scikit-learn==1.6.1 -q\n",
    "\n",
    "```"
   ]
  },
  {
   "cell_type": "markdown",
   "id": "d4c67588",
   "metadata": {},
   "source": [
    "```python\n",
    "\n",
    "# Remove Hugging Face cache directory (shell command) — clears cached models/tokenizers\n",
    "rm -rf ~/.cache/huggingface\n",
    "\n",
    "```"
   ]
  },
  {
   "cell_type": "markdown",
   "id": "1f6c0681",
   "metadata": {},
   "source": [
    "### Download / prepare article text"
   ]
  },
  {
   "cell_type": "code",
   "execution_count": null,
   "id": "511e3d3b",
   "metadata": {},
   "outputs": [],
   "source": [
    "import requests\n",
    "from bs4 import BeautifulSoup"
   ]
  },
  {
   "cell_type": "code",
   "execution_count": null,
   "id": "88c944f1",
   "metadata": {},
   "outputs": [],
   "source": [
    "# The URL to scrape — loading HTML with requests (web scraping may fail if the site blocks automated requests).\n",
    "url = \"https://medium.com/analytics-vidhya/openai-gpt-3-language-models-are-few-shot-learners-82531b3d3122\""
   ]
  },
  {
   "cell_type": "markdown",
   "id": "e6d088ad",
   "metadata": {},
   "source": [
    "```python\n",
    "\n",
    "# Send HTTP GET request.\n",
    "response = requests.get(url)\n",
    "# Parse response HTML with BeautifulSoup.\n",
    "soup = BeautifulSoup(response.text, \"html.parser\")\n",
    "\n",
    "```"
   ]
  },
  {
   "cell_type": "code",
   "execution_count": null,
   "id": "aa48cdde",
   "metadata": {},
   "outputs": [],
   "source": [
    "try:\n",
    "    # Send HTTP GET request.\n",
    "    response = requests.get(url, timeout=10)\n",
    "    response.raise_for_status()\n",
    "\n",
    "    # Parse response HTML with BeautifulSoup.\n",
    "    soup = BeautifulSoup(response.text, \"html.parser\")\n",
    "except Exception as e:\n",
    "    print(\"Failed to fetch or parse the URL:\", e)\n",
    "    # Fallback: use a local string or prompt user to supply text"
   ]
  },
  {
   "cell_type": "code",
   "execution_count": null,
   "id": "2a0a1ffa",
   "metadata": {},
   "outputs": [],
   "source": [
    "# Find all paragraph tags.\n",
    "paragraphs = soup.find_all(\"p\")\n",
    "# Join text from all <p> tags into a single string as the article text.\n",
    "article_text = \" \".join([p.get_text() for p in paragraphs])"
   ]
  },
  {
   "cell_type": "code",
   "execution_count": null,
   "id": "b098cf58",
   "metadata": {},
   "outputs": [
    {
     "name": "stdout",
     "output_type": "stream",
     "text": [
      "Sign up Sign in Sign up Sign in Soheil Tehranipour Follow Analytics Vidhya -- 4 Listen Share OpenAI recently published a paper describing GPT-3, a deep-learning model for Natural Language Processing, with 175 Billion parameters(!!!), 100x more than the previous version, GPT-2. The model is pre-trained on nearly half a trillion words and achieves SOTA performance on several NLP benchmarks without fine-tuning. Based on its paper, GPT-3 is an autoregressive language model as opposed to a denoising autoencoder like BERT. I decided to write about some of the comparative differences between those two architectures of language models. The paper is an investigation into what you can do with giant language models. Now this language model is an order of magnitude larger than anyone has ever built a language model. OpenAI’s researchers: “In this work we do not fine-tune GPT-3 because our focus is on task-agnostic performance,” So, they seem appropriate for natural language generation. One of the things I want to explore here, is mainly an academic endeavor. The commercial utility which is something that can help us in industry is not possible with GPT-3 (at least not possible right not) which is only in reach for the very top tech companies like Microsoft,Google or OpenAI. you could learn a complex hierarchy of relationships directly between the tokens it was no longer this sequential representation where you only knew what happened at one time step backwards it was a real paradigm shift and straight away these language processing models produce SOTA results across the board. Generally speaking, there are two architectural patterns that we see with these transformers’ architectures. 2. The other type of model is what’s called a denoising autoencoder like BERT and RoBERTa and XLNET and what these do is you feed in an input sentence and then you typically add some noise to it and then you say what you expect. in the photo below, you can check the size of parameters for each NLP effort before GPT-3. Now, it’s time to check some famous terms. The OpenAI researchers state that larger models make increasingly efficient use of in-context information. As can be seen in the plot below, the steeper “in-context learning curves” for large models show improved ability to learn from contextual information. I read somewhere that the whole story of GPT-3 costs “nearly $12 million dollars.” I know that it’s not even a penny for Elon Musk but for using GPT-3 in action for practical uses, this is not what the companies like. Also, One hypothesis is that GPT-3 has so many parameters (half the number of tokens trained on) that it is starting to act like a memory network. As you should know, GPT-2 GPT-2 (a successor to GPT), was trained simply to predict the next word in 40GB of Internet text. GPT-2 is a large transformer-based language model with 1.5 billion parameters, trained on a dataset of 8 million web pages. GPT-2 is trained with a simple objective: predict the next word, given all of the previous words within some text. The diversity of the dataset causes this simple goal to contain naturally occurring demonstrations of many tasks across diverse domains. GPT-2 is a direct scale-up of GPT, with more than 10X the parameters and trained on more than 10X the amount of data. (Based on OpenAI) But, GPT-3 is upgraded with 175 billion parameters, it tailors and escalates the GPT-2 architecture, it also involves adjusted initialization, pre-normalization, and changeable tokenization. It reflects substantial performance on various NLP tasks and benchmarks in three distinct shots, i.e. zero-shot, one-shot and some-shot environments. So, these things seem to be appropriate for things like question answering when you need to point to spans in your input sequence for example if you’re doing in-span question answering the auto-regressive models are quite attractive because you can just keep generating data forever. For training, the researchers have used a combination of model parallelism within each matrix multiply and model parallelism. More information about the training corpus is listed below: GPT-3 was trained on V100 GPU on the part of a high-bandwidth cluster provided by Microsoft. Evaluation of GPT-3 is done under 3 conditions: The results show that GPT-3 showed strong performance with translation, question-answering, and cloze tasks, as well as with unscrambling words and performing 3-digit arithmetic. The researchers claim that GPT-3 can even generate news articles in which human evaluators have difficulty distinguishing from articles written by humans. GPT-3 is an incredibly large model, and one cannot expect to build something like this without fancy computational resources. However, the researchers assure that these models can be efficient once trained, where even a full GPT-3 model generating 74 pages of content from a trained model can cost only a few cents in energy costs. As with GPT-2, OpenAI has not released the trained model or the code, although there is a GitHub repository containing some of the test datasets as well as a collection of text samples generated by the model. OpenAI has recently unveiled the latest epitome of its eye-catching text generator, GPT-3 that has 175 billion parameters. GPT-3 can execute an amazing bandwidth of natural language processing tasks, even without requiring fine-tuning for a specific task. It is capable of performing machine translation, question-answering, reading conceptual tasks, scripting poems, and elementary math. Public domain.  -- -- 4 Analytics Vidhya is a community of Generative AI and Data Science professionals. We are building the next-gen data science ecosystem https://www.analyticsvidhya.com Ph.D. Candidate, Passionate about data science to improve the world./ Linkedin: https://www.linkedin.com/in/soheiltehrani/ Help Status About Careers Press Blog Privacy Terms Text to speech Teams\n"
     ]
    }
   ],
   "source": [
    "# Print the entire scraped article text (can be very long).\n",
    "print(article_text[:])"
   ]
  },
  {
   "cell_type": "code",
   "execution_count": null,
   "id": "924e0c22",
   "metadata": {},
   "outputs": [
    {
     "name": "stdout",
     "output_type": "stream",
     "text": [
      "5923\n"
     ]
    }
   ],
   "source": [
    "# Print number of characters in article_text.\n",
    "print(len(article_text))"
   ]
  },
  {
   "cell_type": "code",
   "execution_count": null,
   "id": "0ca6a61a",
   "metadata": {},
   "outputs": [
    {
     "name": "stdout",
     "output_type": "stream",
     "text": [
      "5923 <class 'str'>\n"
     ]
    }
   ],
   "source": [
    "# Print length and type for debugging.\n",
    "print(len(article_text), type(article_text))"
   ]
  },
  {
   "cell_type": "markdown",
   "id": "b54a2368",
   "metadata": {},
   "source": [
    "# BART model"
   ]
  },
  {
   "cell_type": "markdown",
   "id": "255024e9",
   "metadata": {},
   "source": [
    "```python\n",
    "\n",
    "# Uninstall torch (shell) — WARNING: uninstalling torch after importing it earlier can destabilize the running kernel.\n",
    "!pip uninstall torch torchvision torchaudio -y\n",
    "\n",
    "# Reinstall torch with a specific CUDA wheel index (cu121). This may not match the environment and usually requires restart.\n",
    "!pip install torch torchvision torchaudio --index-url https://download.pytorch.org/whl/cu121\n",
    "\n",
    "```"
   ]
  },
  {
   "cell_type": "code",
   "execution_count": null,
   "id": "aa40bc76",
   "metadata": {},
   "outputs": [],
   "source": [
    "from transformers import pipeline"
   ]
  },
  {
   "cell_type": "code",
   "execution_count": null,
   "id": "94a3bf41",
   "metadata": {},
   "outputs": [
    {
     "data": {
      "application/vnd.jupyter.widget-view+json": {
       "model_id": "c26de0d982fe453a9f5d83d3f483f2f6",
       "version_major": 2,
       "version_minor": 0
      },
      "text/plain": [
       "config.json:   0%|          | 0.00/1.58k [00:00<?, ?B/s]"
      ]
     },
     "metadata": {},
     "output_type": "display_data"
    },
    {
     "data": {
      "application/vnd.jupyter.widget-view+json": {
       "model_id": "5bda9037115f4f1bb12b31dc8c9e7d07",
       "version_major": 2,
       "version_minor": 0
      },
      "text/plain": [
       "model.safetensors:   0%|          | 0.00/1.63G [00:00<?, ?B/s]"
      ]
     },
     "metadata": {},
     "output_type": "display_data"
    },
    {
     "data": {
      "application/vnd.jupyter.widget-view+json": {
       "model_id": "caaf5e3d89c148c09f9353138e988461",
       "version_major": 2,
       "version_minor": 0
      },
      "text/plain": [
       "generation_config.json:   0%|          | 0.00/363 [00:00<?, ?B/s]"
      ]
     },
     "metadata": {},
     "output_type": "display_data"
    },
    {
     "data": {
      "application/vnd.jupyter.widget-view+json": {
       "model_id": "7b52850577214561b0fcb21ee0527458",
       "version_major": 2,
       "version_minor": 0
      },
      "text/plain": [
       "vocab.json:   0%|          | 0.00/899k [00:00<?, ?B/s]"
      ]
     },
     "metadata": {},
     "output_type": "display_data"
    },
    {
     "data": {
      "application/vnd.jupyter.widget-view+json": {
       "model_id": "d0e4de2d2ade4a6faa98f53b4acd0a20",
       "version_major": 2,
       "version_minor": 0
      },
      "text/plain": [
       "merges.txt:   0%|          | 0.00/456k [00:00<?, ?B/s]"
      ]
     },
     "metadata": {},
     "output_type": "display_data"
    },
    {
     "data": {
      "application/vnd.jupyter.widget-view+json": {
       "model_id": "5751781d4ea64ff4832ed09cff956ed9",
       "version_major": 2,
       "version_minor": 0
      },
      "text/plain": [
       "tokenizer.json:   0%|          | 0.00/1.36M [00:00<?, ?B/s]"
      ]
     },
     "metadata": {},
     "output_type": "display_data"
    },
    {
     "name": "stderr",
     "output_type": "stream",
     "text": [
      "Device set to use cuda:0\n"
     ]
    }
   ],
   "source": [
    "# Create a summarization pipeline using facebook/bart-large-cnn and place it on GPU device 0 (device=0).\n",
    "summarizer = pipeline(\"summarization\", model=\"facebook/bart-large-cnn\", device=0)"
   ]
  }
 ],
 "metadata": {
  "language_info": {
   "name": "python"
  }
 },
 "nbformat": 4,
 "nbformat_minor": 5
}
