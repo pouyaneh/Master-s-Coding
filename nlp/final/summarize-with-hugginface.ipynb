{
 "cells": [
  {
   "cell_type": "code",
   "execution_count": null,
   "id": "8fad4a10",
   "metadata": {},
   "outputs": [],
   "source": [
    "import torch"
   ]
  },
  {
   "cell_type": "code",
   "execution_count": null,
   "id": "ddaec3bb",
   "metadata": {},
   "outputs": [
    {
     "name": "stdout",
     "output_type": "stream",
     "text": [
      "True\n"
     ]
    }
   ],
   "source": [
    "# Check if CUDA (GPU support) is available in the currently installed torch package.\n",
    "print(torch.cuda.is_available())"
   ]
  },
  {
   "cell_type": "code",
   "execution_count": null,
   "id": "71884bf0",
   "metadata": {},
   "outputs": [
    {
     "name": "stdout",
     "output_type": "stream",
     "text": [
      "2.5.1\n"
     ]
    }
   ],
   "source": [
    "# Print the torch package version.\n",
    "print(torch.__version__)"
   ]
  },
  {
   "cell_type": "code",
   "execution_count": null,
   "id": "b531bd70",
   "metadata": {},
   "outputs": [
    {
     "name": "stdout",
     "output_type": "stream",
     "text": [
      "True\n"
     ]
    }
   ],
   "source": [
    "# Duplicate: again checking CUDA availability (this is redundant).\n",
    "print(torch.cuda.is_available())"
   ]
  },
  {
   "cell_type": "code",
   "execution_count": null,
   "id": "9d6b2f22",
   "metadata": {},
   "outputs": [
    {
     "name": "stdout",
     "output_type": "stream",
     "text": [
      "1\n"
     ]
    }
   ],
   "source": [
    "# Print number of CUDA devices (GPUs) visible to torch.\n",
    "print(torch.cuda.device_count())"
   ]
  },
  {
   "cell_type": "code",
   "execution_count": null,
   "id": "17b2aa02",
   "metadata": {},
   "outputs": [
    {
     "name": "stdout",
     "output_type": "stream",
     "text": [
      "NVIDIA GeForce RTX 3050 Ti Laptop GPU\n"
     ]
    }
   ],
   "source": [
    "# Print the name of CUDA device 0 — will raise an error if no GPU is available.\n",
    "print(torch.cuda.get_device_name(0))"
   ]
  },
  {
   "cell_type": "code",
   "execution_count": null,
   "id": "84e8b695",
   "metadata": {},
   "outputs": [
    {
     "name": "stdout",
     "output_type": "stream",
     "text": [
      "0\n"
     ]
    }
   ],
   "source": [
    "# Print the current active CUDA device index.\n",
    "print(torch.cuda.current_device())"
   ]
  },
  {
   "cell_type": "markdown",
   "id": "d436846d",
   "metadata": {},
   "source": [
    "```python\n",
    "\n",
    "# Upgrade pip (shell command; runs in notebook cell)\n",
    "!pip install --upgrade pip \n",
    "\n",
    "# Install torch, torchvision, torchaudio, transformers, datasets, accelerate via pip.\n",
    "# NOTE: installation of torch should match your CUDA version; installing like this may install CPU-only or mismatch CUDA.\n",
    "!pip install torch torchvision torchaudio transformers datasets accelerate \n",
    "\n",
    "# Upgrade category-encoders package (unrelated to transformers/pytorch but OK if used elsewhere)\n",
    "!pip install --upgrade category-encoders\n",
    "\n",
    "# Uninstall scikit-learn (force), probably to reinstall a specific version next — this removes the existing sklearn package.\n",
    "!pip uninstall scikit-learn  -y\n",
    "\n",
    "# Install a specific sklearn version (quiet mode)\n",
    "!pip install scikit-learn==1.6.1 -q\n",
    "\n",
    "```"
   ]
  }
 ],
 "metadata": {
  "language_info": {
   "name": "python"
  }
 },
 "nbformat": 4,
 "nbformat_minor": 5
}
