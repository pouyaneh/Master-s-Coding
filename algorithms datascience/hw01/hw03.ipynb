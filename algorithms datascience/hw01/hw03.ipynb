{
 "cells": [
  {
   "cell_type": "markdown",
   "metadata": {},
   "source": [
    "# 2.8 Tutorial: Computing Similarity"
   ]
  },
  {
   "cell_type": "code",
   "execution_count": 1,
   "metadata": {
    "button": false,
    "new_sheet": false,
    "run_control": {
     "read_only": false
    }
   },
   "outputs": [],
   "source": [
    "import sys\n",
    "import operator"
   ]
  },
  {
   "cell_type": "code",
   "execution_count": 2,
   "metadata": {},
   "outputs": [
    {
     "data": {
      "text/plain": [
       "[0, 1, 4, 9, 16]"
      ]
     },
     "execution_count": 2,
     "metadata": {},
     "output_type": "execute_result"
    }
   ],
   "source": [
    "s = [0]*5 \n",
    "for i in range(5):\n",
    "    s[i] = i**2\n",
    "s"
   ]
  },
  {
   "cell_type": "code",
   "execution_count": 3,
   "metadata": {},
   "outputs": [],
   "source": [
    "n = 5"
   ]
  },
  {
   "cell_type": "code",
   "execution_count": 4,
   "metadata": {},
   "outputs": [
    {
     "data": {
      "text/plain": [
       "{(0, 1),\n",
       " (0, 2),\n",
       " (0, 3),\n",
       " (0, 4),\n",
       " (0, 5),\n",
       " (1, 2),\n",
       " (1, 3),\n",
       " (1, 4),\n",
       " (1, 5),\n",
       " (2, 3),\n",
       " (2, 4),\n",
       " (2, 5),\n",
       " (3, 4),\n",
       " (3, 5),\n",
       " (4, 5)}"
      ]
     },
     "execution_count": 4,
     "metadata": {},
     "output_type": "execute_result"
    }
   ],
   "source": [
    "pairs = set({}) \n",
    "for i in range(n):\n",
    "    for j in range(i+1, n+1, 1):\n",
    "        pairs = pairs.union({(i,j)})\n",
    "pairs"
   ]
  },
  {
   "cell_type": "code",
   "execution_count": 5,
   "metadata": {},
   "outputs": [
    {
     "data": {
      "text/plain": [
       "{(0, 1),\n",
       " (0, 2),\n",
       " (0, 3),\n",
       " (0, 4),\n",
       " (0, 5),\n",
       " (1, 2),\n",
       " (1, 3),\n",
       " (1, 4),\n",
       " (1, 5),\n",
       " (2, 3),\n",
       " (2, 4),\n",
       " (2, 5),\n",
       " (3, 4),\n",
       " (3, 5),\n",
       " (4, 5)}"
      ]
     },
     "execution_count": 5,
     "metadata": {},
     "output_type": "execute_result"
    }
   ],
   "source": [
    "pairs = {(i,j) for i in range(n) for j in range(i+1, n+1, 1)}\n",
    "pairs"
   ]
  },
  {
   "cell_type": "code",
   "execution_count": 6,
   "metadata": {},
   "outputs": [],
   "source": [
    "path = 'cm.txt'\n",
    "nameDict = {}\n",
    "with open(path) as f:\n",
    "    for line in f:\n",
    "        data = line.split(\"|\")\n",
    "        if data[1] != '':\n",
    "            nameDict[data[0]] = data[1]"
   ]
  },
  {
   "cell_type": "code",
   "execution_count": 7,
   "metadata": {},
   "outputs": [
    {
     "name": "stdout",
     "output_type": "stream",
     "text": [
      "Number of committees =  14905\n"
     ]
    }
   ],
   "source": [
    "print('Number of committees = ', len(nameDict))\n",
    "committees = set(nameDict.keys())"
   ]
  },
  {
   "cell_type": "code",
   "execution_count": 8,
   "metadata": {},
   "outputs": [
    {
     "data": {
      "text/plain": [
       "['C00526707', 'C00116145', 'C00504670', 'C00534974', 'C00517920']"
      ]
     },
     "execution_count": 8,
     "metadata": {},
     "output_type": "execute_result"
    }
   ],
   "source": [
    "list(committees)[:5]"
   ]
  },
  {
   "cell_type": "markdown",
   "metadata": {},
   "source": [
    "Download the dataframe from the link below\n",
    "\n",
    "https://www.fec.gov/files/bulk-downloads/2014/oth14.zip"
   ]
  },
  {
   "cell_type": "code",
   "execution_count": 9,
   "metadata": {},
   "outputs": [],
   "source": [
    "path = 'itoth.txt'\n",
    "contributorDict = {}\n",
    "with open(path) as f:\n",
    "    for line in f:\n",
    "        data = line.split(\"|\")\n",
    "        contributor = data[0]\n",
    "        if contributorDict.get(contributor) is None:\n",
    "            contributorDict[contributor] = {data[7]}\n",
    "        else:\n",
    "            contributorDict[contributor] = contributorDict[contributor].union({data[7]})"
   ]
  },
  {
   "cell_type": "code",
   "execution_count": 10,
   "metadata": {},
   "outputs": [
    {
     "name": "stdout",
     "output_type": "stream",
     "text": [
      "N pairs =  24147775.0\n"
     ]
    }
   ],
   "source": [
    "n = len(contributorDict)\n",
    "print('N pairs = ', n*(n-1)/2)"
   ]
  },
  {
   "cell_type": "code",
   "execution_count": 11,
   "metadata": {},
   "outputs": [
    {
     "name": "stdout",
     "output_type": "stream",
     "text": [
      "N pairs =  1596.0\n"
     ]
    }
   ],
   "source": [
    "for key in list(contributorDict.keys()):\n",
    "    if len(contributorDict[key]) <= 500:\n",
    "        contributorDict.pop(key, None)\n",
    "n = len(contributorDict)\n",
    "print('N pairs = ', n*(n-1)/2)"
   ]
  },
  {
   "cell_type": "code",
   "execution_count": null,
   "metadata": {},
   "outputs": [],
   "source": [
    "for key in contributorDict:\n",
    "    print(nameDict[key], len(contributorDict[key]))"
   ]
  },
  {
   "cell_type": "code",
   "execution_count": 12,
   "metadata": {},
   "outputs": [],
   "source": [
    "contributors = list(contributorDict.keys())"
   ]
  },
  {
   "cell_type": "code",
   "execution_count": 13,
   "metadata": {},
   "outputs": [],
   "source": [
    "pairs = [(contributors[i], contributors[j]) for i in range(n-1) for j in range(i+1, n, 1)]"
   ]
  },
  {
   "cell_type": "code",
   "execution_count": 14,
   "metadata": {},
   "outputs": [],
   "source": [
    "simDict = {}\n",
    "for commA, commB in pairs:\n",
    "    A = contributorDict[commA] # Set of contributors to commA.\n",
    "    nameA = nameDict[commA]\n",
    "    B = contributorDict[commB]\n",
    "    nameB = nameDict[commB]\n",
    "    nIntersection = len(A.intersection(B))\n",
    "    jAB = nIntersection/len(A.union(B))\n",
    "    #jAB = nIntersection/float(len(A.union(B)))    #for python version less 3.0\n",
    "    pAGivenB = nIntersection/len(B)\n",
    "    pBGivenA = nIntersection/len(A)\n",
    "    simDict[(nameA, nameB)] = (jAB, pAGivenB, pBGivenA)"
   ]
  },
  {
   "cell_type": "code",
   "execution_count": 15,
   "metadata": {},
   "outputs": [],
   "source": [
    "sortedList = sorted(simDict.items(), key=operator.itemgetter(1), reverse=True)"
   ]
  },
  {
   "cell_type": "code",
   "execution_count": 16,
   "metadata": {},
   "outputs": [
    {
     "name": "stdout",
     "output_type": "stream",
     "text": [
      "0.596 0.809 0.693 COMCAST CORPORATION & NBCUNIVERSAL POLITICAL ACTION COMMITTEE - FEDERAL | VERIZON COMMUNICATIONS INC. GOOD GOVERNMENT CLUB (VERIZON PAC)\n",
      "0.582 0.713 0.76 GENERAL ELECTRIC COMPANY POLITICAL ACTION COMMITTEE (GEPAC) | COMCAST CORPORATION & NBCUNIVERSAL POLITICAL ACTION COMMITTEE - FEDERAL\n",
      "0.57 0.651 0.821 NATIONAL BEER WHOLESALERS ASSOCIATION POLITICAL ACTION COMMITTEE | NATIONAL ASSOCIATION OF REALTORS POLITICAL ACTION COMMITTEE\n",
      "0.558 0.788 0.656 AT&T INC. FEDERAL POLITICAL ACTION COMMITTEE (AT&T FEDERAL PAC) | VERIZON COMMUNICATIONS INC. GOOD GOVERNMENT CLUB (VERIZON PAC)\n",
      "0.558 0.75 0.685 GENERAL ELECTRIC COMPANY POLITICAL ACTION COMMITTEE (GEPAC) | VERIZON COMMUNICATIONS INC. GOOD GOVERNMENT CLUB (VERIZON PAC)\n",
      "0.537 0.659 0.743 LOCKHEED MARTIN CORPORATION EMPLOYEES' POLITICAL ACTION COMMITTEE | AT&T INC. FEDERAL POLITICAL ACTION COMMITTEE (AT&T FEDERAL PAC)\n",
      "0.531 0.639 0.759 EMPLOYEES OF NORTHROP GRUMMAN CORPORATION PAC | GENERAL ELECTRIC COMPANY POLITICAL ACTION COMMITTEE (GEPAC)\n",
      "0.519 0.693 0.674 AT&T INC. FEDERAL POLITICAL ACTION COMMITTEE (AT&T FEDERAL PAC) | COMCAST CORPORATION & NBCUNIVERSAL POLITICAL ACTION COMMITTEE - FEDERAL\n",
      "0.518 0.644 0.726 NATIONAL BEER WHOLESALERS ASSOCIATION POLITICAL ACTION COMMITTEE | COMCAST CORPORATION & NBCUNIVERSAL POLITICAL ACTION COMMITTEE - FEDERAL\n",
      "0.515 0.623 0.748 CULAC THE PAC OF CREDIT UNION NATIONAL ASSOCIATION | AT&T INC. FEDERAL POLITICAL ACTION COMMITTEE (AT&T FEDERAL PAC)\n",
      "0.513 0.651 0.707 AT&T INC. FEDERAL POLITICAL ACTION COMMITTEE (AT&T FEDERAL PAC) | NATIONAL ASSOCIATION OF REALTORS POLITICAL ACTION COMMITTEE\n",
      "0.502 0.68 0.657 NATIONAL BEER WHOLESALERS ASSOCIATION POLITICAL ACTION COMMITTEE | VERIZON COMMUNICATIONS INC. GOOD GOVERNMENT CLUB (VERIZON PAC)\n"
     ]
    }
   ],
   "source": [
    "for committees, simMeasures in sortedList:\n",
    "    nameA, nameB = committees\n",
    "    jAB, pAB, pBA = simMeasures\n",
    "    if jAB > .5:\n",
    "        print(round(jAB, 3), round(pAB, 3), round(pBA, 3), nameA + ' | ' + nameB)"
   ]
  }
 ],
 "metadata": {
  "anaconda-cloud": {},
  "kernelspec": {
   "display_name": "Python 3",
   "language": "python",
   "name": "python3"
  },
  "language_info": {
   "codemirror_mode": {
    "name": "ipython",
    "version": 3
   },
   "file_extension": ".py",
   "mimetype": "text/x-python",
   "name": "python",
   "nbconvert_exporter": "python",
   "pygments_lexer": "ipython3",
   "version": "3.13.0"
  },
  "widgets": {
   "state": {},
   "version": "1.1.2"
  }
 },
 "nbformat": 4,
 "nbformat_minor": 2
}
