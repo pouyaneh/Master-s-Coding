{
 "cells": [
  {
   "cell_type": "markdown",
   "metadata": {},
   "source": [
    "# 2.6 Tutorial: Election Cycle Contributions"
   ]
  },
  {
   "cell_type": "markdown",
   "metadata": {},
   "source": [
    "R book codes"
   ]
  },
  {
   "cell_type": "code",
   "execution_count": 1,
   "metadata": {
    "vscode": {
     "languageId": "r"
    }
   },
   "outputs": [],
   "source": [
    "# داده‌ها\n",
    "Data = read.table('employerMoney.txt', sep=';', as.is = TRUE, fill=TRUE, quote=\"\")\n",
    "colnames(Data) = c('Company', 'Rep', 'Dem', 'Other', 'Total')"
   ]
  },
  {
   "cell_type": "code",
   "execution_count": 2,
   "metadata": {
    "vscode": {
     "languageId": "r"
    }
   },
   "outputs": [
    {
     "data": {
      "text/html": [
       "<table class=\"dataframe\">\n",
       "<caption>A data.frame: 6 × 5</caption>\n",
       "<thead>\n",
       "\t<tr><th></th><th scope=col>Company</th><th scope=col>Rep</th><th scope=col>Dem</th><th scope=col>Other</th><th scope=col>Total</th></tr>\n",
       "\t<tr><th></th><th scope=col>&lt;chr&gt;</th><th scope=col>&lt;int&gt;</th><th scope=col>&lt;int&gt;</th><th scope=col>&lt;int&gt;</th><th scope=col>&lt;int&gt;</th></tr>\n",
       "</thead>\n",
       "<tbody>\n",
       "\t<tr><th scope=row>1</th><td>N.A                              </td><td>37180</td><td> 3750</td><td>452050</td><td>500</td></tr>\n",
       "\t<tr><th scope=row>2</th><td>HP                               </td><td>11750</td><td>20430</td><td>465320</td><td>500</td></tr>\n",
       "\t<tr><th scope=row>3</th><td><span style=white-space:pre-wrap>HOLLAND &amp; KNIGHT LLP             </span></td><td> 5250</td><td>35450</td><td>457552</td><td>500</td></tr>\n",
       "\t<tr><th scope=row>4</th><td>NEWSWEB CORRPORATION             </td><td>    0</td><td>    0</td><td>500000</td><td>500</td></tr>\n",
       "\t<tr><th scope=row>5</th><td>CENTAURUS ADVISORS               </td><td>    0</td><td>    0</td><td>500000</td><td>500</td></tr>\n",
       "\t<tr><th scope=row>6</th><td>JOHN GORRIE INVESTMENT GROUP, LLC</td><td>    0</td><td>    0</td><td>500000</td><td>500</td></tr>\n",
       "</tbody>\n",
       "</table>\n"
      ],
      "text/latex": [
       "A data.frame: 6 × 5\n",
       "\\begin{tabular}{r|lllll}\n",
       "  & Company & Rep & Dem & Other & Total\\\\\n",
       "  & <chr> & <int> & <int> & <int> & <int>\\\\\n",
       "\\hline\n",
       "\t1 & N.A                               & 37180 &  3750 & 452050 & 500\\\\\n",
       "\t2 & HP                                & 11750 & 20430 & 465320 & 500\\\\\n",
       "\t3 & HOLLAND \\& KNIGHT LLP              &  5250 & 35450 & 457552 & 500\\\\\n",
       "\t4 & NEWSWEB CORRPORATION              &     0 &     0 & 500000 & 500\\\\\n",
       "\t5 & CENTAURUS ADVISORS                &     0 &     0 & 500000 & 500\\\\\n",
       "\t6 & JOHN GORRIE INVESTMENT GROUP, LLC &     0 &     0 & 500000 & 500\\\\\n",
       "\\end{tabular}\n"
      ],
      "text/markdown": [
       "\n",
       "A data.frame: 6 × 5\n",
       "\n",
       "| <!--/--> | Company &lt;chr&gt; | Rep &lt;int&gt; | Dem &lt;int&gt; | Other &lt;int&gt; | Total &lt;int&gt; |\n",
       "|---|---|---|---|---|---|\n",
       "| 1 | N.A                               | 37180 |  3750 | 452050 | 500 |\n",
       "| 2 | HP                                | 11750 | 20430 | 465320 | 500 |\n",
       "| 3 | HOLLAND &amp; KNIGHT LLP              |  5250 | 35450 | 457552 | 500 |\n",
       "| 4 | NEWSWEB CORRPORATION              |     0 |     0 | 500000 | 500 |\n",
       "| 5 | CENTAURUS ADVISORS                |     0 |     0 | 500000 | 500 |\n",
       "| 6 | JOHN GORRIE INVESTMENT GROUP, LLC |     0 |     0 | 500000 | 500 |\n",
       "\n"
      ],
      "text/plain": [
       "  Company                           Rep   Dem   Other  Total\n",
       "1 N.A                               37180  3750 452050 500  \n",
       "2 HP                                11750 20430 465320 500  \n",
       "3 HOLLAND & KNIGHT LLP               5250 35450 457552 500  \n",
       "4 NEWSWEB CORRPORATION                  0     0 500000 500  \n",
       "5 CENTAURUS ADVISORS                    0     0 500000 500  \n",
       "6 JOHN GORRIE INVESTMENT GROUP, LLC     0     0 500000 500  "
      ]
     },
     "metadata": {},
     "output_type": "display_data"
    }
   ],
   "source": [
    "head(Data)"
   ]
  },
  {
   "cell_type": "code",
   "execution_count": 3,
   "metadata": {
    "vscode": {
     "languageId": "r"
    }
   },
   "outputs": [
    {
     "name": "stdout",
     "output_type": "stream",
     "text": [
      "  [1] \"N.A\"                                   \n",
      "  [2] \"HP\"                                    \n",
      "  [3] \"HOLLAND & KNIGHT LLP\"                  \n",
      "  [4] \"NEWSWEB CORRPORATION\"                  \n",
      "  [5] \"CENTAURUS ADVISORS\"                    \n",
      "  [6] \"JOHN GORRIE INVESTMENT GROUP, LLC\"     \n",
      "  [7] \"BROWNSTEIN HYATT FARBER SCHRECK\"       \n",
      "  [8] \"PETCO PETROLEUM CORPORATION\"           \n",
      "  [9] \"CKX, INC.\"                             \n",
      " [10] \"EAGLE CAPITAL MANAGEMENT LLC\"          \n",
      " [11] \"THE MARCUS FOUNDATION\"                 \n",
      " [12] \"GOOGLE, INC.\"                          \n",
      " [13] \"KLEINER PERKINS CAUFIELD & BYERS\"      \n",
      " [14] \"CINTAS CORP.\"                          \n",
      " [15] \"CUMBERLAND DEVELOPMENT CO. LLC\"        \n",
      " [16] \"PATAGONIA\"                             \n",
      " [17] \"SYDNEY MURPHY DESIGN\"                  \n",
      " [18] \"TRACE FOUNDATION\"                      \n",
      " [19] \"KIRKLAND & ELLIS LLP\"                  \n",
      " [20] \"LAS VEGAS SANDS\"                       \n",
      " [21] \"ARIEL CORP.\"                           \n",
      " [22] \"TIGER MANAGEMENT LLC\"                  \n",
      " [23] \"BOIES SCHILLER & FLEXNER LLP\"          \n",
      " [24] \"BANK OF AMERICA\"                       \n",
      " [25] \"NORTHWESTERN MUTUAL\"                   \n",
      " [26] \"UNITED STATES HOUSE OF REPRESENTATIVES\"\n",
      " [27] \"MARMIK OIL COMPANY\"                    \n",
      " [28] \"DLA PIPER LLP (US)\"                    \n",
      " [29] \"COLUMBIA UNIVERSITY\"                   \n",
      " [30] \"RENAISSANCE TECHNOLGIES\"               \n",
      " [31] \"BRYAN CAVE LLP\"                        \n",
      " [32] \"MEDLEY PARTNERS MANAGEMENT LLC\"        \n",
      " [33] \"STEPHENS, INC.\"                        \n",
      " [34] \"CITIGROUP\"                             \n",
      " [35] \"CENTERBRIDGE PARTNERS\"                 \n",
      " [36] \"EMERSON COLLECTIVE, LLC\"               \n",
      " [37] \"THE CARLYLE GROUP\"                     \n",
      " [38] \"ACCENTURE\"                             \n",
      " [39] \"THE HOUSTON TEXANS\"                    \n",
      " [40] \"COMCAST CABLE\"                         \n",
      " [41] \"FORD MOTOR COMPANY\"                    \n",
      " [42] \"USPS\"                                  \n",
      " [43] \"AETNA INC.\"                            \n",
      " [44] \"AT&T\"                                  \n",
      " [45] \"MCCORMACK COMMUNICATIONS\"              \n",
      " [46] \"SELF EMPLOYED / SAME NAME\"             \n",
      " [47] \"WELLS FARGO\"                           \n",
      " [48] \"ELMENDORF RYAN\"                        \n",
      " [49] \"SOL GOLDMAN INVESTMENTS\"               \n",
      " [50] \"MCDONALD'S\"                            \n",
      " [51] \"PFIZER INC\"                            \n",
      " [52] \"INDIAN TRIBE\"                          \n",
      " [53] \"BONANZA OIL COMPANY\"                   \n",
      " [54] \"BLUFF POINT ASSOCIATES\"                \n",
      " [55] \"DELOITTE & TOUCHE LLP\"                 \n",
      " [56] \"MOUNTAIRE\"                             \n",
      " [57] \"THE BAUPOST GROUP LLC\"                 \n",
      " [58] \"DLA PIPER\"                             \n",
      " [59] \"SOLIL MANAGEMENT\"                      \n",
      " [60] \"AKONADI FOUNDATION\"                    \n",
      " [61] \"HEADLANDS ASSET MANAGEMENT\"            \n",
      " [62] \"MCGUIREWOODS\"                          \n",
      " [63] \"CITIGROUP INC.\"                        \n",
      " [64] \"TAMKO BUILDING PRODUCTS\"               \n",
      " [65] \"UNION PACIFIC RAILROAD\"                \n",
      " [66] \"TIME OUT ENTERPRISES/BRICO FOUNDATION\" \n",
      " [67] \"MERRILL LYNCH\"                         \n",
      " [68] \"QUICKEN LOANS\"                         \n",
      " [69] \"COMCAST CORPORATION\"                   \n",
      " [70] \"COMCAST\"                               \n",
      " [71] \"ESCRIPTION\"                            \n",
      " [72] \"OBERWEIS DAILY\"                        \n",
      " [73] \"HARVARD UNIVERSITY\"                    \n",
      " [74] \"INTERSYSTEMS CORPORATION\"              \n",
      " [75] \"BLOOMBERG INC.\"                        \n",
      " [76] \"GREENBERG TRAURIG\"                     \n",
      " [77] \"BLACKSTONE\"                            \n",
      " [78] \"UNITED STATES CONGRESS\"                \n",
      " [79] \"J. W. CHILDS ASSOCIATES\"               \n",
      " [80] \"SCHOONER CAPITAL\"                      \n",
      " [81] \"CEO\"                                   \n",
      " [82] \"EXECUTIVE\"                             \n",
      " [83] \"SALESFORCE.COM\"                        \n",
      " [84] \"INFORMATION REQUESTED PER BEST EFFO\"   \n",
      " [85] \"THE BLACKSTONE GROUP\"                  \n",
      " [86] \"INTEL CORPORATION\"                     \n",
      " [87] \"GILLESPIE STRATEGIES\"                  \n",
      " [88] \"ELLIOTT MANAGEMENT CORP\"               \n",
      " [89] \"TRUST ASSET MANAGEMENT\"                \n",
      " [90] \"TPG CAPITAL\"                           \n",
      " [91] \"HONEYWELL INTERNATIONAL\"               \n",
      " [92] \"TITLE/DIETZTROTT/TROTT&TROTT\"          \n",
      " [93] \"UBS WEALTH MANAGEMENT\"                 \n",
      " [94] \"BOHEMIAN FOUNDATION\"                   \n",
      " [95] \"UNEMPLOYED\"                            \n",
      " [96] \"US HOUSE OF REPRESENTATIVES\"           \n",
      " [97] \"STATE FARM\"                            \n",
      " [98] \"KONGREGATE\"                            \n",
      " [99] \"THE BAUPOST GROUP, L.L.C.\"             \n",
      "[100] \"REQUESTED\"                             \n",
      "[101] \"INFORMATION REQUESTED PER BEST EFFORTS\"\n",
      "[102] \"GOOGLE INC.\"                           \n",
      "[103] \"AQR CAPITAL MANAGEMENT\"                \n",
      "[104] \"BLS INVESTMENTS, LLC\"                  \n",
      "[105] \"PRESIDENT\"                             \n",
      "[106] \"MOSTYN LAW FIRM\"                       \n",
      "[107] \"KLEINER, PERKINS, CAUFIELD & BYERS\"    \n",
      "[108] \"NORFOLK SOUTHERN CORPORATION\"          \n",
      "[109] \"MCMAHON VENTURES\"                      \n",
      "[110] \"COLLEGE LOAN CORPORATION\"              \n",
      "[111] \"TRIBE\"                                 \n",
      "[112] \"CITADEL LLC\"                           \n",
      "[113] \"PODESTA GROUP\"                         \n",
      "[114] \"HENDRICKS HOLDING CO. INC.\"            \n",
      "[115] \"WERNER ENTERPRISES INC.\"               \n",
      "[116] \"JORDAN WINERY\"                         \n",
      "[117] \"RDV CORPORATION\"                       \n",
      "[118] \"WESTERN REFINING INC.\"                 \n",
      "[119] \"MORGAN STANLEY\"                        \n",
      "[120] \"WATERSHED ASSET MANAGEMENT LLC\"        \n",
      "[121] \"BNSF RAILWAY COMPANY\"                  \n",
      "[122] \"LEUCADIA NATIONAL CORPORATION\"         \n",
      "[123] \"STANFORD UNIVERSITY\"                   \n",
      "[124] \"STUDENT\"                               \n",
      "[125] \"ATTORNEY\"                              \n",
      "[126] \"LINKEDIN\"                              \n",
      "[127] \"ICSI\"                                  \n",
      "[128] \"CITADEL, LLC\"                          \n",
      "[129] \"MICROSOFT\"                             \n",
      "[130] \"N.A.\"                                  \n",
      "[131] \"EQUINOX PARTNERS, LP\"                  \n",
      "[132] \"TROTT & TROTT, P.C.\"                   \n",
      "[133] \"ELECTRICIANS LOCAL 98\"                 \n",
      "[134] \"HOUSEWIFE\"                             \n",
      "[135] \"KAPSTONE PAPER AND PACKAGING CORP.\"    \n",
      "[136] \"AKIN GUMP\"                             \n",
      "[137] \"MARCUS & MILLICHAP COMPANY\"            \n",
      "[138] \"THE BALLPOST GROUP LLC\"                \n",
      "[139] \"CITADEL INVESTMENT GROUP\"              \n",
      "[140] \"PRICEWATERHOUSECOOPERS\"                \n",
      "[141] \"AKT DEVELOPMENT\"                       \n",
      "[142] \"PRICEWATERHOUSECOOPERS LLP\"            \n",
      "[143] \"THIRD POINT LLC\"                       \n",
      "[144] \"J.W. CHILDS ASSOCIATES\"                \n",
      "[145] \"GOOGLE\"                                \n",
      "[146] \"MARCUS MILLICHAP REAL ESTATE\"          \n",
      "[147] \"SELF - EMPLOYED\"                       \n",
      "[148] \"JS CAPITAL MANAGEMENT LLC\"             \n",
      "[149] \"SOROS FUND MANAGEMENT LLC\"             \n",
      "[150] \"GRANTHAM, MAYO, VAN OTTERLOO & CO. LLC\"\n",
      "[151] \"LAND & CO.\"                            \n",
      "[152] \"ELLIOTT MANAGEMENT\"                    \n",
      "[153] \"JORDAN VINEYARD & WINERY\"              \n",
      "[154] \"ERNST & YOUNG\"                         \n",
      "[155] \"PALOMA PARTNERS LLC\"                   \n",
      "[156] \"NEXT GENERATION\"                       \n",
      "[157] \"KPMG LLP\"                              \n",
      "[158] \"CHARTWELL PARTNERS LLC\"                \n",
      "[159] \"EUCLIDEAN CAPITAL\"                     \n",
      "[160] \"BAIN CAPITAL\"                          \n",
      "[161] \"BLOOMBERG L.P.\"                        \n",
      "[162] \"INFORMATION REQUESTED\"                 \n",
      "[163] \"SOROS FUND MANAGEMENT\"                 \n",
      "[164] \"RENAISSANCE TECHNOLOGIES\"              \n",
      "[165] NA                                      \n",
      "[166] \"NEW YORK CITY\"                         \n",
      "[167] \"SPENDTHRIFT FARM\"                      \n",
      "[168] \"CANDIDATE\"                             \n",
      "[169] \"STEPHENS INC.\"                         \n",
      "[170] \"ELLIOTT MANAGEMENT GROUP\"              \n",
      "[171] \"RENAISSANCE TECHNOLOGIES LLC\"          \n",
      "[172] \"KEN DAVIS FINANCE\"                     \n",
      "[173] \"PERRY HOMES\"                           \n",
      "[174] \"TERRI LYNN LAND FOR SENATE\"            \n",
      "[175] \"OSE PROPERTIES\"                        \n",
      "[176] \"RENAISSANCE TECHNOLOGIES CORP.\"        \n",
      "[177] \"GOLDMAN SACHS\"                         \n",
      "[178] \"HOUSTON TEXANS\"                        \n",
      "[179] \"HUDSON RIVER VENTURES, LLC\"            \n",
      "[180] \"ULINE\"                                 \n",
      "[181] \"LAS VEGAS SANDS INC.\"                  \n",
      "[182] \"EUCLIDEAN CAPITAL LLC\"                 \n",
      "[183] \"CARDON GROUP\"                          \n",
      "[184] \"CITY OF NEW YORK\"                      \n",
      "[185] \"ELLIOTT MANAGEMENT CORP.\"              \n",
      "[186] \"KOCH INDUSTRIES INC.\"                  \n",
      "[187] \"NEWSWEB CORPORATION\"                   \n",
      "[188] \"NOT APPLICABLE\"                        \n",
      "[189] \"CORPORATION\"                           \n",
      "[190] \"NEA\"                                   \n",
      "[191] \"BLOOMBERG LP\"                          \n",
      "[192] \"NOT EMPLOYED\"                          \n",
      "[193] \"HOMEMAKER\"                             \n",
      "[194] \"SELF EMPLOYED\"                         \n",
      "[195] \"FAHR, LLC\"                             \n",
      "[196] \"NONE\"                                  \n",
      "[197] \"SELF-EMPLOYED\"                         \n",
      "[198] \"SELF\"                                  \n",
      "[199] \"N/A\"                                   \n",
      "[200] \"RETIRED\"                               \n"
     ]
    }
   ],
   "source": [
    "print(Data[,1])"
   ]
  },
  {
   "cell_type": "code",
   "execution_count": 7,
   "metadata": {
    "vscode": {
     "languageId": "r"
    }
   },
   "outputs": [],
   "source": [
    "# انتخاب سطرها و مرتب‌سازی\n",
    "s = 160:190                          # Select specific rows to plot.\n",
    "D = Data[s, ]                        # Take the subset.\n",
    "D = D[order(D$Rep + D$Dem), ]        # Re-order the data according to the total.\n"
   ]
  },
  {
   "cell_type": "code",
   "execution_count": 8,
   "metadata": {
    "vscode": {
     "languageId": "r"
    }
   },
   "outputs": [
    {
     "data": {
      "text/html": [
       "<table class=\"dataframe\">\n",
       "<caption>A data.frame: 31 × 5</caption>\n",
       "<thead>\n",
       "\t<tr><th></th><th scope=col>Company</th><th scope=col>Rep</th><th scope=col>Dem</th><th scope=col>Other</th><th scope=col>Total</th></tr>\n",
       "\t<tr><th></th><th scope=col>&lt;chr&gt;</th><th scope=col>&lt;int&gt;</th><th scope=col>&lt;int&gt;</th><th scope=col>&lt;int&gt;</th><th scope=col>&lt;int&gt;</th></tr>\n",
       "</thead>\n",
       "<tbody>\n",
       "\t<tr><th scope=row>167</th><td>SPENDTHRIFT FARM              </td><td>      0</td><td>      0</td><td> 2516200</td><td>500</td></tr>\n",
       "\t<tr><th scope=row>170</th><td>ELLIOTT MANAGEMENT GROUP      </td><td>      0</td><td>      0</td><td> 2875000</td><td>500</td></tr>\n",
       "\t<tr><th scope=row>181</th><td>LAS VEGAS SANDS INC.          </td><td>      0</td><td>      0</td><td> 5000000</td><td>500</td></tr>\n",
       "\t<tr><th scope=row>189</th><td>CORPORATION                   </td><td>      0</td><td>      0</td><td>10062657</td><td>500</td></tr>\n",
       "\t<tr><th scope=row>166</th><td>NEW YORK CITY                 </td><td>   3250</td><td>    250</td><td> 2503450</td><td>500</td></tr>\n",
       "\t<tr><th scope=row>182</th><td>EUCLIDEAN CAPITAL LLC         </td><td>      0</td><td>   7800</td><td> 5255000</td><td>500</td></tr>\n",
       "\t<tr><th scope=row>161</th><td>BLOOMBERG L.P.                </td><td>    450</td><td>   8050</td><td> 2248810</td><td>500</td></tr>\n",
       "\t<tr><th scope=row>172</th><td>KEN DAVIS FINANCE             </td><td>  12000</td><td>      0</td><td> 2892495</td><td>500</td></tr>\n",
       "\t<tr><th scope=row>171</th><td>RENAISSANCE TECHNOLOGIES LLC  </td><td>      0</td><td>  13000</td><td> 2885000</td><td>500</td></tr>\n",
       "\t<tr><th scope=row>186</th><td>KOCH INDUSTRIES INC.          </td><td>  13200</td><td>      0</td><td> 7095000</td><td>500</td></tr>\n",
       "\t<tr><th scope=row>178</th><td>HOUSTON TEXANS                </td><td>  14000</td><td>      0</td><td> 3706200</td><td>500</td></tr>\n",
       "\t<tr><th scope=row>176</th><td>RENAISSANCE TECHNOLOGIES CORP.</td><td>  13000</td><td>   2600</td><td> 3483000</td><td>500</td></tr>\n",
       "\t<tr><th scope=row>185</th><td>ELLIOTT MANAGEMENT CORP.      </td><td>  11900</td><td>   5200</td><td> 6860374</td><td>500</td></tr>\n",
       "\t<tr><th scope=row>173</th><td>PERRY HOMES                   </td><td>  21900</td><td>   2000</td><td> 3150250</td><td>500</td></tr>\n",
       "\t<tr><th scope=row>190</th><td>NEA                           </td><td>   7450</td><td>  18250</td><td>12006468</td><td>500</td></tr>\n",
       "\t<tr><th scope=row>184</th><td>CITY OF NEW YORK              </td><td>  21500</td><td>  35750</td><td> 6249170</td><td>500</td></tr>\n",
       "\t<tr><th scope=row>187</th><td>NEWSWEB CORPORATION           </td><td>      0</td><td>  63900</td><td> 7748500</td><td>500</td></tr>\n",
       "\t<tr><th scope=row>188</th><td>NOT APPLICABLE                </td><td>  34532</td><td>  36000</td><td> 7890826</td><td>500</td></tr>\n",
       "\t<tr><th scope=row>163</th><td>SOROS FUND MANAGEMENT         </td><td>  19100</td><td>  94500</td><td> 2170400</td><td>500</td></tr>\n",
       "\t<tr><th scope=row>180</th><td>ULINE                         </td><td> 129800</td><td>      0</td><td> 4841350</td><td>500</td></tr>\n",
       "\t<tr><th scope=row>169</th><td>STEPHENS INC.                 </td><td> 153400</td><td>    500</td><td> 2616934</td><td>500</td></tr>\n",
       "\t<tr><th scope=row>164</th><td>RENAISSANCE TECHNOLOGIES      </td><td>  71800</td><td>  93850</td><td> 2193300</td><td>500</td></tr>\n",
       "\t<tr><th scope=row>160</th><td>BAIN CAPITAL                  </td><td>  44400</td><td> 190950</td><td> 1925650</td><td>500</td></tr>\n",
       "\t<tr><th scope=row>177</th><td>GOLDMAN SACHS                 </td><td> 403095</td><td> 287200</td><td> 2890770</td><td>500</td></tr>\n",
       "\t<tr><th scope=row>162</th><td>INFORMATION REQUESTED         </td><td> 490413</td><td> 324907</td><td> 1441995</td><td>500</td></tr>\n",
       "\t<tr><th scope=row>165</th><td>NA                            </td><td> 709409</td><td> 635979</td><td> 1072513</td><td>500</td></tr>\n",
       "\t<tr><th scope=row>168</th><td>CANDIDATE                     </td><td>2570114</td><td>  37594</td><td>   16750</td><td>500</td></tr>\n",
       "\t<tr><th scope=row>174</th><td>TERRI LYNN LAND FOR SENATE    </td><td>3350000</td><td>      0</td><td>       0</td><td>500</td></tr>\n",
       "\t<tr><th scope=row>175</th><td>OSE PROPERTIES                </td><td>3448700</td><td>      0</td><td>    4000</td><td>500</td></tr>\n",
       "\t<tr><th scope=row>179</th><td>HUDSON RIVER VENTURES, LLC    </td><td>      0</td><td>4257500</td><td>    5200</td><td>500</td></tr>\n",
       "\t<tr><th scope=row>183</th><td>CARDON GROUP                  </td><td>6251785</td><td>      0</td><td>       0</td><td>500</td></tr>\n",
       "</tbody>\n",
       "</table>\n"
      ],
      "text/latex": [
       "A data.frame: 31 × 5\n",
       "\\begin{tabular}{r|lllll}\n",
       "  & Company & Rep & Dem & Other & Total\\\\\n",
       "  & <chr> & <int> & <int> & <int> & <int>\\\\\n",
       "\\hline\n",
       "\t167 & SPENDTHRIFT FARM               &       0 &       0 &  2516200 & 500\\\\\n",
       "\t170 & ELLIOTT MANAGEMENT GROUP       &       0 &       0 &  2875000 & 500\\\\\n",
       "\t181 & LAS VEGAS SANDS INC.           &       0 &       0 &  5000000 & 500\\\\\n",
       "\t189 & CORPORATION                    &       0 &       0 & 10062657 & 500\\\\\n",
       "\t166 & NEW YORK CITY                  &    3250 &     250 &  2503450 & 500\\\\\n",
       "\t182 & EUCLIDEAN CAPITAL LLC          &       0 &    7800 &  5255000 & 500\\\\\n",
       "\t161 & BLOOMBERG L.P.                 &     450 &    8050 &  2248810 & 500\\\\\n",
       "\t172 & KEN DAVIS FINANCE              &   12000 &       0 &  2892495 & 500\\\\\n",
       "\t171 & RENAISSANCE TECHNOLOGIES LLC   &       0 &   13000 &  2885000 & 500\\\\\n",
       "\t186 & KOCH INDUSTRIES INC.           &   13200 &       0 &  7095000 & 500\\\\\n",
       "\t178 & HOUSTON TEXANS                 &   14000 &       0 &  3706200 & 500\\\\\n",
       "\t176 & RENAISSANCE TECHNOLOGIES CORP. &   13000 &    2600 &  3483000 & 500\\\\\n",
       "\t185 & ELLIOTT MANAGEMENT CORP.       &   11900 &    5200 &  6860374 & 500\\\\\n",
       "\t173 & PERRY HOMES                    &   21900 &    2000 &  3150250 & 500\\\\\n",
       "\t190 & NEA                            &    7450 &   18250 & 12006468 & 500\\\\\n",
       "\t184 & CITY OF NEW YORK               &   21500 &   35750 &  6249170 & 500\\\\\n",
       "\t187 & NEWSWEB CORPORATION            &       0 &   63900 &  7748500 & 500\\\\\n",
       "\t188 & NOT APPLICABLE                 &   34532 &   36000 &  7890826 & 500\\\\\n",
       "\t163 & SOROS FUND MANAGEMENT          &   19100 &   94500 &  2170400 & 500\\\\\n",
       "\t180 & ULINE                          &  129800 &       0 &  4841350 & 500\\\\\n",
       "\t169 & STEPHENS INC.                  &  153400 &     500 &  2616934 & 500\\\\\n",
       "\t164 & RENAISSANCE TECHNOLOGIES       &   71800 &   93850 &  2193300 & 500\\\\\n",
       "\t160 & BAIN CAPITAL                   &   44400 &  190950 &  1925650 & 500\\\\\n",
       "\t177 & GOLDMAN SACHS                  &  403095 &  287200 &  2890770 & 500\\\\\n",
       "\t162 & INFORMATION REQUESTED          &  490413 &  324907 &  1441995 & 500\\\\\n",
       "\t165 & NA                             &  709409 &  635979 &  1072513 & 500\\\\\n",
       "\t168 & CANDIDATE                      & 2570114 &   37594 &    16750 & 500\\\\\n",
       "\t174 & TERRI LYNN LAND FOR SENATE     & 3350000 &       0 &        0 & 500\\\\\n",
       "\t175 & OSE PROPERTIES                 & 3448700 &       0 &     4000 & 500\\\\\n",
       "\t179 & HUDSON RIVER VENTURES, LLC     &       0 & 4257500 &     5200 & 500\\\\\n",
       "\t183 & CARDON GROUP                   & 6251785 &       0 &        0 & 500\\\\\n",
       "\\end{tabular}\n"
      ],
      "text/markdown": [
       "\n",
       "A data.frame: 31 × 5\n",
       "\n",
       "| <!--/--> | Company &lt;chr&gt; | Rep &lt;int&gt; | Dem &lt;int&gt; | Other &lt;int&gt; | Total &lt;int&gt; |\n",
       "|---|---|---|---|---|---|\n",
       "| 167 | SPENDTHRIFT FARM               |       0 |       0 |  2516200 | 500 |\n",
       "| 170 | ELLIOTT MANAGEMENT GROUP       |       0 |       0 |  2875000 | 500 |\n",
       "| 181 | LAS VEGAS SANDS INC.           |       0 |       0 |  5000000 | 500 |\n",
       "| 189 | CORPORATION                    |       0 |       0 | 10062657 | 500 |\n",
       "| 166 | NEW YORK CITY                  |    3250 |     250 |  2503450 | 500 |\n",
       "| 182 | EUCLIDEAN CAPITAL LLC          |       0 |    7800 |  5255000 | 500 |\n",
       "| 161 | BLOOMBERG L.P.                 |     450 |    8050 |  2248810 | 500 |\n",
       "| 172 | KEN DAVIS FINANCE              |   12000 |       0 |  2892495 | 500 |\n",
       "| 171 | RENAISSANCE TECHNOLOGIES LLC   |       0 |   13000 |  2885000 | 500 |\n",
       "| 186 | KOCH INDUSTRIES INC.           |   13200 |       0 |  7095000 | 500 |\n",
       "| 178 | HOUSTON TEXANS                 |   14000 |       0 |  3706200 | 500 |\n",
       "| 176 | RENAISSANCE TECHNOLOGIES CORP. |   13000 |    2600 |  3483000 | 500 |\n",
       "| 185 | ELLIOTT MANAGEMENT CORP.       |   11900 |    5200 |  6860374 | 500 |\n",
       "| 173 | PERRY HOMES                    |   21900 |    2000 |  3150250 | 500 |\n",
       "| 190 | NEA                            |    7450 |   18250 | 12006468 | 500 |\n",
       "| 184 | CITY OF NEW YORK               |   21500 |   35750 |  6249170 | 500 |\n",
       "| 187 | NEWSWEB CORPORATION            |       0 |   63900 |  7748500 | 500 |\n",
       "| 188 | NOT APPLICABLE                 |   34532 |   36000 |  7890826 | 500 |\n",
       "| 163 | SOROS FUND MANAGEMENT          |   19100 |   94500 |  2170400 | 500 |\n",
       "| 180 | ULINE                          |  129800 |       0 |  4841350 | 500 |\n",
       "| 169 | STEPHENS INC.                  |  153400 |     500 |  2616934 | 500 |\n",
       "| 164 | RENAISSANCE TECHNOLOGIES       |   71800 |   93850 |  2193300 | 500 |\n",
       "| 160 | BAIN CAPITAL                   |   44400 |  190950 |  1925650 | 500 |\n",
       "| 177 | GOLDMAN SACHS                  |  403095 |  287200 |  2890770 | 500 |\n",
       "| 162 | INFORMATION REQUESTED          |  490413 |  324907 |  1441995 | 500 |\n",
       "| 165 | NA                             |  709409 |  635979 |  1072513 | 500 |\n",
       "| 168 | CANDIDATE                      | 2570114 |   37594 |    16750 | 500 |\n",
       "| 174 | TERRI LYNN LAND FOR SENATE     | 3350000 |       0 |        0 | 500 |\n",
       "| 175 | OSE PROPERTIES                 | 3448700 |       0 |     4000 | 500 |\n",
       "| 179 | HUDSON RIVER VENTURES, LLC     |       0 | 4257500 |     5200 | 500 |\n",
       "| 183 | CARDON GROUP                   | 6251785 |       0 |        0 | 500 |\n",
       "\n"
      ],
      "text/plain": [
       "    Company                        Rep     Dem     Other    Total\n",
       "167 SPENDTHRIFT FARM                     0       0  2516200 500  \n",
       "170 ELLIOTT MANAGEMENT GROUP             0       0  2875000 500  \n",
       "181 LAS VEGAS SANDS INC.                 0       0  5000000 500  \n",
       "189 CORPORATION                          0       0 10062657 500  \n",
       "166 NEW YORK CITY                     3250     250  2503450 500  \n",
       "182 EUCLIDEAN CAPITAL LLC                0    7800  5255000 500  \n",
       "161 BLOOMBERG L.P.                     450    8050  2248810 500  \n",
       "172 KEN DAVIS FINANCE                12000       0  2892495 500  \n",
       "171 RENAISSANCE TECHNOLOGIES LLC         0   13000  2885000 500  \n",
       "186 KOCH INDUSTRIES INC.             13200       0  7095000 500  \n",
       "178 HOUSTON TEXANS                   14000       0  3706200 500  \n",
       "176 RENAISSANCE TECHNOLOGIES CORP.   13000    2600  3483000 500  \n",
       "185 ELLIOTT MANAGEMENT CORP.         11900    5200  6860374 500  \n",
       "173 PERRY HOMES                      21900    2000  3150250 500  \n",
       "190 NEA                               7450   18250 12006468 500  \n",
       "184 CITY OF NEW YORK                 21500   35750  6249170 500  \n",
       "187 NEWSWEB CORPORATION                  0   63900  7748500 500  \n",
       "188 NOT APPLICABLE                   34532   36000  7890826 500  \n",
       "163 SOROS FUND MANAGEMENT            19100   94500  2170400 500  \n",
       "180 ULINE                           129800       0  4841350 500  \n",
       "169 STEPHENS INC.                   153400     500  2616934 500  \n",
       "164 RENAISSANCE TECHNOLOGIES         71800   93850  2193300 500  \n",
       "160 BAIN CAPITAL                     44400  190950  1925650 500  \n",
       "177 GOLDMAN SACHS                   403095  287200  2890770 500  \n",
       "162 INFORMATION REQUESTED           490413  324907  1441995 500  \n",
       "165 NA                              709409  635979  1072513 500  \n",
       "168 CANDIDATE                      2570114   37594    16750 500  \n",
       "174 TERRI LYNN LAND FOR SENATE     3350000       0        0 500  \n",
       "175 OSE PROPERTIES                 3448700       0     4000 500  \n",
       "179 HUDSON RIVER VENTURES, LLC           0 4257500     5200 500  \n",
       "183 CARDON GROUP                   6251785       0        0 500  "
      ]
     },
     "metadata": {},
     "output_type": "display_data"
    }
   ],
   "source": [
    "D"
   ]
  },
  {
   "cell_type": "code",
   "execution_count": 5,
   "metadata": {
    "vscode": {
     "languageId": "r"
    }
   },
   "outputs": [],
   "source": [
    "# مقیاس‌بندی\n",
    "rep = D$Rep / 10^5                   # Scale the values.\n",
    "dem = D$Dem / 10^5\n",
    "mx = max(rep + dem)\n",
    "names = D[, 1]\n",
    "n = length(rep)"
   ]
  },
  {
   "cell_type": "code",
   "execution_count": 6,
   "metadata": {
    "vscode": {
     "languageId": "r"
    }
   },
   "outputs": [
    {
     "data": {
      "image/png": "[encoded data removed]",
      "text/plain": [
       "plot without title"
      ]
     },
     "metadata": {
      "image/png": {
       "height": 420,
       "width": 420
      }
     },
     "output_type": "display_data"
    }
   ],
   "source": [
    "par(pin = c(12, 4))\n",
    "par(bg = \"white\")\n",
    "par(mar=c(5, 12, 4, 2))\n",
    "\n",
    "# Fix the plot window for long names.\n",
    "plot(x = c(0,mx),y=c(1,n),yaxt = 'n',xlab = \"Dollars - 100,000’s\",cex.axis = .65,typ = 'n',ylab='',cex.lab=.8)\n",
    "axis(side = 2, at = seq(1,n),labels = names, las = 2, cex.axis = .65)\n",
    "\n",
    "for (i in 1:n) {\n",
    "    lines(y=c(i,i),x=c(0,rep[i]),col='red',lwd=3)\n",
    "    lines(y=c(i,i),x=c(rep[i],rep[i]+dem[i]),col='blue',lwd=3)\n",
    "}\n",
    "par(oma=c(0,0,0,0))                                                         # Reset the plotting window to default values."
   ]
  }
 ],
 "metadata": {
  "anaconda-cloud": {},
  "kernelspec": {
   "display_name": "R",
   "language": "R",
   "name": "ir"
  },
  "language_info": {
   "codemirror_mode": "r",
   "file_extension": ".r",
   "mimetype": "text/x-r-source",
   "name": "R",
   "pygments_lexer": "r",
   "version": "4.4.2"
  },
  "widgets": {
   "state": {},
   "version": "1.1.2"
  }
 },
 "nbformat": 4,
 "nbformat_minor": 2
}
