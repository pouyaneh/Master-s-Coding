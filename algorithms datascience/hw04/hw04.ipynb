{
 "cells": [
  {
   "cell_type": "markdown",
   "metadata": {},
   "source": [
    "2.2.b"
   ]
  },
  {
   "cell_type": "code",
   "execution_count": 1,
   "metadata": {},
   "outputs": [
    {
     "data": {
      "text/plain": [
       "[(0, 1, 2),\n",
       " (0, 1, 3),\n",
       " (0, 1, 4),\n",
       " (0, 2, 3),\n",
       " (0, 2, 4),\n",
       " (0, 3, 4),\n",
       " (1, 2, 3),\n",
       " (1, 2, 4),\n",
       " (1, 3, 4),\n",
       " (2, 3, 4)]"
      ]
     },
     "execution_count": 1,
     "metadata": {},
     "output_type": "execute_result"
    }
   ],
   "source": [
    "triplets = [(i, j, k) for i in range(5) for j in range(i+1, 5) for k in range(j+1, 5)]\n",
    "triplets"
   ]
  },
  {
   "cell_type": "markdown",
   "metadata": {},
   "source": [
    "2.2.c"
   ]
  },
  {
   "cell_type": "code",
   "execution_count": 5,
   "metadata": {},
   "outputs": [
    {
     "data": {
      "text/plain": [
       "{frozenset({0, 3, 4}),\n",
       " frozenset({0, 1, 4}),\n",
       " frozenset({2, 3, 4}),\n",
       " frozenset({0, 2, 3}),\n",
       " frozenset({1, 2, 4}),\n",
       " frozenset({0, 1, 2}),\n",
       " frozenset({0, 2, 4}),\n",
       " frozenset({1, 2, 3}),\n",
       " frozenset({0, 1, 3}),\n",
       " frozenset({1, 3, 4})}"
      ]
     },
     "execution_count": 5,
     "metadata": {},
     "output_type": "execute_result"
    }
   ],
   "source": [
    "triplets = {frozenset([i, j, k]) for i in range(5) for j in range(i+1, 5) for k in range(j+1, 5)}\n",
    "triplets"
   ]
  },
  {
   "cell_type": "markdown",
   "metadata": {},
   "source": [
    "2.3"
   ]
  },
  {
   "cell_type": "code",
   "execution_count": 7,
   "metadata": {},
   "outputs": [
    {
     "data": {
      "text/plain": [
       "[{(0, 0)},\n",
       " {(0, 1), (1, 0)},\n",
       " {(0, 2), (2, 0)},\n",
       " {(0, 3), (3, 0)},\n",
       " {(1, 1)},\n",
       " {(1, 2), (2, 1)},\n",
       " {(1, 3), (3, 1)},\n",
       " {(2, 2)},\n",
       " {(2, 3), (3, 2)},\n",
       " {(3, 3)}]"
      ]
     },
     "execution_count": 7,
     "metadata": {},
     "output_type": "execute_result"
    }
   ],
   "source": [
    "lst1 = [{(i, j),(j,i)} for i in range(4) for j in range(i, 4, 1)]\n",
    "lst1"
   ]
  },
  {
   "cell_type": "code",
   "execution_count": 8,
   "metadata": {},
   "outputs": [
    {
     "data": {
      "text/plain": [
       "[{(0, 1), (1, 0)},\n",
       " {(0, 2), (2, 0)},\n",
       " {(0, 3), (3, 0)},\n",
       " {(1, 2), (2, 1)},\n",
       " {(1, 3), (3, 1)},\n",
       " {(2, 3), (3, 2)}]"
      ]
     },
     "execution_count": 8,
     "metadata": {},
     "output_type": "execute_result"
    }
   ],
   "source": [
    "lst2 = [{(i, j),(j,i)} for i in range(4) for j in range(i, 4, 1) if i !=j]\n",
    "lst2"
   ]
  },
  {
   "cell_type": "markdown",
   "metadata": {},
   "source": [
    "2.4"
   ]
  },
  {
   "cell_type": "code",
   "execution_count": 9,
   "metadata": {},
   "outputs": [
    {
     "name": "stdout",
     "output_type": "stream",
     "text": [
      "[(0, 0, 6), (1, 2, 3), (4, 1, 5)]\n",
      "[(1, 2, 3), (4, 1, 5), (0, 0, 6)]\n",
      "[(1, 2, 3), (4, 1, 5), (0, 0, 6)]\n"
     ]
    }
   ],
   "source": [
    "L = [(1, 2, 3), (4, 1, 5), (0, 0, 6)]\n",
    "L.sort(key=lambda x: x[0])\n",
    "print(L)\n",
    "L.sort(key=lambda x: x[2])\n",
    "print(L)\n",
    "L.sort(key=lambda x: x[1], reverse=True)\n",
    "print(L)"
   ]
  }
 ],
 "metadata": {
  "anaconda-cloud": {},
  "kernelspec": {
   "display_name": "Python 3",
   "language": "python",
   "name": "python3"
  },
  "language_info": {
   "codemirror_mode": {
    "name": "ipython",
    "version": 3
   },
   "file_extension": ".py",
   "mimetype": "text/x-python",
   "name": "python",
   "nbconvert_exporter": "python",
   "pygments_lexer": "ipython3",
   "version": "3.13.0"
  },
  "widgets": {
   "state": {},
   "version": "1.1.2"
  }
 },
 "nbformat": 4,
 "nbformat_minor": 2
}
