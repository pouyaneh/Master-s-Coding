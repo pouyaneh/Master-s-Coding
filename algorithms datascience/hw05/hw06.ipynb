{
 "cells": [
  {
   "cell_type": "markdown",
   "metadata": {},
   "source": [
    "# 3.8 Tutorial: Computing the Correlation Matrix"
   ]
  },
  {
   "cell_type": "code",
   "execution_count": 1,
   "metadata": {},
   "outputs": [],
   "source": [
    "import sys\n",
    "import os\n",
    "import importlib"
   ]
  },
  {
   "cell_type": "markdown",
   "metadata": {},
   "source": [
    "```python\n",
    "parentDir = ’/home/Algorithms/’\n",
    "if parentDir not in set(sys.path):\n",
    "sys.path.append(parentDir)\n",
    "print(sys.path)\n",
    "from ModuleDir import functions\n",
    "reload(functions)\n",
    "dir(functions)\n",
    "```"
   ]
  },
  {
   "cell_type": "markdown",
   "metadata": {},
   "source": [
    "step 3"
   ]
  },
  {
   "cell_type": "code",
   "execution_count": 2,
   "metadata": {},
   "outputs": [],
   "source": [
    "from Algorithms.ModuleDir.functions import fieldDictBuild\n",
    "fieldDict = fieldDictBuild()"
   ]
  },
  {
   "cell_type": "code",
   "execution_count": 3,
   "metadata": {},
   "outputs": [
    {
     "data": {
      "text/plain": [
       "{0: {'bmi': (862, 864), 'weight': (832, 841)},\n",
       " 1: {'bmi': (725, 730), 'weight': (686, 695)},\n",
       " 2: {'bmi': (933, 936), 'weight': (822, 831)},\n",
       " 3: {'bmi': (854, 857), 'weight': (745, 754)},\n",
       " 11: {'bmi': (1533, 1536),\n",
       "  'weight': (1475, 1484),\n",
       "  'income': (124, 125),\n",
       "  'education': 122},\n",
       " 12: {'bmi': (1644, 1647),\n",
       "  'weight': (1449, 1458),\n",
       "  'income': (116, 117),\n",
       "  'education': 114},\n",
       " 13: {'bmi': (2192, 2195),\n",
       "  'weight': (1953, 1962),\n",
       "  'income': (152, 153),\n",
       "  'education': 150},\n",
       " 14: {'bmi': (2247, 2250),\n",
       "  'weight': (2007, 2016),\n",
       "  'income': (152, 153),\n",
       "  'education': 150}}"
      ]
     },
     "execution_count": 3,
     "metadata": {},
     "output_type": "execute_result"
    }
   ],
   "source": [
    "fieldDict"
   ]
  },
  {
   "cell_type": "markdown",
   "metadata": {},
   "source": [
    "step 4"
   ]
  },
  {
   "cell_type": "markdown",
   "metadata": {},
   "source": [
    "```python\n",
    "path = r'Algorithms/Data/'\n",
    "fileList = os.listdir(path)\n",
    "for filename in fileList:\n",
    "    try:\n",
    "        shortYear = int(filename[6:8])\n",
    "        if shortYear < 11:\n",
    "            1/0\n",
    "        year = 2000 + shortYear\n",
    "        file = path + filename\n",
    "        fields = fieldDict[shortYear]\n",
    "    except(ValueError, ZeroDivisionError):\n",
    "        pass\n",
    "```"
   ]
  },
  {
   "cell_type": "markdown",
   "metadata": {},
   "source": [
    "step 5"
   ]
  },
  {
   "cell_type": "markdown",
   "metadata": {},
   "source": [
    "```python\n",
    "path = r'Algorithms/Data/'\n",
    "fileList = os.listdir(path)\n",
    "for filename in fileList:\n",
    "    try:\n",
    "        shortYear = int(filename[6:8])\n",
    "        if shortYear < 11:\n",
    "            1/0\n",
    "        year = 2000 + shortYear\n",
    "        file = path + filename\n",
    "        fields = fieldDict[shortYear]\n",
    "        sInc, eInc = fields['income']\n",
    "        sBMI, eBMI = fields['bmi']\n",
    "        fEduc = fields['education']\n",
    "    except(ValueError, ZeroDivisionError):\n",
    "        pass\n",
    "```"
   ]
  },
  {
   "cell_type": "markdown",
   "metadata": {},
   "source": [
    "step 6"
   ]
  },
  {
   "cell_type": "markdown",
   "metadata": {},
   "source": [
    "```python\n",
    "path = r'Algorithms/Data/'\n",
    "fileList = os.listdir(path)\n",
    "for filename in fileList:\n",
    "    try:\n",
    "        shortYear = int(filename[6:8])\n",
    "        if shortYear < 11:\n",
    "            1/0\n",
    "        year = 2000 + shortYear\n",
    "        file = path + filename\n",
    "        fields = fieldDict[shortYear]\n",
    "        sInc, eInc = fields['income']\n",
    "        sBMI, eBMI = fields['bmi']\n",
    "        fEduc = fields['education']\n",
    "        with open(file, encoding = \"latin-1\") as f:\n",
    "            for record in f:\n",
    "                print(record[:10])\n",
    "    except(ValueError, ZeroDivisionError):\n",
    "        pass\n",
    "```"
   ]
  },
  {
   "cell_type": "markdown",
   "metadata": {},
   "source": [
    "step 7"
   ]
  },
  {
   "cell_type": "markdown",
   "metadata": {},
   "source": [
    "```python\n",
    "path = r'Algorithms/Data/'\n",
    "fileList = os.listdir(path)\n",
    "for filename in fileList:\n",
    "    try:\n",
    "        shortYear = int(filename[6:8])\n",
    "        if shortYear < 11:\n",
    "            1/0\n",
    "        year = 2000 + shortYear\n",
    "        file = path + filename\n",
    "        fields = fieldDict[shortYear]\n",
    "        sInc, eInc = fields['income']\n",
    "        sBMI, eBMI = fields['bmi']\n",
    "        fEduc = fields['education']\n",
    "        with open(file, encoding = \"latin-1\") as f:\n",
    "            for record in f:\n",
    "                print(record[:10])\n",
    "                incomeString = record[sInc-1:eInc]\n",
    "                if incomeString != ' ':\n",
    "                    income = int(incomeString)\n",
    "                else:\n",
    "                    income = 9\n",
    "    except(ValueError, ZeroDivisionError):\n",
    "        pass\n",
    "```"
   ]
  },
  {
   "cell_type": "markdown",
   "metadata": {},
   "source": [
    "step 8"
   ]
  },
  {
   "cell_type": "code",
   "execution_count": 4,
   "metadata": {},
   "outputs": [],
   "source": [
    "from Algorithms.ModuleDir.functions import getIncome"
   ]
  },
  {
   "cell_type": "markdown",
   "metadata": {},
   "source": [
    "```python\n",
    "path = r'Algorithms/Data/'\n",
    "fileList = os.listdir(path)\n",
    "for filename in fileList:\n",
    "    try:\n",
    "        shortYear = int(filename[6:8])\n",
    "        if shortYear < 11:\n",
    "            1/0\n",
    "        year = 2000 + shortYear\n",
    "        file = path + filename\n",
    "        fields = fieldDict[shortYear]\n",
    "        sInc, eInc = fields['income']\n",
    "        sBMI, eBMI = fields['bmi']\n",
    "        fEduc = fields['education']\n",
    "        with open(file, encoding = \"latin-1\") as f:\n",
    "            for record in f:\n",
    "                #print(record[:10])\n",
    "                income = getIncome(record[sInc-1:eInc])\n",
    "    except(ValueError, ZeroDivisionError):\n",
    "        pass\n",
    "```"
   ]
  },
  {
   "cell_type": "markdown",
   "metadata": {},
   "source": [
    "step 9"
   ]
  },
  {
   "cell_type": "markdown",
   "metadata": {},
   "source": [
    "```python\n",
    "path = r'Algorithms/Data/'\n",
    "fileList = os.listdir(path)\n",
    "for filename in fileList:\n",
    "    try:\n",
    "        shortYear = int(filename[6:8])\n",
    "        if shortYear < 11:\n",
    "            1/0\n",
    "        year = 2000 + shortYear\n",
    "        file = path + filename\n",
    "        fields = fieldDict[shortYear]\n",
    "        sInc, eInc = fields['income']\n",
    "        sBMI, eBMI = fields['bmi']\n",
    "        fEduc = fields['education']\n",
    "        with open(file, encoding = \"latin-1\") as f:\n",
    "            for record in f:\n",
    "                #print(record[:10])\n",
    "                income = getIncome(record[sInc-1:eInc])\n",
    "                education_char = record[fEduc-1]\n",
    "                if education_char != ' ':\n",
    "                    income = education_char\n",
    "                else:\n",
    "                    income = None\n",
    "    except(ValueError, ZeroDivisionError):\n",
    "        pass\n",
    "```"
   ]
  },
  {
   "cell_type": "markdown",
   "metadata": {},
   "source": [
    "step 10"
   ]
  },
  {
   "cell_type": "code",
   "execution_count": 5,
   "metadata": {},
   "outputs": [],
   "source": [
    "from Algorithms.ModuleDir.functions import getEducation"
   ]
  },
  {
   "cell_type": "markdown",
   "metadata": {},
   "source": [
    "```python\n",
    "path = r'Algorithms/Data/'\n",
    "fileList = os.listdir(path)\n",
    "for filename in fileList:\n",
    "    try:\n",
    "        shortYear = int(filename[6:8])\n",
    "        if shortYear < 11:\n",
    "            1/0\n",
    "        year = 2000 + shortYear\n",
    "        file = path + filename\n",
    "        fields = fieldDict[shortYear]\n",
    "        sInc, eInc = fields['income']\n",
    "        sBMI, eBMI = fields['bmi']\n",
    "        fEduc = fields['education']\n",
    "        with open(file, encoding = \"latin-1\") as f:\n",
    "            for record in f:\n",
    "                #print(record[:10])\n",
    "                income = getIncome(record[sInc-1:eInc])\n",
    "                education = getEducation(record[fEduc-1])\n",
    "    except(ValueError, ZeroDivisionError):\n",
    "        pass\n",
    "```"
   ]
  },
  {
   "cell_type": "markdown",
   "metadata": {},
   "source": [
    "step 11, 12"
   ]
  },
  {
   "cell_type": "code",
   "execution_count": 6,
   "metadata": {},
   "outputs": [],
   "source": [
    "from Algorithms.ModuleDir.functions import convertBMI"
   ]
  },
  {
   "cell_type": "markdown",
   "metadata": {},
   "source": [
    "```python\n",
    "outCounter = 0\n",
    "n = 0\n",
    "\n",
    "path = r'Algorithms/Data/'\n",
    "fileList = os.listdir(path)\n",
    "for filename in fileList:\n",
    "    try:\n",
    "        shortYear = int(filename[6:8])\n",
    "        if shortYear < 11:\n",
    "            1/0\n",
    "        year = 2000 + shortYear\n",
    "        file = path + filename\n",
    "        fields = fieldDict[shortYear]\n",
    "        \n",
    "        sInc, eInc = fields['income']\n",
    "        sBMI, eBMI = fields['bmi']\n",
    "        fEduc = fields['education']\n",
    "        \n",
    "        print(file,sInc, eInc,sBMI, eBMI, fEduc)\n",
    "        \n",
    "        with open(file, encoding = \"latin-1\") as f:\n",
    "            for record in f:\n",
    "                #print(record[:10])\n",
    "                incomeString = record[sInc-1:eInc]\n",
    "                try:\n",
    "                    income = getIncome(incomeString)\n",
    "                except ValueError:\n",
    "                    income = 0\n",
    "                education = getEducation(record[fEduc-1])\n",
    "                \n",
    "                bmiString = record[sBMI-1:eBMI]\n",
    "                try:\n",
    "                    bmi = convertBMI(bmiString, shortYear)\n",
    "                except ValueError:\n",
    "                    bmi = 0\n",
    "                n += 1\n",
    "                if bmi < 10 or bmi > 75:\n",
    "                    outCounter += 1\n",
    "                elif income == 0:\n",
    "                    outCounter += 1\n",
    "    except(ZeroDivisionError):\n",
    "        pass\n",
    "print('n = ', n, ', out = ', outCounter)\n",
    "```"
   ]
  },
  {
   "cell_type": "markdown",
   "metadata": {},
   "source": [
    "step 13, 14, 15"
   ]
  },
  {
   "cell_type": "code",
   "execution_count": 7,
   "metadata": {},
   "outputs": [],
   "source": [
    "import numpy as np"
   ]
  },
  {
   "cell_type": "markdown",
   "metadata": {},
   "source": [
    "```python\n",
    "outCounter = 0\n",
    "m = 0\n",
    "q = 4\n",
    "A = np.zeros(shape=(q, q))\n",
    "\n",
    "path = r'Algorithms/Data/'\n",
    "fileList = os.listdir(path)\n",
    "for filename in fileList:\n",
    "    try:\n",
    "        shortYear = int(filename[6:8])\n",
    "        if shortYear < 11:\n",
    "            1/0\n",
    "        year = 2000 + shortYear\n",
    "        file = path + filename\n",
    "        fields = fieldDict[shortYear]\n",
    "        \n",
    "        sInc, eInc = fields['income']\n",
    "        sBMI, eBMI = fields['bmi']\n",
    "        fEduc = fields['education']\n",
    "        \n",
    "        print(file,sInc, eInc,sBMI, eBMI, fEduc)\n",
    "        \n",
    "        with open(file, encoding = \"latin-1\") as f:\n",
    "            for record in f:\n",
    "                #print(record[:10])\n",
    "                incomeString = record[sInc-1:eInc]\n",
    "                try:\n",
    "                    income = getIncome(incomeString)\n",
    "                except ValueError:\n",
    "                    income = 0\n",
    "                \n",
    "                education = getEducation(record[fEduc-1])\n",
    "                \n",
    "                bmiString = record[sBMI-1:eBMI]\n",
    "                try:\n",
    "                    bmi = convertBMI(bmiString, shortYear)\n",
    "                except ValueError:\n",
    "                    bmi = 0\n",
    "                    \n",
    "                if education < 9 and income < 9 and 0 < bmi < 99:\n",
    "                    w = np.matrix([1,income,bmi,education]).T\n",
    "                    \n",
    "                    A += w*w.T\n",
    "                    \n",
    "                    n = A[0,0] # Number of valid observations\n",
    "                    \n",
    "                m += 1\n",
    "                if bmi < 10 or bmi > 75:\n",
    "                    outCounter += 1\n",
    "                elif income >= 9 or education >= 9:\n",
    "                    outCounter += 1\n",
    "    except(ZeroDivisionError):\n",
    "        pass\n",
    "print('n = ', m, ', out = ', outCounter)\n",
    "```"
   ]
  },
  {
   "cell_type": "markdown",
   "metadata": {},
   "source": [
    "step 16, 17, 18, 19"
   ]
  },
  {
   "cell_type": "markdown",
   "metadata": {},
   "source": [
    "```python\n",
    "outCounter = 0\n",
    "m = 0\n",
    "q = 4\n",
    "A = np.zeros(shape=(q, q))\n",
    "\n",
    "path = r'Algorithms/Data/'\n",
    "fileList = os.listdir(path)\n",
    "for filename in fileList:\n",
    "    try:\n",
    "        shortYear = int(filename[6:8])\n",
    "        if shortYear < 11:\n",
    "            1/0\n",
    "        year = 2000 + shortYear\n",
    "        file = path + filename\n",
    "        fields = fieldDict[shortYear]\n",
    "        \n",
    "        sInc, eInc = fields['income']\n",
    "        sBMI, eBMI = fields['bmi']\n",
    "        fEduc = fields['education']\n",
    "        \n",
    "        print(file,sInc, eInc,sBMI, eBMI, fEduc)\n",
    "        \n",
    "        with open(file, encoding = \"latin-1\") as f:\n",
    "            for record in f:\n",
    "                #print(record[:10])\n",
    "                incomeString = record[sInc-1:eInc]\n",
    "                try:\n",
    "                    income = getIncome(incomeString)\n",
    "                except ValueError:\n",
    "                    income = 9\n",
    "                \n",
    "                education = getEducation(record[fEduc-1])\n",
    "                \n",
    "                bmiString = record[sBMI-1:eBMI]\n",
    "                try:\n",
    "                    bmi = convertBMI(bmiString, shortYear)\n",
    "                except ValueError:\n",
    "                    bmi = 0\n",
    "                    \n",
    "                if education < 9 and income < 9 and 0 < bmi < 99:\n",
    "                    w = np.matrix([1,income,bmi,education]).T\n",
    "                    \n",
    "                    A += w*w.T\n",
    "                    \n",
    "                    n = A[0,0] # Number of valid observations\n",
    "                    \n",
    "                    if n % 10000 == 0:\n",
    "                        M = A[1:,1:]\n",
    "                        \n",
    "                        mean = np.matrix(A[1:,0]/n).T\n",
    "                        \n",
    "                        SigmaHat = M/n - mean*mean.T\n",
    "                        \n",
    "                        s = np.sqrt(np.diag(SigmaHat))      # Extract the diagonal from S and\n",
    "                                                            # compute the square roots.\n",
    "                        D = np.diag(1/s)                    # Create a diagonal matrix.\n",
    "                        \n",
    "                        R = D @ SigmaHat @ D\n",
    "                m += 1\n",
    "                if bmi < 10 or bmi > 75:\n",
    "                    outCounter += 1\n",
    "                elif income >= 9 or education >= 9:\n",
    "                    outCounter += 1\n",
    "    except(ZeroDivisionError):\n",
    "        pass\n",
    "print('rocessed observations = ', m, ', Outliers = ', outCounter)\n",
    "```"
   ]
  },
  {
   "cell_type": "markdown",
   "metadata": {},
   "source": [
    "step 20, ..."
   ]
  },
  {
   "cell_type": "code",
   "execution_count": 28,
   "metadata": {},
   "outputs": [
    {
     "name": "stdout",
     "output_type": "stream",
     "text": [
      "Algorithms/Data/LLCP2011.ASC 124 125 1533 1536 122\n",
      "Algorithms/Data/LLCP2012.ASC 116 117 1644 1647 114\n",
      "Algorithms/Data/LLCP2013.ASC 152 153 2192 2195 150\n",
      "Algorithms/Data/LLCP2014.ASC 152 153 2247 2250 150\n"
     ]
    }
   ],
   "source": [
    "outCounter = 0\n",
    "m = 0\n",
    "q = 4\n",
    "A = np.zeros(shape=(q, q))\n",
    "R = 0\n",
    "\n",
    "path = r'Algorithms/Data/'\n",
    "fileList = os.listdir(path)\n",
    "for filename in fileList:\n",
    "    try:\n",
    "        shortYear = int(filename[6:8])\n",
    "        if shortYear < 11:\n",
    "            1/0\n",
    "        year = 2000 + shortYear\n",
    "        file = path + filename\n",
    "        fields = fieldDict[shortYear]\n",
    "        \n",
    "        sInc, eInc = fields['income']\n",
    "        sBMI, eBMI = fields['bmi']\n",
    "        fEduc = fields['education']\n",
    "        \n",
    "        print(file,sInc, eInc,sBMI, eBMI, fEduc)\n",
    "        \n",
    "        with open(file, encoding = \"latin-1\") as f:\n",
    "            for record in f:\n",
    "                #print(record[:10])\n",
    "                incomeString = record[sInc-1:eInc]\n",
    "                try:\n",
    "                    income = getIncome(incomeString)\n",
    "                except ValueError:\n",
    "                    income = 9\n",
    "                \n",
    "                education = getEducation(record[fEduc-1])\n",
    "                \n",
    "                bmiString = record[sBMI-1:eBMI]\n",
    "                try:\n",
    "                    bmi = convertBMI(bmiString, shortYear)\n",
    "                except ValueError:\n",
    "                    bmi = 0\n",
    "                    \n",
    "                if education < 9 and income < 9 and 0 < bmi < 99:\n",
    "                    w = np.matrix([1,income,bmi,education]).T\n",
    "                    \n",
    "                    A += w*w.T\n",
    "                    \n",
    "                    n = int(A[0, 0]) # Number of valid observations\n",
    "                    \n",
    "                    if n % 10000 == 0:\n",
    "                        M = A[1:,1:]\n",
    "                        \n",
    "                        mean = np.matrix(A[1:,0]/n).T\n",
    "                        \n",
    "                        SigmaHat = M/n - mean*mean.T\n",
    "                        \n",
    "                        s = np.sqrt(np.diag(SigmaHat))      # Extract the diagonal from S and\n",
    "                                                            # compute the square roots.\n",
    "                        D = np.diag(1/s)                    # Create a diagonal matrix.\n",
    "                        \n",
    "                        R = D @ SigmaHat @ D\n",
    "                        \n",
    "                m += 1\n",
    "                if bmi < 10 or bmi > 75:\n",
    "                    outCounter += 1\n",
    "                elif income >= 9 or education >= 9:\n",
    "                    outCounter += 1\n",
    "    except(ZeroDivisionError):\n",
    "        pass"
   ]
  },
  {
   "cell_type": "code",
   "execution_count": 29,
   "metadata": {},
   "outputs": [
    {
     "name": "stdout",
     "output_type": "stream",
     "text": [
      "R is valid.\n",
      "rocessed observations =  1938591 , Outliers =  351119\n"
     ]
    }
   ],
   "source": [
    "if np.allclose(np.diag(R), 1) and np.all((-1 <= R) & (R <= 1)):\n",
    "    print(\"R is valid.\")\n",
    "else:\n",
    "    print(\"R is invalid.\")\n",
    "print('rocessed observations = ', m, ', Outliers = ', outCounter)"
   ]
  },
  {
   "cell_type": "code",
   "execution_count": 30,
   "metadata": {},
   "outputs": [
    {
     "name": "stdout",
     "output_type": "stream",
     "text": [
      "[[ 1.         -0.08574802  0.45756531]\n",
      " [-0.08574802  1.         -0.09723784]\n",
      " [ 0.45756531 -0.09723784  1.        ]]\n"
     ]
    }
   ],
   "source": [
    "print(R)"
   ]
  },
  {
   "cell_type": "code",
   "execution_count": 35,
   "metadata": {},
   "outputs": [],
   "source": [
    "import pandas as pd\n",
    "\n",
    "columns = [\"Income\", \"Body mass index\", \"Education\"]\n",
    "rows = [\"Income\", \"Body mass index\", \"Education\"]\n",
    "\n",
    "df_R = pd.DataFrame(R, columns=columns, index=rows)\n",
    "\n",
    "df_R.to_csv('correlation_matrix.csv', float_format='%.3f')"
   ]
  },
  {
   "cell_type": "code",
   "execution_count": 36,
   "metadata": {},
   "outputs": [
    {
     "data": {
      "text/html": [
       "<div>\n",
       "<style scoped>\n",
       "    .dataframe tbody tr th:only-of-type {\n",
       "        vertical-align: middle;\n",
       "    }\n",
       "\n",
       "    .dataframe tbody tr th {\n",
       "        vertical-align: top;\n",
       "    }\n",
       "\n",
       "    .dataframe thead th {\n",
       "        text-align: right;\n",
       "    }\n",
       "</style>\n",
       "<table border=\"1\" class=\"dataframe\">\n",
       "  <thead>\n",
       "    <tr style=\"text-align: right;\">\n",
       "      <th></th>\n",
       "      <th>Income</th>\n",
       "      <th>Body mass index</th>\n",
       "      <th>Education</th>\n",
       "    </tr>\n",
       "  </thead>\n",
       "  <tbody>\n",
       "    <tr>\n",
       "      <th>Income</th>\n",
       "      <td>1.000</td>\n",
       "      <td>-0.086</td>\n",
       "      <td>0.458</td>\n",
       "    </tr>\n",
       "    <tr>\n",
       "      <th>Body mass index</th>\n",
       "      <td>-0.086</td>\n",
       "      <td>1.000</td>\n",
       "      <td>-0.097</td>\n",
       "    </tr>\n",
       "    <tr>\n",
       "      <th>Education</th>\n",
       "      <td>0.458</td>\n",
       "      <td>-0.097</td>\n",
       "      <td>1.000</td>\n",
       "    </tr>\n",
       "  </tbody>\n",
       "</table>\n",
       "</div>"
      ],
      "text/plain": [
       "                 Income  Body mass index  Education\n",
       "Income            1.000           -0.086      0.458\n",
       "Body mass index  -0.086            1.000     -0.097\n",
       "Education         0.458           -0.097      1.000"
      ]
     },
     "execution_count": 36,
     "metadata": {},
     "output_type": "execute_result"
    }
   ],
   "source": [
    "df_R = pd.read_csv('correlation_matrix.csv', index_col=0)\n",
    "\n",
    "df_R"
   ]
  }
 ],
 "metadata": {
  "kernelspec": {
   "display_name": "Python Kernel",
   "language": "python",
   "name": "python_kernel"
  },
  "language_info": {
   "codemirror_mode": {
    "name": "ipython",
    "version": 3
   },
   "file_extension": ".py",
   "mimetype": "text/x-python",
   "name": "python",
   "nbconvert_exporter": "python",
   "pygments_lexer": "ipython3",
   "version": "3.13.0"
  }
 },
 "nbformat": 4,
 "nbformat_minor": 2
}
